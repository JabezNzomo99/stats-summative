{
 "cells": [
  {
   "cell_type": "code",
   "execution_count": 2,
   "metadata": {},
   "outputs": [],
   "source": [
    "# Add imports\n",
    "import pandas as pd\n",
    "from pathlib import Path\n",
    "import matplotlib.pyplot as plt\n",
    "import seaborn as sns\n",
    "import pingouin as pg\n",
    "import warnings\n",
    "from sklearn.preprocessing import StandardScaler\n",
    "import statsmodels.api as sm\n",
    "import statsmodels.formula.api as smf\n",
    "from linearmodels import PanelOLS\n",
    "from sklearn.preprocessing import LabelEncoder"
   ]
  },
  {
   "cell_type": "code",
   "execution_count": 3,
   "metadata": {},
   "outputs": [],
   "source": [
    "# Set up data directory\n",
    "datadir = Path.cwd() / \"data\""
   ]
  },
  {
   "cell_type": "code",
   "execution_count": 4,
   "metadata": {},
   "outputs": [
    {
     "name": "stderr",
     "output_type": "stream",
     "text": [
      "/var/folders/pz/qy3yq1t97s7g1m5s3hbsqjpc0000gn/T/ipykernel_32418/1797500517.py:2: DtypeWarning: Columns (75,77,79,81,83,85,119,120,128,142,144,146,148,150,167,220,253,263,273,287,296,313,329,337,341,345,360,402,422,476,502,503,504,505,506,507,508,509,510,511,512,513,514,515,516,517,518,521,522,523,524,525,526,527,528,529,530,531,532,533,534,535,536,537,540,541,542,543,544,545,546,547,548,549,550,551,552,553,554,555,556,559,577,578,579,580,581,582,584,585,586,587,588,589,591,592,593,594,595,596,599,600,601,602,603,604,605,606,608,609,610,611,612,614,615,616,617,618,619,620,621,622,624,625,626,627,628,629,630,631,632,633,635,636,637,638,639,643,658,659,660,673,674,675,690,691,692,705,706,707,722,723,724,737,738,739,754,755,756,769,770,771,772,773,774,775,776,777,778,779,780,781,782,783,784,785,786,787,788,789,790,791,792,793,794,795,796,797,798,799,800,801,802,803,804,805,806,807,808,809,810,811,812,813,814,815,816,817,818,819,820,821,822,823,824,825,826,827,828,829,830,831,832,833,834,835,836,837,838,839,840,841,842,843,844,845,846,847,848,849,850,851,852,853,854,855,856,857,858,859,860,861,862,863,864,865,866,867,868,869,870,871,872,873,874,875,876,877,878,879,880,881,882,883,884,885,886,887,888,889,890,891,892,893,894,895,896,897,914,915,916,917,918,919,920,921,922,923,924,925,926,927,928,929,930,931,932,933,934,935,936,937,938,939,940,941,942,943,944,945,946,947,948,949,950,951,952,953,954,955,956,957,958,959,960,961,962,963,964,965,966,967,968,969,970,971,972,973,974,975,976,977,978,979,980,981,982,983,984,985,986,987,988,989,990,991,992,993,994,995,996,997,998,999,1000,1001,1002,1003,1004,1005,1006,1007,1008,1009,1010,1011,1012,1013,1014,1015,1016,1017,1018,1019,1020,1021,1022,1023,1024,1025,1026,1027,1028,1029,1030,1031,1032,1033,1034,1035,1036,1037,1038,1039,1259,1260,1261,1262,1263,1264,1265,1266,1267,1268,1269,1270,1271,1272,1273,1274,1275,1276,1277,1278,1279,1290,1292,1293,1294,1295,1296,1297,1298,1299,1300,1301,1302,1303,1304,1305,1306,1307,1308,1309,1310,1311,1312,1315,1323,1325,1326,1327,1328,1329,1330,1331,1332,1333,1334,1335,1336,1339,1347,1351,1359,1363,1371,1376,1384,1389,1397,1399,1407,1408,1416,1417,1418,1419,1420,1421,1422,1423,1424,1425,1428,1429,1430,1431,1432,1433,1434,1435,1436,1439,1440,1441,1442,1443,1444,1445,1446,1447,1449,1458,1459,1469,1472,1480,1482,1484,1490,1493,1501,1504,1505,1508,1511,1512,1515,1517,1518,1519,1520,1521,1522,1523,1524,1525,1526,1527,1528,1529,1530,1531,1532,1533,1534,1535,1536,1537,1538,1539,1540,1541,1542,1543,1544,1545,1546,1547,1548,1549,1550,1551,1552,1553,1554,1555,1556,1557,1558,1559,1560,1561,1562,1563,1564,1565,1566,1567,1568,1579,1580,1581,1582,1583,1584,1585,1588,1589,1590,1591,1592,1593,1596,1597,1598,1599,1600,1601,1604,1605,1606,1607,1608,1609,1612,1613,1614,1615,1616,1617,1622,1623,1624,1625,1626,1627,1628,1631,1637,1641,1642,1643,1644,1645,1646,1647,1648,1649,1650,1651,1664,1665,1666,1667,1668,1669,1670,1671,1673,1674,1675,1676,1677,1678,1679,1680,1682,1683,1684,1685,1686,1687,1688,1689,1691,1692,1693,1694,1695,1696,1697,1698,1700,1701,1702,1703,1704,1705,1706,1707,1709,1710,1711,1712,1713,1714,1715,1716,1718,1719,1720,1721,1722,1723,1724,1725,1726,1727,1728,1737,1738,1739,1740,1741,1742,1743,1744,1745,1746,1747,1748,1749,1750,1751,1752,1778,1779,1780,1781,1782,1783,1784,1785,1787,1819,1820,1821,1822,1823,1824,1825,1826,1827,1828,1829,1858,1861,1865,1874,1911,1920,1927,1936,1943,1952,1958,1967,1983,1990,1999,2018,2095,2097,2109,2110,2122,2129,2130,2137,2157,2164,2176,2184,2191,2198,2243,2258,2277,2308,2326,2380,2391,2393) have mixed types. Specify dtype option on import or set low_memory=False.\n",
      "  hh = pd.read_csv(datadir / \"hh.csv\")\n"
     ]
    }
   ],
   "source": [
    "#Read households data\n",
    "hh = pd.read_csv(datadir / \"hh.csv\")"
   ]
  },
  {
   "cell_type": "code",
   "execution_count": 5,
   "metadata": {},
   "outputs": [],
   "source": [
    "#Households columns of interest\n",
    "hh_columns = [\"hhid\",\"wave\", \"hhsize\",\"head_gender\",\"head_age\",\"s2_q19_floormat\",\"s2_q20_wallmat\",\"s2_q21a_powergrid\",\"s2_hasinternet\",\"s6_q1_soldasset\",\"s5_q38_worryfood\",\"s2_q9a_county\",\n",
    "\"s10_knowledge_1\", \"s10_knowledge_2\", \"s10_knowledge_3\", \"s10_knowledge_4\", \"s10_knowledge_5\", \"s10_knowledge_6\", \"s10_knowledge_7\", \"s10_knowledge_8\", \n",
    "\"s10_knowledge_9\", \"s10_knowledge_10\",\"s10_prevmeas_1\",\"s10_prevmeas_2\",\"s10_prevmeas_3\",\"s10_prevmeas_4\"\n",
    "]\n",
    "hh_df = hh[hh_columns]"
   ]
  },
  {
   "cell_type": "code",
   "execution_count": 6,
   "metadata": {},
   "outputs": [
    {
     "data": {
      "text/html": [
       "<div>\n",
       "<style scoped>\n",
       "    .dataframe tbody tr th:only-of-type {\n",
       "        vertical-align: middle;\n",
       "    }\n",
       "\n",
       "    .dataframe tbody tr th {\n",
       "        vertical-align: top;\n",
       "    }\n",
       "\n",
       "    .dataframe thead th {\n",
       "        text-align: right;\n",
       "    }\n",
       "</style>\n",
       "<table border=\"1\" class=\"dataframe\">\n",
       "  <thead>\n",
       "    <tr style=\"text-align: right;\">\n",
       "      <th></th>\n",
       "      <th>hhid</th>\n",
       "      <th>wave</th>\n",
       "      <th>hhsize</th>\n",
       "      <th>head_gender</th>\n",
       "      <th>head_age</th>\n",
       "      <th>s2_q19_floormat</th>\n",
       "      <th>s2_q20_wallmat</th>\n",
       "      <th>s2_q21a_powergrid</th>\n",
       "      <th>s2_hasinternet</th>\n",
       "      <th>s6_q1_soldasset</th>\n",
       "      <th>...</th>\n",
       "      <th>s10_knowledge_5</th>\n",
       "      <th>s10_knowledge_6</th>\n",
       "      <th>s10_knowledge_7</th>\n",
       "      <th>s10_knowledge_8</th>\n",
       "      <th>s10_knowledge_9</th>\n",
       "      <th>s10_knowledge_10</th>\n",
       "      <th>s10_prevmeas_1</th>\n",
       "      <th>s10_prevmeas_2</th>\n",
       "      <th>s10_prevmeas_3</th>\n",
       "      <th>s10_prevmeas_4</th>\n",
       "    </tr>\n",
       "  </thead>\n",
       "  <tbody>\n",
       "    <tr>\n",
       "      <th>0</th>\n",
       "      <td>1</td>\n",
       "      <td>1</td>\n",
       "      <td>1</td>\n",
       "      <td>0</td>\n",
       "      <td>28.0</td>\n",
       "      <td>8.0</td>\n",
       "      <td>12.0</td>\n",
       "      <td>1</td>\n",
       "      <td>NaN</td>\n",
       "      <td>1</td>\n",
       "      <td>...</td>\n",
       "      <td>NaN</td>\n",
       "      <td>NaN</td>\n",
       "      <td>NaN</td>\n",
       "      <td>NaN</td>\n",
       "      <td>NaN</td>\n",
       "      <td>NaN</td>\n",
       "      <td>NaN</td>\n",
       "      <td>NaN</td>\n",
       "      <td>NaN</td>\n",
       "      <td>NaN</td>\n",
       "    </tr>\n",
       "    <tr>\n",
       "      <th>1</th>\n",
       "      <td>1</td>\n",
       "      <td>5</td>\n",
       "      <td>1</td>\n",
       "      <td>0</td>\n",
       "      <td>28.0</td>\n",
       "      <td>8.0</td>\n",
       "      <td>12.0</td>\n",
       "      <td>1</td>\n",
       "      <td>1.0</td>\n",
       "      <td>1</td>\n",
       "      <td>...</td>\n",
       "      <td>0.0</td>\n",
       "      <td>0.0</td>\n",
       "      <td>0.0</td>\n",
       "      <td>1.0</td>\n",
       "      <td>0.0</td>\n",
       "      <td>0.0</td>\n",
       "      <td>3.0</td>\n",
       "      <td>3.0</td>\n",
       "      <td>3.0</td>\n",
       "      <td>3.0</td>\n",
       "    </tr>\n",
       "    <tr>\n",
       "      <th>2</th>\n",
       "      <td>3</td>\n",
       "      <td>1</td>\n",
       "      <td>3</td>\n",
       "      <td>1</td>\n",
       "      <td>55.0</td>\n",
       "      <td>8.0</td>\n",
       "      <td>12.0</td>\n",
       "      <td>0</td>\n",
       "      <td>NaN</td>\n",
       "      <td>1</td>\n",
       "      <td>...</td>\n",
       "      <td>NaN</td>\n",
       "      <td>NaN</td>\n",
       "      <td>NaN</td>\n",
       "      <td>NaN</td>\n",
       "      <td>NaN</td>\n",
       "      <td>NaN</td>\n",
       "      <td>NaN</td>\n",
       "      <td>NaN</td>\n",
       "      <td>NaN</td>\n",
       "      <td>NaN</td>\n",
       "    </tr>\n",
       "    <tr>\n",
       "      <th>3</th>\n",
       "      <td>3</td>\n",
       "      <td>2</td>\n",
       "      <td>1</td>\n",
       "      <td>1</td>\n",
       "      <td>55.0</td>\n",
       "      <td>8.0</td>\n",
       "      <td>NaN</td>\n",
       "      <td>0</td>\n",
       "      <td>NaN</td>\n",
       "      <td>1</td>\n",
       "      <td>...</td>\n",
       "      <td>NaN</td>\n",
       "      <td>NaN</td>\n",
       "      <td>NaN</td>\n",
       "      <td>NaN</td>\n",
       "      <td>NaN</td>\n",
       "      <td>NaN</td>\n",
       "      <td>NaN</td>\n",
       "      <td>NaN</td>\n",
       "      <td>NaN</td>\n",
       "      <td>NaN</td>\n",
       "    </tr>\n",
       "    <tr>\n",
       "      <th>4</th>\n",
       "      <td>3</td>\n",
       "      <td>3</td>\n",
       "      <td>3</td>\n",
       "      <td>1</td>\n",
       "      <td>56.0</td>\n",
       "      <td>8.0</td>\n",
       "      <td>NaN</td>\n",
       "      <td>0</td>\n",
       "      <td>NaN</td>\n",
       "      <td>1</td>\n",
       "      <td>...</td>\n",
       "      <td>NaN</td>\n",
       "      <td>NaN</td>\n",
       "      <td>NaN</td>\n",
       "      <td>NaN</td>\n",
       "      <td>NaN</td>\n",
       "      <td>NaN</td>\n",
       "      <td>NaN</td>\n",
       "      <td>NaN</td>\n",
       "      <td>NaN</td>\n",
       "      <td>NaN</td>\n",
       "    </tr>\n",
       "  </tbody>\n",
       "</table>\n",
       "<p>5 rows × 26 columns</p>\n",
       "</div>"
      ],
      "text/plain": [
       "   hhid  wave  hhsize  head_gender  head_age  s2_q19_floormat  s2_q20_wallmat  \\\n",
       "0     1     1       1            0      28.0              8.0            12.0   \n",
       "1     1     5       1            0      28.0              8.0            12.0   \n",
       "2     3     1       3            1      55.0              8.0            12.0   \n",
       "3     3     2       1            1      55.0              8.0             NaN   \n",
       "4     3     3       3            1      56.0              8.0             NaN   \n",
       "\n",
       "   s2_q21a_powergrid  s2_hasinternet s6_q1_soldasset  ...  s10_knowledge_5  \\\n",
       "0                  1             NaN               1  ...              NaN   \n",
       "1                  1             1.0               1  ...              0.0   \n",
       "2                  0             NaN               1  ...              NaN   \n",
       "3                  0             NaN               1  ...              NaN   \n",
       "4                  0             NaN               1  ...              NaN   \n",
       "\n",
       "   s10_knowledge_6  s10_knowledge_7  s10_knowledge_8  s10_knowledge_9  \\\n",
       "0              NaN              NaN              NaN              NaN   \n",
       "1              0.0              0.0              1.0              0.0   \n",
       "2              NaN              NaN              NaN              NaN   \n",
       "3              NaN              NaN              NaN              NaN   \n",
       "4              NaN              NaN              NaN              NaN   \n",
       "\n",
       "   s10_knowledge_10  s10_prevmeas_1  s10_prevmeas_2  s10_prevmeas_3  \\\n",
       "0               NaN             NaN             NaN             NaN   \n",
       "1               0.0             3.0             3.0             3.0   \n",
       "2               NaN             NaN             NaN             NaN   \n",
       "3               NaN             NaN             NaN             NaN   \n",
       "4               NaN             NaN             NaN             NaN   \n",
       "\n",
       "   s10_prevmeas_4  \n",
       "0             NaN  \n",
       "1             3.0  \n",
       "2             NaN  \n",
       "3             NaN  \n",
       "4             NaN  \n",
       "\n",
       "[5 rows x 26 columns]"
      ]
     },
     "execution_count": 6,
     "metadata": {},
     "output_type": "execute_result"
    }
   ],
   "source": [
    "hh_df.head()"
   ]
  },
  {
   "cell_type": "code",
   "execution_count": 7,
   "metadata": {},
   "outputs": [
    {
     "name": "stderr",
     "output_type": "stream",
     "text": [
      "/var/folders/pz/qy3yq1t97s7g1m5s3hbsqjpc0000gn/T/ipykernel_32418/3975215375.py:2: DtypeWarning: Columns (105,110,111) have mixed types. Specify dtype option on import or set low_memory=False.\n",
      "  hh_adult = pd.read_csv(datadir / \"hh_adult.csv\")\n"
     ]
    }
   ],
   "source": [
    "# Load data on household adults\n",
    "hh_adult = pd.read_csv(datadir / \"hh_adult.csv\")"
   ]
  },
  {
   "cell_type": "code",
   "execution_count": 8,
   "metadata": {},
   "outputs": [],
   "source": [
    "#Columns of interest for adults data\n",
    "hh_adult_columns = [\"wave\", \"weight\", \"hhid\", \"adult_id\", \"urban\",\"age\",\"gender\",\"ishead\",\"country_birth\",\"marital\",\"employed\",\"unemployed\",\"education_level\",\n",
    "\"wherefrom_county\",\"trust_gov\", \"trust_gov_resp\",\"sat_gov_resp\",\"healthcare_willing\",\"healthcare_able\",\"gov_assist\",\"covid_symptoms1_\",\"covid_symptoms2_\",\"covid_symptoms3_\",\"covid_symptoms4_\",\"covid_symptoms5_\",\"covid_symptoms6_\",\n",
    "\"covid_symptoms7_\",\"covid_symptoms8_\",\"covid_symptoms9_\",\"covid_symptoms10_\",\"covid_symptoms11_\",\"covid_symptoms12_\",\"covid_symptoms13_\",\"covid_symptoms14_\",\"covid_symptoms15_\",\n",
    "\"covid_symptoms16_\",\"covid_symptoms17_\",\"handwashing\", \"sanitizer\", \"no_physical\", \"use_mask\", \"use_gloves\",\"stay_home\", \"social_dist\",\"not_touch_face\",\"wash_hand_more\", \"avoid_contact_more\", \"avoid_groups_more\", \"avoid_travel\",\"avoid_crowds\",\"trust_people\"\n",
    "]"
   ]
  },
  {
   "cell_type": "code",
   "execution_count": 9,
   "metadata": {},
   "outputs": [],
   "source": [
    "# Filter columns\n",
    "hh_adult_df = hh_adult[hh_adult_columns]"
   ]
  },
  {
   "cell_type": "code",
   "execution_count": 10,
   "metadata": {},
   "outputs": [
    {
     "name": "stdout",
     "output_type": "stream",
     "text": [
      "<class 'pandas.core.frame.DataFrame'>\n",
      "RangeIndex: 96878 entries, 0 to 96877\n",
      "Data columns (total 51 columns):\n",
      " #   Column              Non-Null Count  Dtype  \n",
      "---  ------              --------------  -----  \n",
      " 0   wave                96878 non-null  int64  \n",
      " 1   weight              96878 non-null  float64\n",
      " 2   hhid                96878 non-null  int64  \n",
      " 3   adult_id            96878 non-null  int64  \n",
      " 4   urban               96878 non-null  int64  \n",
      " 5   age                 96233 non-null  float64\n",
      " 6   gender              96457 non-null  float64\n",
      " 7   ishead              96878 non-null  int64  \n",
      " 8   country_birth       26335 non-null  float64\n",
      " 9   marital             15470 non-null  float64\n",
      " 10  employed            83727 non-null  float64\n",
      " 11  unemployed          83727 non-null  float64\n",
      " 12  education_level     93964 non-null  float64\n",
      " 13  wherefrom_county    4526 non-null   float64\n",
      " 14  trust_gov           19980 non-null  float64\n",
      " 15  trust_gov_resp      19980 non-null  float64\n",
      " 16  sat_gov_resp        19903 non-null  float64\n",
      " 17  healthcare_willing  19980 non-null  float64\n",
      " 18  healthcare_able     19980 non-null  float64\n",
      " 19  gov_assist          19980 non-null  float64\n",
      " 20  covid_symptoms1_    4034 non-null   float64\n",
      " 21  covid_symptoms2_    4034 non-null   float64\n",
      " 22  covid_symptoms3_    4034 non-null   float64\n",
      " 23  covid_symptoms4_    4034 non-null   float64\n",
      " 24  covid_symptoms5_    4034 non-null   float64\n",
      " 25  covid_symptoms6_    4034 non-null   float64\n",
      " 26  covid_symptoms7_    4034 non-null   float64\n",
      " 27  covid_symptoms8_    4034 non-null   float64\n",
      " 28  covid_symptoms9_    4034 non-null   float64\n",
      " 29  covid_symptoms10_   4034 non-null   float64\n",
      " 30  covid_symptoms11_   4034 non-null   float64\n",
      " 31  covid_symptoms12_   4034 non-null   float64\n",
      " 32  covid_symptoms13_   4034 non-null   float64\n",
      " 33  covid_symptoms14_   4034 non-null   float64\n",
      " 34  covid_symptoms15_   4034 non-null   float64\n",
      " 35  covid_symptoms16_   4034 non-null   float64\n",
      " 36  covid_symptoms17_   4034 non-null   float64\n",
      " 37  handwashing         4034 non-null   float64\n",
      " 38  sanitizer           4034 non-null   float64\n",
      " 39  no_physical         4034 non-null   float64\n",
      " 40  use_mask            4034 non-null   float64\n",
      " 41  use_gloves          4034 non-null   float64\n",
      " 42  stay_home           4034 non-null   float64\n",
      " 43  social_dist         4034 non-null   float64\n",
      " 44  not_touch_face      4034 non-null   float64\n",
      " 45  wash_hand_more      35469 non-null  float64\n",
      " 46  avoid_contact_more  35478 non-null  float64\n",
      " 47  avoid_groups_more   35472 non-null  float64\n",
      " 48  avoid_travel        4034 non-null   float64\n",
      " 49  avoid_crowds        4034 non-null   float64\n",
      " 50  trust_people        19889 non-null  float64\n",
      "dtypes: float64(46), int64(5)\n",
      "memory usage: 37.7 MB\n"
     ]
    }
   ],
   "source": [
    "hh_adult_df.info()"
   ]
  },
  {
   "cell_type": "code",
   "execution_count": 11,
   "metadata": {},
   "outputs": [
    {
     "name": "stderr",
     "output_type": "stream",
     "text": [
      "/var/folders/pz/qy3yq1t97s7g1m5s3hbsqjpc0000gn/T/ipykernel_32418/463742501.py:4: SettingWithCopyWarning: \n",
      "A value is trying to be set on a copy of a slice from a DataFrame.\n",
      "Try using .loc[row_indexer,col_indexer] = value instead\n",
      "\n",
      "See the caveats in the documentation: https://pandas.pydata.org/pandas-docs/stable/user_guide/indexing.html#returning-a-view-versus-a-copy\n",
      "  hh_adult_df['age_group'] = pd.cut(hh_adult_df['age'], bins=bins, labels=labels, right=False)\n"
     ]
    }
   ],
   "source": [
    "# Add age brackets to dataset\n",
    "bins= [18,30,40,50,60,110]\n",
    "labels = ['Age 18-30','Age 31-40','Age 41-50','Age 51-60','Age 61 or above']\n",
    "hh_adult_df['age_group'] = pd.cut(hh_adult_df['age'], bins=bins, labels=labels, right=False)"
   ]
  },
  {
   "cell_type": "code",
   "execution_count": 12,
   "metadata": {},
   "outputs": [
    {
     "name": "stderr",
     "output_type": "stream",
     "text": [
      "/var/folders/pz/qy3yq1t97s7g1m5s3hbsqjpc0000gn/T/ipykernel_32418/1025823868.py:2: SettingWithCopyWarning: \n",
      "A value is trying to be set on a copy of a slice from a DataFrame.\n",
      "Try using .loc[row_indexer,col_indexer] = value instead\n",
      "\n",
      "See the caveats in the documentation: https://pandas.pydata.org/pandas-docs/stable/user_guide/indexing.html#returning-a-view-versus-a-copy\n",
      "  hh_adult_df['gender_label'] = hh_adult_df['gender'].replace({0:'Male',1:'Female'})\n"
     ]
    }
   ],
   "source": [
    "# Add gender labels\n",
    "hh_adult_df['gender_label'] = hh_adult_df['gender'].replace({0:'Male',1:'Female'})"
   ]
  },
  {
   "cell_type": "code",
   "execution_count": 13,
   "metadata": {},
   "outputs": [
    {
     "data": {
      "text/plain": [
       "96878"
      ]
     },
     "execution_count": 13,
     "metadata": {},
     "output_type": "execute_result"
    }
   ],
   "source": [
    "# number of individuals\n",
    "len(hh_adult_df)"
   ]
  },
  {
   "cell_type": "code",
   "execution_count": 14,
   "metadata": {},
   "outputs": [],
   "source": [
    " # As the goal is to measure responses from Kenayn citizens, only survey responses with country of birth coded as Kenya are included\n",
    "hh_adults_all_wvs = hh_adult_df"
   ]
  },
  {
   "cell_type": "code",
   "execution_count": 15,
   "metadata": {},
   "outputs": [
    {
     "data": {
      "text/plain": [
       "wave\n",
       "1    10374\n",
       "2    11492\n",
       "3    12054\n",
       "4    11483\n",
       "5    13653\n",
       "6    13634\n",
       "7    13160\n",
       "8    11028\n",
       "Name: adult_id, dtype: int64"
      ]
     },
     "execution_count": 15,
     "metadata": {},
     "output_type": "execute_result"
    }
   ],
   "source": [
    "hh_adults_all_wvs.groupby(\"wave\")[\"adult_id\"].agg(\"count\")"
   ]
  },
  {
   "cell_type": "code",
   "execution_count": 16,
   "metadata": {},
   "outputs": [
    {
     "data": {
      "text/plain": [
       "96878"
      ]
     },
     "execution_count": 16,
     "metadata": {},
     "output_type": "execute_result"
    }
   ],
   "source": [
    "#number of individuals after filtering only kenyan citizens\n",
    "len(hh_adults_all_wvs)"
   ]
  },
  {
   "cell_type": "code",
   "execution_count": 17,
   "metadata": {},
   "outputs": [
    {
     "name": "stdout",
     "output_type": "stream",
     "text": [
      "<class 'pandas.core.frame.DataFrame'>\n",
      "RangeIndex: 96878 entries, 0 to 96877\n",
      "Data columns (total 6 columns):\n",
      " #   Column     Non-Null Count  Dtype   \n",
      "---  ------     --------------  -----   \n",
      " 0   gender     96457 non-null  float64 \n",
      " 1   age        96233 non-null  float64 \n",
      " 2   urban      96878 non-null  int64   \n",
      " 3   employed   83727 non-null  float64 \n",
      " 4   ishead     96878 non-null  int64   \n",
      " 5   age_group  96221 non-null  category\n",
      "dtypes: category(1), float64(3), int64(2)\n",
      "memory usage: 3.8 MB\n"
     ]
    }
   ],
   "source": [
    "hh_adults_all_wvs[[\"gender\", \"age\", \"urban\", \"employed\", \"ishead\",\"age_group\"]].info()"
   ]
  },
  {
   "cell_type": "code",
   "execution_count": 18,
   "metadata": {},
   "outputs": [
    {
     "data": {
      "text/html": [
       "<div>\n",
       "<style scoped>\n",
       "    .dataframe tbody tr th:only-of-type {\n",
       "        vertical-align: middle;\n",
       "    }\n",
       "\n",
       "    .dataframe tbody tr th {\n",
       "        vertical-align: top;\n",
       "    }\n",
       "\n",
       "    .dataframe thead th {\n",
       "        text-align: right;\n",
       "    }\n",
       "</style>\n",
       "<table border=\"1\" class=\"dataframe\">\n",
       "  <thead>\n",
       "    <tr style=\"text-align: right;\">\n",
       "      <th></th>\n",
       "      <th>gender</th>\n",
       "      <th>age</th>\n",
       "      <th>urban</th>\n",
       "      <th>employed</th>\n",
       "      <th>ishead</th>\n",
       "    </tr>\n",
       "  </thead>\n",
       "  <tbody>\n",
       "    <tr>\n",
       "      <th>count</th>\n",
       "      <td>96457.000000</td>\n",
       "      <td>96233.000000</td>\n",
       "      <td>96878.000000</td>\n",
       "      <td>83727.000000</td>\n",
       "      <td>96878.000000</td>\n",
       "    </tr>\n",
       "    <tr>\n",
       "      <th>mean</th>\n",
       "      <td>0.521362</td>\n",
       "      <td>37.036786</td>\n",
       "      <td>0.520531</td>\n",
       "      <td>0.700001</td>\n",
       "      <td>0.415285</td>\n",
       "    </tr>\n",
       "    <tr>\n",
       "      <th>std</th>\n",
       "      <td>0.499546</td>\n",
       "      <td>15.222959</td>\n",
       "      <td>0.499581</td>\n",
       "      <td>0.458260</td>\n",
       "      <td>0.492774</td>\n",
       "    </tr>\n",
       "    <tr>\n",
       "      <th>min</th>\n",
       "      <td>0.000000</td>\n",
       "      <td>18.000000</td>\n",
       "      <td>0.000000</td>\n",
       "      <td>0.000000</td>\n",
       "      <td>0.000000</td>\n",
       "    </tr>\n",
       "    <tr>\n",
       "      <th>25%</th>\n",
       "      <td>0.000000</td>\n",
       "      <td>25.000000</td>\n",
       "      <td>0.000000</td>\n",
       "      <td>0.000000</td>\n",
       "      <td>0.000000</td>\n",
       "    </tr>\n",
       "    <tr>\n",
       "      <th>50%</th>\n",
       "      <td>1.000000</td>\n",
       "      <td>34.000000</td>\n",
       "      <td>1.000000</td>\n",
       "      <td>1.000000</td>\n",
       "      <td>0.000000</td>\n",
       "    </tr>\n",
       "    <tr>\n",
       "      <th>75%</th>\n",
       "      <td>1.000000</td>\n",
       "      <td>46.000000</td>\n",
       "      <td>1.000000</td>\n",
       "      <td>1.000000</td>\n",
       "      <td>1.000000</td>\n",
       "    </tr>\n",
       "    <tr>\n",
       "      <th>max</th>\n",
       "      <td>1.000000</td>\n",
       "      <td>110.000000</td>\n",
       "      <td>1.000000</td>\n",
       "      <td>1.000000</td>\n",
       "      <td>1.000000</td>\n",
       "    </tr>\n",
       "  </tbody>\n",
       "</table>\n",
       "</div>"
      ],
      "text/plain": [
       "             gender           age         urban      employed        ishead\n",
       "count  96457.000000  96233.000000  96878.000000  83727.000000  96878.000000\n",
       "mean       0.521362     37.036786      0.520531      0.700001      0.415285\n",
       "std        0.499546     15.222959      0.499581      0.458260      0.492774\n",
       "min        0.000000     18.000000      0.000000      0.000000      0.000000\n",
       "25%        0.000000     25.000000      0.000000      0.000000      0.000000\n",
       "50%        1.000000     34.000000      1.000000      1.000000      0.000000\n",
       "75%        1.000000     46.000000      1.000000      1.000000      1.000000\n",
       "max        1.000000    110.000000      1.000000      1.000000      1.000000"
      ]
     },
     "execution_count": 18,
     "metadata": {},
     "output_type": "execute_result"
    }
   ],
   "source": [
    "hh_adults_all_wvs[[\"gender\", \"age\", \"urban\", \"employed\", \"ishead\",\"age_group\"]].describe()"
   ]
  },
  {
   "cell_type": "code",
   "execution_count": 19,
   "metadata": {},
   "outputs": [
    {
     "data": {
      "text/plain": [
       "age_group\n",
       "Age 18-30          37.516258\n",
       "Age 31-40          24.492661\n",
       "Age 41-50          16.729288\n",
       "Age 61 or above    10.303681\n",
       "Age 51-60          10.279940\n",
       "Name: age, dtype: float64"
      ]
     },
     "execution_count": 19,
     "metadata": {},
     "output_type": "execute_result"
    }
   ],
   "source": [
    "# Age group proportions\n",
    "hh_adults_all_wvs.groupby([\"age_group\"])[\"age\"].agg('count').map(lambda count : 100 * count/len(hh_adults_all_wvs)).sort_values(ascending=False)"
   ]
  },
  {
   "cell_type": "markdown",
   "metadata": {},
   "source": [
    "## Variable Construction"
   ]
  },
  {
   "cell_type": "markdown",
   "metadata": {},
   "source": [
    "### Trust in government"
   ]
  },
  {
   "cell_type": "code",
   "execution_count": 20,
   "metadata": {},
   "outputs": [
    {
     "name": "stdout",
     "output_type": "stream",
     "text": [
      "<class 'pandas.core.frame.DataFrame'>\n",
      "RangeIndex: 96878 entries, 0 to 96877\n",
      "Data columns (total 6 columns):\n",
      " #   Column              Non-Null Count  Dtype  \n",
      "---  ------              --------------  -----  \n",
      " 0   trust_gov           19980 non-null  float64\n",
      " 1   trust_gov_resp      19980 non-null  float64\n",
      " 2   healthcare_willing  19980 non-null  float64\n",
      " 3   healthcare_able     19980 non-null  float64\n",
      " 4   gov_assist          19980 non-null  float64\n",
      " 5   sat_gov_resp        19903 non-null  float64\n",
      "dtypes: float64(6)\n",
      "memory usage: 4.4 MB\n"
     ]
    }
   ],
   "source": [
    "# Check for nulls on other trust indicators \n",
    "# The Government is trustworthy in the way it manages the Covid crisis (trust_gov_resp)\n",
    "# Are you satisfied with the government's response to the coronavirus crisis? (sat_gov_resp)\n",
    "# The Govt. is willing to provide healthcare to address the Covid crisis (healthcare_willing)\n",
    "# The Govt. is able to provide healthcare to address the Covid crisis (healthcare_able)\n",
    "# The Govt. is able to provide enough assistance in response to the Covid crisis (gov_assist)\n",
    "trust_indidcators = [\"trust_gov\",\"trust_gov_resp\",\"healthcare_willing\",\"healthcare_able\",\"gov_assist\",\"sat_gov_resp\"]\n",
    "hh_adults_all_wvs[trust_indidcators].info()"
   ]
  },
  {
   "cell_type": "code",
   "execution_count": 21,
   "metadata": {},
   "outputs": [
    {
     "name": "stderr",
     "output_type": "stream",
     "text": [
      "/var/folders/pz/qy3yq1t97s7g1m5s3hbsqjpc0000gn/T/ipykernel_32418/676028434.py:2: SettingWithCopyWarning: \n",
      "A value is trying to be set on a copy of a slice from a DataFrame\n",
      "\n",
      "See the caveats in the documentation: https://pandas.pydata.org/pandas-docs/stable/user_guide/indexing.html#returning-a-view-versus-a-copy\n",
      "  hh_adults_all_wvs.dropna(subset=trust_indidcators, inplace=True, how='all')\n"
     ]
    }
   ],
   "source": [
    "#Based on the observarions above it seems like the data it is inline with the survey study- to that end, i drop the null columns\n",
    "hh_adults_all_wvs.dropna(subset=trust_indidcators, inplace=True, how='all')"
   ]
  },
  {
   "cell_type": "code",
   "execution_count": 22,
   "metadata": {},
   "outputs": [
    {
     "name": "stdout",
     "output_type": "stream",
     "text": [
      "<class 'pandas.core.frame.DataFrame'>\n",
      "Int64Index: 19980 entries, 1 to 96874\n",
      "Data columns (total 6 columns):\n",
      " #   Column              Non-Null Count  Dtype  \n",
      "---  ------              --------------  -----  \n",
      " 0   trust_gov           19980 non-null  float64\n",
      " 1   trust_gov_resp      19980 non-null  float64\n",
      " 2   healthcare_willing  19980 non-null  float64\n",
      " 3   healthcare_able     19980 non-null  float64\n",
      " 4   gov_assist          19980 non-null  float64\n",
      " 5   sat_gov_resp        19903 non-null  float64\n",
      "dtypes: float64(6)\n",
      "memory usage: 1.1 MB\n"
     ]
    }
   ],
   "source": [
    "hh_adults_all_wvs[trust_indidcators].info()"
   ]
  },
  {
   "cell_type": "code",
   "execution_count": 23,
   "metadata": {},
   "outputs": [
    {
     "data": {
      "text/plain": [
       "age_group\n",
       "Age 61 or above    4.016321\n",
       "Age 51-60          3.994985\n",
       "Age 18-30          3.904848\n",
       "Age 41-50          3.904817\n",
       "Age 31-40          3.876734\n",
       "Name: trust_gov, dtype: float64"
      ]
     },
     "execution_count": 23,
     "metadata": {},
     "output_type": "execute_result"
    }
   ],
   "source": [
    "# Get scores on trust_gov - Trust in country’s government to take care of its citizens?\n",
    "age_trust_proportions = hh_adults_all_wvs.groupby([\"age_group\"])[\"trust_gov\"].agg('mean').sort_values(ascending=False)\n",
    "age_trust_proportions"
   ]
  },
  {
   "cell_type": "code",
   "execution_count": 24,
   "metadata": {},
   "outputs": [
    {
     "data": {
      "text/html": [
       "<div>\n",
       "<style scoped>\n",
       "    .dataframe tbody tr th:only-of-type {\n",
       "        vertical-align: middle;\n",
       "    }\n",
       "\n",
       "    .dataframe tbody tr th {\n",
       "        vertical-align: top;\n",
       "    }\n",
       "\n",
       "    .dataframe thead th {\n",
       "        text-align: right;\n",
       "    }\n",
       "</style>\n",
       "<table border=\"1\" class=\"dataframe\">\n",
       "  <thead>\n",
       "    <tr style=\"text-align: right;\">\n",
       "      <th></th>\n",
       "      <th>trust_gov</th>\n",
       "      <th>trust_gov_resp</th>\n",
       "      <th>healthcare_willing</th>\n",
       "      <th>healthcare_able</th>\n",
       "      <th>gov_assist</th>\n",
       "      <th>sat_gov_resp</th>\n",
       "    </tr>\n",
       "  </thead>\n",
       "  <tbody>\n",
       "    <tr>\n",
       "      <th>1</th>\n",
       "      <td>5.0</td>\n",
       "      <td>3.0</td>\n",
       "      <td>3.0</td>\n",
       "      <td>3.0</td>\n",
       "      <td>3.0</td>\n",
       "      <td>1.0</td>\n",
       "    </tr>\n",
       "    <tr>\n",
       "      <th>3</th>\n",
       "      <td>5.0</td>\n",
       "      <td>3.0</td>\n",
       "      <td>3.0</td>\n",
       "      <td>3.0</td>\n",
       "      <td>3.0</td>\n",
       "      <td>0.0</td>\n",
       "    </tr>\n",
       "    <tr>\n",
       "      <th>4</th>\n",
       "      <td>5.0</td>\n",
       "      <td>3.0</td>\n",
       "      <td>3.0</td>\n",
       "      <td>3.0</td>\n",
       "      <td>3.0</td>\n",
       "      <td>1.0</td>\n",
       "    </tr>\n",
       "    <tr>\n",
       "      <th>6</th>\n",
       "      <td>3.0</td>\n",
       "      <td>2.0</td>\n",
       "      <td>3.0</td>\n",
       "      <td>3.0</td>\n",
       "      <td>2.0</td>\n",
       "      <td>0.0</td>\n",
       "    </tr>\n",
       "    <tr>\n",
       "      <th>18</th>\n",
       "      <td>1.0</td>\n",
       "      <td>1.0</td>\n",
       "      <td>1.0</td>\n",
       "      <td>1.0</td>\n",
       "      <td>3.0</td>\n",
       "      <td>0.0</td>\n",
       "    </tr>\n",
       "  </tbody>\n",
       "</table>\n",
       "</div>"
      ],
      "text/plain": [
       "    trust_gov  trust_gov_resp  healthcare_willing  healthcare_able  \\\n",
       "1         5.0             3.0                 3.0              3.0   \n",
       "3         5.0             3.0                 3.0              3.0   \n",
       "4         5.0             3.0                 3.0              3.0   \n",
       "6         3.0             2.0                 3.0              3.0   \n",
       "18        1.0             1.0                 1.0              1.0   \n",
       "\n",
       "    gov_assist  sat_gov_resp  \n",
       "1          3.0           1.0  \n",
       "3          3.0           0.0  \n",
       "4          3.0           1.0  \n",
       "6          2.0           0.0  \n",
       "18         3.0           0.0  "
      ]
     },
     "execution_count": 24,
     "metadata": {},
     "output_type": "execute_result"
    }
   ],
   "source": [
    "hh_adults_all_wvs[trust_indidcators].head()"
   ]
  },
  {
   "cell_type": "code",
   "execution_count": 25,
   "metadata": {},
   "outputs": [
    {
     "data": {
      "text/plain": [
       "(0.8272222140874239, array([0.823, 0.831]))"
      ]
     },
     "execution_count": 25,
     "metadata": {},
     "output_type": "execute_result"
    }
   ],
   "source": [
    "# Cronbach test on trust indicators\n",
    "pg.cronbach_alpha(data=hh_adults_all_wvs[trust_indidcators])"
   ]
  },
  {
   "cell_type": "code",
   "execution_count": 26,
   "metadata": {},
   "outputs": [
    {
     "data": {
      "text/html": [
       "<div>\n",
       "<style scoped>\n",
       "    .dataframe tbody tr th:only-of-type {\n",
       "        vertical-align: middle;\n",
       "    }\n",
       "\n",
       "    .dataframe tbody tr th {\n",
       "        vertical-align: top;\n",
       "    }\n",
       "\n",
       "    .dataframe thead th {\n",
       "        text-align: right;\n",
       "    }\n",
       "</style>\n",
       "<table border=\"1\" class=\"dataframe\">\n",
       "  <thead>\n",
       "    <tr style=\"text-align: right;\">\n",
       "      <th></th>\n",
       "      <th>trust_gov</th>\n",
       "      <th>trust_gov_resp</th>\n",
       "      <th>healthcare_willing</th>\n",
       "      <th>healthcare_able</th>\n",
       "      <th>gov_assist</th>\n",
       "      <th>sat_gov_resp</th>\n",
       "    </tr>\n",
       "  </thead>\n",
       "  <tbody>\n",
       "    <tr>\n",
       "      <th>trust_gov</th>\n",
       "      <td>1.000000</td>\n",
       "      <td>0.525253</td>\n",
       "      <td>0.511512</td>\n",
       "      <td>0.451176</td>\n",
       "      <td>0.350110</td>\n",
       "      <td>0.469075</td>\n",
       "    </tr>\n",
       "    <tr>\n",
       "      <th>trust_gov_resp</th>\n",
       "      <td>0.525253</td>\n",
       "      <td>1.000000</td>\n",
       "      <td>0.729762</td>\n",
       "      <td>0.565201</td>\n",
       "      <td>0.444787</td>\n",
       "      <td>0.539112</td>\n",
       "    </tr>\n",
       "    <tr>\n",
       "      <th>healthcare_willing</th>\n",
       "      <td>0.511512</td>\n",
       "      <td>0.729762</td>\n",
       "      <td>1.000000</td>\n",
       "      <td>0.614232</td>\n",
       "      <td>0.451697</td>\n",
       "      <td>0.467707</td>\n",
       "    </tr>\n",
       "    <tr>\n",
       "      <th>healthcare_able</th>\n",
       "      <td>0.451176</td>\n",
       "      <td>0.565201</td>\n",
       "      <td>0.614232</td>\n",
       "      <td>1.000000</td>\n",
       "      <td>0.507180</td>\n",
       "      <td>0.425098</td>\n",
       "    </tr>\n",
       "    <tr>\n",
       "      <th>gov_assist</th>\n",
       "      <td>0.350110</td>\n",
       "      <td>0.444787</td>\n",
       "      <td>0.451697</td>\n",
       "      <td>0.507180</td>\n",
       "      <td>1.000000</td>\n",
       "      <td>0.353611</td>\n",
       "    </tr>\n",
       "    <tr>\n",
       "      <th>sat_gov_resp</th>\n",
       "      <td>0.469075</td>\n",
       "      <td>0.539112</td>\n",
       "      <td>0.467707</td>\n",
       "      <td>0.425098</td>\n",
       "      <td>0.353611</td>\n",
       "      <td>1.000000</td>\n",
       "    </tr>\n",
       "  </tbody>\n",
       "</table>\n",
       "</div>"
      ],
      "text/plain": [
       "                    trust_gov  trust_gov_resp  healthcare_willing  \\\n",
       "trust_gov            1.000000        0.525253            0.511512   \n",
       "trust_gov_resp       0.525253        1.000000            0.729762   \n",
       "healthcare_willing   0.511512        0.729762            1.000000   \n",
       "healthcare_able      0.451176        0.565201            0.614232   \n",
       "gov_assist           0.350110        0.444787            0.451697   \n",
       "sat_gov_resp         0.469075        0.539112            0.467707   \n",
       "\n",
       "                    healthcare_able  gov_assist  sat_gov_resp  \n",
       "trust_gov                  0.451176    0.350110      0.469075  \n",
       "trust_gov_resp             0.565201    0.444787      0.539112  \n",
       "healthcare_willing         0.614232    0.451697      0.467707  \n",
       "healthcare_able            1.000000    0.507180      0.425098  \n",
       "gov_assist                 0.507180    1.000000      0.353611  \n",
       "sat_gov_resp               0.425098    0.353611      1.000000  "
      ]
     },
     "execution_count": 26,
     "metadata": {},
     "output_type": "execute_result"
    }
   ],
   "source": [
    "#Correlation in trust \n",
    "hh_adults_all_wvs[trust_indidcators].corr()"
   ]
  },
  {
   "cell_type": "code",
   "execution_count": 27,
   "metadata": {},
   "outputs": [],
   "source": [
    "# Util to encode responses on the likert 3pt scale\n",
    "def encode_3pt_likert_scale(row):\n",
    "    if row == 3:\n",
    "        return 1\n",
    "    else:\n",
    "        return 0"
   ]
  },
  {
   "cell_type": "code",
   "execution_count": 28,
   "metadata": {},
   "outputs": [],
   "source": [
    "# Util to encode responses on the 5pt likert scale\n",
    "def encode_5pt_likert_scale(row):\n",
    "    if row == 5 or row == 4:\n",
    "        return 1\n",
    "    else:\n",
    "        return 0"
   ]
  },
  {
   "attachments": {},
   "cell_type": "markdown",
   "metadata": {},
   "source": [
    "### Summary stats on trust in government indicators"
   ]
  },
  {
   "cell_type": "code",
   "execution_count": 44,
   "metadata": {},
   "outputs": [
    {
     "name": "stderr",
     "output_type": "stream",
     "text": [
      "/var/folders/pz/qy3yq1t97s7g1m5s3hbsqjpc0000gn/T/ipykernel_32418/1018258968.py:1: SettingWithCopyWarning: \n",
      "A value is trying to be set on a copy of a slice from a DataFrame.\n",
      "Try using .loc[row_indexer,col_indexer] = value instead\n",
      "\n",
      "See the caveats in the documentation: https://pandas.pydata.org/pandas-docs/stable/user_guide/indexing.html#returning-a-view-versus-a-copy\n",
      "  hh_adults_all_wvs[\"trust_gov_enc\"] = hh_adults_all_wvs[\"trust_gov\"].map(encode_5pt_likert_scale)\n",
      "/var/folders/pz/qy3yq1t97s7g1m5s3hbsqjpc0000gn/T/ipykernel_32418/1018258968.py:2: SettingWithCopyWarning: \n",
      "A value is trying to be set on a copy of a slice from a DataFrame.\n",
      "Try using .loc[row_indexer,col_indexer] = value instead\n",
      "\n",
      "See the caveats in the documentation: https://pandas.pydata.org/pandas-docs/stable/user_guide/indexing.html#returning-a-view-versus-a-copy\n",
      "  hh_adults_all_wvs[\"trust_gov_resp_enc\"] = hh_adults_all_wvs[\"trust_gov_resp\"].map(encode_3pt_likert_scale)\n",
      "/var/folders/pz/qy3yq1t97s7g1m5s3hbsqjpc0000gn/T/ipykernel_32418/1018258968.py:3: SettingWithCopyWarning: \n",
      "A value is trying to be set on a copy of a slice from a DataFrame.\n",
      "Try using .loc[row_indexer,col_indexer] = value instead\n",
      "\n",
      "See the caveats in the documentation: https://pandas.pydata.org/pandas-docs/stable/user_guide/indexing.html#returning-a-view-versus-a-copy\n",
      "  hh_adults_all_wvs[\"healthcare_willing_enc\"] = hh_adults_all_wvs[\"healthcare_willing\"].map(encode_3pt_likert_scale)\n",
      "/var/folders/pz/qy3yq1t97s7g1m5s3hbsqjpc0000gn/T/ipykernel_32418/1018258968.py:4: SettingWithCopyWarning: \n",
      "A value is trying to be set on a copy of a slice from a DataFrame.\n",
      "Try using .loc[row_indexer,col_indexer] = value instead\n",
      "\n",
      "See the caveats in the documentation: https://pandas.pydata.org/pandas-docs/stable/user_guide/indexing.html#returning-a-view-versus-a-copy\n",
      "  hh_adults_all_wvs[\"healthcare_able_enc\"] = hh_adults_all_wvs[\"healthcare_able\"].map(encode_3pt_likert_scale)\n",
      "/var/folders/pz/qy3yq1t97s7g1m5s3hbsqjpc0000gn/T/ipykernel_32418/1018258968.py:5: SettingWithCopyWarning: \n",
      "A value is trying to be set on a copy of a slice from a DataFrame.\n",
      "Try using .loc[row_indexer,col_indexer] = value instead\n",
      "\n",
      "See the caveats in the documentation: https://pandas.pydata.org/pandas-docs/stable/user_guide/indexing.html#returning-a-view-versus-a-copy\n",
      "  hh_adults_all_wvs[\"gov_assist_enc\"] = hh_adults_all_wvs[\"gov_assist\"].map(encode_3pt_likert_scale)\n",
      "/var/folders/pz/qy3yq1t97s7g1m5s3hbsqjpc0000gn/T/ipykernel_32418/1018258968.py:6: SettingWithCopyWarning: \n",
      "A value is trying to be set on a copy of a slice from a DataFrame.\n",
      "Try using .loc[row_indexer,col_indexer] = value instead\n",
      "\n",
      "See the caveats in the documentation: https://pandas.pydata.org/pandas-docs/stable/user_guide/indexing.html#returning-a-view-versus-a-copy\n",
      "  hh_adults_all_wvs[\"sat_gov_resp_enc\"] = hh_adults_all_wvs[\"sat_gov_resp\"].map(encode_3pt_likert_scale)\n"
     ]
    }
   ],
   "source": [
    "hh_adults_all_wvs[\"trust_gov_enc\"] = hh_adults_all_wvs[\"trust_gov\"].map(encode_5pt_likert_scale)\n",
    "hh_adults_all_wvs[\"trust_gov_resp_enc\"] = hh_adults_all_wvs[\"trust_gov_resp\"].map(encode_3pt_likert_scale)\n",
    "hh_adults_all_wvs[\"healthcare_willing_enc\"] = hh_adults_all_wvs[\"healthcare_willing\"].map(encode_3pt_likert_scale)\n",
    "hh_adults_all_wvs[\"healthcare_able_enc\"] = hh_adults_all_wvs[\"healthcare_able\"].map(encode_3pt_likert_scale)\n",
    "hh_adults_all_wvs[\"gov_assist_enc\"] = hh_adults_all_wvs[\"gov_assist\"].map(encode_3pt_likert_scale)\n",
    "hh_adults_all_wvs[\"sat_gov_resp_enc\"] = hh_adults_all_wvs[\"sat_gov_resp\"].map(encode_3pt_likert_scale)"
   ]
  },
  {
   "cell_type": "code",
   "execution_count": 47,
   "metadata": {},
   "outputs": [],
   "source": [
    "trust_indidcators_enc = [\"trust_gov_enc\",\"trust_gov_resp_enc\",\"healthcare_willing_enc\",\"healthcare_able_enc\",\"gov_assist_enc\",\"sat_gov_resp\"]"
   ]
  },
  {
   "cell_type": "code",
   "execution_count": 48,
   "metadata": {},
   "outputs": [
    {
     "data": {
      "text/html": [
       "<div>\n",
       "<style scoped>\n",
       "    .dataframe tbody tr th:only-of-type {\n",
       "        vertical-align: middle;\n",
       "    }\n",
       "\n",
       "    .dataframe tbody tr th {\n",
       "        vertical-align: top;\n",
       "    }\n",
       "\n",
       "    .dataframe thead th {\n",
       "        text-align: right;\n",
       "    }\n",
       "</style>\n",
       "<table border=\"1\" class=\"dataframe\">\n",
       "  <thead>\n",
       "    <tr style=\"text-align: right;\">\n",
       "      <th></th>\n",
       "      <th>trust_gov_enc</th>\n",
       "      <th>trust_gov_resp_enc</th>\n",
       "      <th>healthcare_willing_enc</th>\n",
       "      <th>healthcare_able_enc</th>\n",
       "      <th>gov_assist_enc</th>\n",
       "      <th>sat_gov_resp</th>\n",
       "    </tr>\n",
       "  </thead>\n",
       "  <tbody>\n",
       "    <tr>\n",
       "      <th>count</th>\n",
       "      <td>19980.000000</td>\n",
       "      <td>19980.000000</td>\n",
       "      <td>19980.000000</td>\n",
       "      <td>19980.000000</td>\n",
       "      <td>19980.000000</td>\n",
       "      <td>19903.000000</td>\n",
       "    </tr>\n",
       "    <tr>\n",
       "      <th>mean</th>\n",
       "      <td>0.704454</td>\n",
       "      <td>0.644044</td>\n",
       "      <td>0.673924</td>\n",
       "      <td>0.692993</td>\n",
       "      <td>0.460260</td>\n",
       "      <td>0.650053</td>\n",
       "    </tr>\n",
       "    <tr>\n",
       "      <th>std</th>\n",
       "      <td>0.456299</td>\n",
       "      <td>0.478814</td>\n",
       "      <td>0.468787</td>\n",
       "      <td>0.461264</td>\n",
       "      <td>0.498431</td>\n",
       "      <td>0.476965</td>\n",
       "    </tr>\n",
       "    <tr>\n",
       "      <th>min</th>\n",
       "      <td>0.000000</td>\n",
       "      <td>0.000000</td>\n",
       "      <td>0.000000</td>\n",
       "      <td>0.000000</td>\n",
       "      <td>0.000000</td>\n",
       "      <td>0.000000</td>\n",
       "    </tr>\n",
       "    <tr>\n",
       "      <th>25%</th>\n",
       "      <td>0.000000</td>\n",
       "      <td>0.000000</td>\n",
       "      <td>0.000000</td>\n",
       "      <td>0.000000</td>\n",
       "      <td>0.000000</td>\n",
       "      <td>0.000000</td>\n",
       "    </tr>\n",
       "    <tr>\n",
       "      <th>50%</th>\n",
       "      <td>1.000000</td>\n",
       "      <td>1.000000</td>\n",
       "      <td>1.000000</td>\n",
       "      <td>1.000000</td>\n",
       "      <td>0.000000</td>\n",
       "      <td>1.000000</td>\n",
       "    </tr>\n",
       "    <tr>\n",
       "      <th>75%</th>\n",
       "      <td>1.000000</td>\n",
       "      <td>1.000000</td>\n",
       "      <td>1.000000</td>\n",
       "      <td>1.000000</td>\n",
       "      <td>1.000000</td>\n",
       "      <td>1.000000</td>\n",
       "    </tr>\n",
       "    <tr>\n",
       "      <th>max</th>\n",
       "      <td>1.000000</td>\n",
       "      <td>1.000000</td>\n",
       "      <td>1.000000</td>\n",
       "      <td>1.000000</td>\n",
       "      <td>1.000000</td>\n",
       "      <td>1.000000</td>\n",
       "    </tr>\n",
       "  </tbody>\n",
       "</table>\n",
       "</div>"
      ],
      "text/plain": [
       "       trust_gov_enc  trust_gov_resp_enc  healthcare_willing_enc  \\\n",
       "count   19980.000000        19980.000000            19980.000000   \n",
       "mean        0.704454            0.644044                0.673924   \n",
       "std         0.456299            0.478814                0.468787   \n",
       "min         0.000000            0.000000                0.000000   \n",
       "25%         0.000000            0.000000                0.000000   \n",
       "50%         1.000000            1.000000                1.000000   \n",
       "75%         1.000000            1.000000                1.000000   \n",
       "max         1.000000            1.000000                1.000000   \n",
       "\n",
       "       healthcare_able_enc  gov_assist_enc  sat_gov_resp  \n",
       "count         19980.000000    19980.000000  19903.000000  \n",
       "mean              0.692993        0.460260      0.650053  \n",
       "std               0.461264        0.498431      0.476965  \n",
       "min               0.000000        0.000000      0.000000  \n",
       "25%               0.000000        0.000000      0.000000  \n",
       "50%               1.000000        0.000000      1.000000  \n",
       "75%               1.000000        1.000000      1.000000  \n",
       "max               1.000000        1.000000      1.000000  "
      ]
     },
     "execution_count": 48,
     "metadata": {},
     "output_type": "execute_result"
    }
   ],
   "source": [
    "hh_adults_all_wvs[trust_indidcators_enc].describe()"
   ]
  },
  {
   "cell_type": "code",
   "execution_count": 32,
   "metadata": {},
   "outputs": [
    {
     "data": {
      "text/html": [
       "<div>\n",
       "<style scoped>\n",
       "    .dataframe tbody tr th:only-of-type {\n",
       "        vertical-align: middle;\n",
       "    }\n",
       "\n",
       "    .dataframe tbody tr th {\n",
       "        vertical-align: top;\n",
       "    }\n",
       "\n",
       "    .dataframe thead th {\n",
       "        text-align: right;\n",
       "    }\n",
       "</style>\n",
       "<table border=\"1\" class=\"dataframe\">\n",
       "  <thead>\n",
       "    <tr style=\"text-align: right;\">\n",
       "      <th></th>\n",
       "      <th>count</th>\n",
       "      <th>mean</th>\n",
       "      <th>std</th>\n",
       "      <th>min</th>\n",
       "      <th>25%</th>\n",
       "      <th>50%</th>\n",
       "      <th>75%</th>\n",
       "      <th>max</th>\n",
       "    </tr>\n",
       "    <tr>\n",
       "      <th>wave</th>\n",
       "      <th></th>\n",
       "      <th></th>\n",
       "      <th></th>\n",
       "      <th></th>\n",
       "      <th></th>\n",
       "      <th></th>\n",
       "      <th></th>\n",
       "      <th></th>\n",
       "    </tr>\n",
       "  </thead>\n",
       "  <tbody>\n",
       "    <tr>\n",
       "      <th>1</th>\n",
       "      <td>2054.0</td>\n",
       "      <td>0.702045</td>\n",
       "      <td>0.457471</td>\n",
       "      <td>0.0</td>\n",
       "      <td>0.0</td>\n",
       "      <td>1.0</td>\n",
       "      <td>1.0</td>\n",
       "      <td>1.0</td>\n",
       "    </tr>\n",
       "    <tr>\n",
       "      <th>2</th>\n",
       "      <td>2554.0</td>\n",
       "      <td>0.734534</td>\n",
       "      <td>0.441667</td>\n",
       "      <td>0.0</td>\n",
       "      <td>0.0</td>\n",
       "      <td>1.0</td>\n",
       "      <td>1.0</td>\n",
       "      <td>1.0</td>\n",
       "    </tr>\n",
       "    <tr>\n",
       "      <th>3</th>\n",
       "      <td>2727.0</td>\n",
       "      <td>0.581958</td>\n",
       "      <td>0.493328</td>\n",
       "      <td>0.0</td>\n",
       "      <td>0.0</td>\n",
       "      <td>1.0</td>\n",
       "      <td>1.0</td>\n",
       "      <td>1.0</td>\n",
       "    </tr>\n",
       "    <tr>\n",
       "      <th>4</th>\n",
       "      <td>2663.0</td>\n",
       "      <td>0.589561</td>\n",
       "      <td>0.492006</td>\n",
       "      <td>0.0</td>\n",
       "      <td>0.0</td>\n",
       "      <td>1.0</td>\n",
       "      <td>1.0</td>\n",
       "      <td>1.0</td>\n",
       "    </tr>\n",
       "    <tr>\n",
       "      <th>5</th>\n",
       "      <td>4334.0</td>\n",
       "      <td>0.584910</td>\n",
       "      <td>0.492794</td>\n",
       "      <td>0.0</td>\n",
       "      <td>0.0</td>\n",
       "      <td>1.0</td>\n",
       "      <td>1.0</td>\n",
       "      <td>1.0</td>\n",
       "    </tr>\n",
       "    <tr>\n",
       "      <th>6</th>\n",
       "      <td>2874.0</td>\n",
       "      <td>0.675017</td>\n",
       "      <td>0.468450</td>\n",
       "      <td>0.0</td>\n",
       "      <td>0.0</td>\n",
       "      <td>1.0</td>\n",
       "      <td>1.0</td>\n",
       "      <td>1.0</td>\n",
       "    </tr>\n",
       "    <tr>\n",
       "      <th>7</th>\n",
       "      <td>2774.0</td>\n",
       "      <td>0.691420</td>\n",
       "      <td>0.461990</td>\n",
       "      <td>0.0</td>\n",
       "      <td>0.0</td>\n",
       "      <td>1.0</td>\n",
       "      <td>1.0</td>\n",
       "      <td>1.0</td>\n",
       "    </tr>\n",
       "  </tbody>\n",
       "</table>\n",
       "</div>"
      ],
      "text/plain": [
       "       count      mean       std  min  25%  50%  75%  max\n",
       "wave                                                     \n",
       "1     2054.0  0.702045  0.457471  0.0  0.0  1.0  1.0  1.0\n",
       "2     2554.0  0.734534  0.441667  0.0  0.0  1.0  1.0  1.0\n",
       "3     2727.0  0.581958  0.493328  0.0  0.0  1.0  1.0  1.0\n",
       "4     2663.0  0.589561  0.492006  0.0  0.0  1.0  1.0  1.0\n",
       "5     4334.0  0.584910  0.492794  0.0  0.0  1.0  1.0  1.0\n",
       "6     2874.0  0.675017  0.468450  0.0  0.0  1.0  1.0  1.0\n",
       "7     2774.0  0.691420  0.461990  0.0  0.0  1.0  1.0  1.0"
      ]
     },
     "execution_count": 32,
     "metadata": {},
     "output_type": "execute_result"
    }
   ],
   "source": [
    "hh_adults_all_wvs.groupby(\"wave\")[\"trust_gov_resp_enc\"].describe()"
   ]
  },
  {
   "cell_type": "code",
   "execution_count": 33,
   "metadata": {},
   "outputs": [
    {
     "data": {
      "text/html": [
       "<div>\n",
       "<style scoped>\n",
       "    .dataframe tbody tr th:only-of-type {\n",
       "        vertical-align: middle;\n",
       "    }\n",
       "\n",
       "    .dataframe tbody tr th {\n",
       "        vertical-align: top;\n",
       "    }\n",
       "\n",
       "    .dataframe thead th {\n",
       "        text-align: right;\n",
       "    }\n",
       "</style>\n",
       "<table border=\"1\" class=\"dataframe\">\n",
       "  <thead>\n",
       "    <tr style=\"text-align: right;\">\n",
       "      <th></th>\n",
       "      <th>count</th>\n",
       "      <th>mean</th>\n",
       "      <th>std</th>\n",
       "      <th>min</th>\n",
       "      <th>25%</th>\n",
       "      <th>50%</th>\n",
       "      <th>75%</th>\n",
       "      <th>max</th>\n",
       "    </tr>\n",
       "    <tr>\n",
       "      <th>wave</th>\n",
       "      <th></th>\n",
       "      <th></th>\n",
       "      <th></th>\n",
       "      <th></th>\n",
       "      <th></th>\n",
       "      <th></th>\n",
       "      <th></th>\n",
       "      <th></th>\n",
       "    </tr>\n",
       "  </thead>\n",
       "  <tbody>\n",
       "    <tr>\n",
       "      <th>1</th>\n",
       "      <td>2054.0</td>\n",
       "      <td>0.739046</td>\n",
       "      <td>0.439262</td>\n",
       "      <td>0.0</td>\n",
       "      <td>0.0</td>\n",
       "      <td>1.0</td>\n",
       "      <td>1.0</td>\n",
       "      <td>1.0</td>\n",
       "    </tr>\n",
       "    <tr>\n",
       "      <th>2</th>\n",
       "      <td>2554.0</td>\n",
       "      <td>0.743931</td>\n",
       "      <td>0.436546</td>\n",
       "      <td>0.0</td>\n",
       "      <td>0.0</td>\n",
       "      <td>1.0</td>\n",
       "      <td>1.0</td>\n",
       "      <td>1.0</td>\n",
       "    </tr>\n",
       "    <tr>\n",
       "      <th>3</th>\n",
       "      <td>2727.0</td>\n",
       "      <td>0.650532</td>\n",
       "      <td>0.476890</td>\n",
       "      <td>0.0</td>\n",
       "      <td>0.0</td>\n",
       "      <td>1.0</td>\n",
       "      <td>1.0</td>\n",
       "      <td>1.0</td>\n",
       "    </tr>\n",
       "    <tr>\n",
       "      <th>4</th>\n",
       "      <td>2663.0</td>\n",
       "      <td>0.592940</td>\n",
       "      <td>0.491378</td>\n",
       "      <td>0.0</td>\n",
       "      <td>0.0</td>\n",
       "      <td>1.0</td>\n",
       "      <td>1.0</td>\n",
       "      <td>1.0</td>\n",
       "    </tr>\n",
       "    <tr>\n",
       "      <th>5</th>\n",
       "      <td>4334.0</td>\n",
       "      <td>0.625519</td>\n",
       "      <td>0.484044</td>\n",
       "      <td>0.0</td>\n",
       "      <td>0.0</td>\n",
       "      <td>1.0</td>\n",
       "      <td>1.0</td>\n",
       "      <td>1.0</td>\n",
       "    </tr>\n",
       "    <tr>\n",
       "      <th>6</th>\n",
       "      <td>2874.0</td>\n",
       "      <td>0.656228</td>\n",
       "      <td>0.475049</td>\n",
       "      <td>0.0</td>\n",
       "      <td>0.0</td>\n",
       "      <td>1.0</td>\n",
       "      <td>1.0</td>\n",
       "      <td>1.0</td>\n",
       "    </tr>\n",
       "    <tr>\n",
       "      <th>7</th>\n",
       "      <td>2774.0</td>\n",
       "      <td>0.755948</td>\n",
       "      <td>0.429601</td>\n",
       "      <td>0.0</td>\n",
       "      <td>1.0</td>\n",
       "      <td>1.0</td>\n",
       "      <td>1.0</td>\n",
       "      <td>1.0</td>\n",
       "    </tr>\n",
       "  </tbody>\n",
       "</table>\n",
       "</div>"
      ],
      "text/plain": [
       "       count      mean       std  min  25%  50%  75%  max\n",
       "wave                                                     \n",
       "1     2054.0  0.739046  0.439262  0.0  0.0  1.0  1.0  1.0\n",
       "2     2554.0  0.743931  0.436546  0.0  0.0  1.0  1.0  1.0\n",
       "3     2727.0  0.650532  0.476890  0.0  0.0  1.0  1.0  1.0\n",
       "4     2663.0  0.592940  0.491378  0.0  0.0  1.0  1.0  1.0\n",
       "5     4334.0  0.625519  0.484044  0.0  0.0  1.0  1.0  1.0\n",
       "6     2874.0  0.656228  0.475049  0.0  0.0  1.0  1.0  1.0\n",
       "7     2774.0  0.755948  0.429601  0.0  1.0  1.0  1.0  1.0"
      ]
     },
     "execution_count": 33,
     "metadata": {},
     "output_type": "execute_result"
    }
   ],
   "source": [
    "hh_adults_all_wvs.groupby(\"wave\")[\"healthcare_willing_enc\"].describe()"
   ]
  },
  {
   "cell_type": "code",
   "execution_count": 34,
   "metadata": {},
   "outputs": [
    {
     "data": {
      "text/html": [
       "<div>\n",
       "<style scoped>\n",
       "    .dataframe tbody tr th:only-of-type {\n",
       "        vertical-align: middle;\n",
       "    }\n",
       "\n",
       "    .dataframe tbody tr th {\n",
       "        vertical-align: top;\n",
       "    }\n",
       "\n",
       "    .dataframe thead th {\n",
       "        text-align: right;\n",
       "    }\n",
       "</style>\n",
       "<table border=\"1\" class=\"dataframe\">\n",
       "  <thead>\n",
       "    <tr style=\"text-align: right;\">\n",
       "      <th></th>\n",
       "      <th>count</th>\n",
       "      <th>mean</th>\n",
       "      <th>std</th>\n",
       "      <th>min</th>\n",
       "      <th>25%</th>\n",
       "      <th>50%</th>\n",
       "      <th>75%</th>\n",
       "      <th>max</th>\n",
       "    </tr>\n",
       "    <tr>\n",
       "      <th>wave</th>\n",
       "      <th></th>\n",
       "      <th></th>\n",
       "      <th></th>\n",
       "      <th></th>\n",
       "      <th></th>\n",
       "      <th></th>\n",
       "      <th></th>\n",
       "      <th></th>\n",
       "    </tr>\n",
       "  </thead>\n",
       "  <tbody>\n",
       "    <tr>\n",
       "      <th>1</th>\n",
       "      <td>2054.0</td>\n",
       "      <td>0.745862</td>\n",
       "      <td>0.435482</td>\n",
       "      <td>0.0</td>\n",
       "      <td>0.0</td>\n",
       "      <td>1.0</td>\n",
       "      <td>1.0</td>\n",
       "      <td>1.0</td>\n",
       "    </tr>\n",
       "    <tr>\n",
       "      <th>2</th>\n",
       "      <td>2554.0</td>\n",
       "      <td>0.761159</td>\n",
       "      <td>0.426459</td>\n",
       "      <td>0.0</td>\n",
       "      <td>1.0</td>\n",
       "      <td>1.0</td>\n",
       "      <td>1.0</td>\n",
       "      <td>1.0</td>\n",
       "    </tr>\n",
       "    <tr>\n",
       "      <th>3</th>\n",
       "      <td>2727.0</td>\n",
       "      <td>0.684635</td>\n",
       "      <td>0.464746</td>\n",
       "      <td>0.0</td>\n",
       "      <td>0.0</td>\n",
       "      <td>1.0</td>\n",
       "      <td>1.0</td>\n",
       "      <td>1.0</td>\n",
       "    </tr>\n",
       "    <tr>\n",
       "      <th>4</th>\n",
       "      <td>2663.0</td>\n",
       "      <td>0.623733</td>\n",
       "      <td>0.484539</td>\n",
       "      <td>0.0</td>\n",
       "      <td>0.0</td>\n",
       "      <td>1.0</td>\n",
       "      <td>1.0</td>\n",
       "      <td>1.0</td>\n",
       "    </tr>\n",
       "    <tr>\n",
       "      <th>5</th>\n",
       "      <td>4334.0</td>\n",
       "      <td>0.666359</td>\n",
       "      <td>0.471568</td>\n",
       "      <td>0.0</td>\n",
       "      <td>0.0</td>\n",
       "      <td>1.0</td>\n",
       "      <td>1.0</td>\n",
       "      <td>1.0</td>\n",
       "    </tr>\n",
       "    <tr>\n",
       "      <th>6</th>\n",
       "      <td>2874.0</td>\n",
       "      <td>0.682324</td>\n",
       "      <td>0.465654</td>\n",
       "      <td>0.0</td>\n",
       "      <td>0.0</td>\n",
       "      <td>1.0</td>\n",
       "      <td>1.0</td>\n",
       "      <td>1.0</td>\n",
       "    </tr>\n",
       "    <tr>\n",
       "      <th>7</th>\n",
       "      <td>2774.0</td>\n",
       "      <td>0.718457</td>\n",
       "      <td>0.449833</td>\n",
       "      <td>0.0</td>\n",
       "      <td>0.0</td>\n",
       "      <td>1.0</td>\n",
       "      <td>1.0</td>\n",
       "      <td>1.0</td>\n",
       "    </tr>\n",
       "  </tbody>\n",
       "</table>\n",
       "</div>"
      ],
      "text/plain": [
       "       count      mean       std  min  25%  50%  75%  max\n",
       "wave                                                     \n",
       "1     2054.0  0.745862  0.435482  0.0  0.0  1.0  1.0  1.0\n",
       "2     2554.0  0.761159  0.426459  0.0  1.0  1.0  1.0  1.0\n",
       "3     2727.0  0.684635  0.464746  0.0  0.0  1.0  1.0  1.0\n",
       "4     2663.0  0.623733  0.484539  0.0  0.0  1.0  1.0  1.0\n",
       "5     4334.0  0.666359  0.471568  0.0  0.0  1.0  1.0  1.0\n",
       "6     2874.0  0.682324  0.465654  0.0  0.0  1.0  1.0  1.0\n",
       "7     2774.0  0.718457  0.449833  0.0  0.0  1.0  1.0  1.0"
      ]
     },
     "execution_count": 34,
     "metadata": {},
     "output_type": "execute_result"
    }
   ],
   "source": [
    "hh_adults_all_wvs.groupby(\"wave\")[\"healthcare_able_enc\"].describe()"
   ]
  },
  {
   "cell_type": "code",
   "execution_count": 35,
   "metadata": {},
   "outputs": [
    {
     "data": {
      "text/html": [
       "<div>\n",
       "<style scoped>\n",
       "    .dataframe tbody tr th:only-of-type {\n",
       "        vertical-align: middle;\n",
       "    }\n",
       "\n",
       "    .dataframe tbody tr th {\n",
       "        vertical-align: top;\n",
       "    }\n",
       "\n",
       "    .dataframe thead th {\n",
       "        text-align: right;\n",
       "    }\n",
       "</style>\n",
       "<table border=\"1\" class=\"dataframe\">\n",
       "  <thead>\n",
       "    <tr style=\"text-align: right;\">\n",
       "      <th></th>\n",
       "      <th>count</th>\n",
       "      <th>mean</th>\n",
       "      <th>std</th>\n",
       "      <th>min</th>\n",
       "      <th>25%</th>\n",
       "      <th>50%</th>\n",
       "      <th>75%</th>\n",
       "      <th>max</th>\n",
       "    </tr>\n",
       "    <tr>\n",
       "      <th>wave</th>\n",
       "      <th></th>\n",
       "      <th></th>\n",
       "      <th></th>\n",
       "      <th></th>\n",
       "      <th></th>\n",
       "      <th></th>\n",
       "      <th></th>\n",
       "      <th></th>\n",
       "    </tr>\n",
       "  </thead>\n",
       "  <tbody>\n",
       "    <tr>\n",
       "      <th>1</th>\n",
       "      <td>2054.0</td>\n",
       "      <td>0.468354</td>\n",
       "      <td>0.499119</td>\n",
       "      <td>0.0</td>\n",
       "      <td>0.0</td>\n",
       "      <td>0.0</td>\n",
       "      <td>1.0</td>\n",
       "      <td>1.0</td>\n",
       "    </tr>\n",
       "    <tr>\n",
       "      <th>2</th>\n",
       "      <td>2554.0</td>\n",
       "      <td>0.576351</td>\n",
       "      <td>0.494233</td>\n",
       "      <td>0.0</td>\n",
       "      <td>0.0</td>\n",
       "      <td>1.0</td>\n",
       "      <td>1.0</td>\n",
       "      <td>1.0</td>\n",
       "    </tr>\n",
       "    <tr>\n",
       "      <th>3</th>\n",
       "      <td>2727.0</td>\n",
       "      <td>0.563990</td>\n",
       "      <td>0.495979</td>\n",
       "      <td>0.0</td>\n",
       "      <td>0.0</td>\n",
       "      <td>1.0</td>\n",
       "      <td>1.0</td>\n",
       "      <td>1.0</td>\n",
       "    </tr>\n",
       "    <tr>\n",
       "      <th>4</th>\n",
       "      <td>2663.0</td>\n",
       "      <td>0.451746</td>\n",
       "      <td>0.497760</td>\n",
       "      <td>0.0</td>\n",
       "      <td>0.0</td>\n",
       "      <td>0.0</td>\n",
       "      <td>1.0</td>\n",
       "      <td>1.0</td>\n",
       "    </tr>\n",
       "    <tr>\n",
       "      <th>5</th>\n",
       "      <td>4334.0</td>\n",
       "      <td>0.449469</td>\n",
       "      <td>0.497497</td>\n",
       "      <td>0.0</td>\n",
       "      <td>0.0</td>\n",
       "      <td>0.0</td>\n",
       "      <td>1.0</td>\n",
       "      <td>1.0</td>\n",
       "    </tr>\n",
       "    <tr>\n",
       "      <th>6</th>\n",
       "      <td>2874.0</td>\n",
       "      <td>0.361865</td>\n",
       "      <td>0.480624</td>\n",
       "      <td>0.0</td>\n",
       "      <td>0.0</td>\n",
       "      <td>0.0</td>\n",
       "      <td>1.0</td>\n",
       "      <td>1.0</td>\n",
       "    </tr>\n",
       "    <tr>\n",
       "      <th>7</th>\n",
       "      <td>2774.0</td>\n",
       "      <td>0.372386</td>\n",
       "      <td>0.483528</td>\n",
       "      <td>0.0</td>\n",
       "      <td>0.0</td>\n",
       "      <td>0.0</td>\n",
       "      <td>1.0</td>\n",
       "      <td>1.0</td>\n",
       "    </tr>\n",
       "  </tbody>\n",
       "</table>\n",
       "</div>"
      ],
      "text/plain": [
       "       count      mean       std  min  25%  50%  75%  max\n",
       "wave                                                     \n",
       "1     2054.0  0.468354  0.499119  0.0  0.0  0.0  1.0  1.0\n",
       "2     2554.0  0.576351  0.494233  0.0  0.0  1.0  1.0  1.0\n",
       "3     2727.0  0.563990  0.495979  0.0  0.0  1.0  1.0  1.0\n",
       "4     2663.0  0.451746  0.497760  0.0  0.0  0.0  1.0  1.0\n",
       "5     4334.0  0.449469  0.497497  0.0  0.0  0.0  1.0  1.0\n",
       "6     2874.0  0.361865  0.480624  0.0  0.0  0.0  1.0  1.0\n",
       "7     2774.0  0.372386  0.483528  0.0  0.0  0.0  1.0  1.0"
      ]
     },
     "execution_count": 35,
     "metadata": {},
     "output_type": "execute_result"
    }
   ],
   "source": [
    "hh_adults_all_wvs.groupby(\"wave\")[\"gov_assist_enc\"].describe()"
   ]
  },
  {
   "cell_type": "code",
   "execution_count": 36,
   "metadata": {},
   "outputs": [],
   "source": [
    "def calculate_trust_index(row):\n",
    "    trust_index = 0\n",
    "    #Encoding if respondents respond with strongly trust or somehow trust -  How much do you trust your country’s government to take care of its citizens?\n",
    "    if row[\"trust_gov\"] == 5 or row[\"trust_gov\"] == 4:\n",
    "        trust_index+=1\n",
    "    \n",
    "    # The Government is trustworthy in the way it manages the Coronavirus crisis\n",
    "    if row[\"trust_gov_resp\"] == 3:\n",
    "        trust_index+=1\n",
    "\n",
    "    #The Government is able to provide health care to address the Coronavirus crisis   \n",
    "    if row[\"healthcare_willing\"] == 3:\n",
    "        trust_index+=1\n",
    "\n",
    "    #The Government is able to provide health care to address the Coronavirus crisis\n",
    "    if row[\"healthcare_able\"] == 3:\n",
    "        trust_index+=1\n",
    "    \n",
    "    if row[\"sat_gov_resp\"] == 3:\n",
    "        trust_index+=1\n",
    "\n",
    "    #The Government is able to provide enough assistance (cash and in-kind) in response to the crisis\n",
    "    if row[\"gov_assist\"] == 3:\n",
    "        trust_index+=1\n",
    "\n",
    "    return trust_index\n"
   ]
  },
  {
   "cell_type": "code",
   "execution_count": 37,
   "metadata": {},
   "outputs": [
    {
     "name": "stderr",
     "output_type": "stream",
     "text": [
      "/var/folders/pz/qy3yq1t97s7g1m5s3hbsqjpc0000gn/T/ipykernel_32418/1868241098.py:1: SettingWithCopyWarning: \n",
      "A value is trying to be set on a copy of a slice from a DataFrame.\n",
      "Try using .loc[row_indexer,col_indexer] = value instead\n",
      "\n",
      "See the caveats in the documentation: https://pandas.pydata.org/pandas-docs/stable/user_guide/indexing.html#returning-a-view-versus-a-copy\n",
      "  hh_adults_all_wvs[\"trust_index\"] = hh_adults_all_wvs.apply(lambda row: calculate_trust_index(row), axis=1)\n"
     ]
    }
   ],
   "source": [
    "hh_adults_all_wvs[\"trust_index\"] = hh_adults_all_wvs.apply(lambda row: calculate_trust_index(row), axis=1)"
   ]
  },
  {
   "cell_type": "code",
   "execution_count": 38,
   "metadata": {},
   "outputs": [
    {
     "data": {
      "text/html": [
       "<div>\n",
       "<style scoped>\n",
       "    .dataframe tbody tr th:only-of-type {\n",
       "        vertical-align: middle;\n",
       "    }\n",
       "\n",
       "    .dataframe tbody tr th {\n",
       "        vertical-align: top;\n",
       "    }\n",
       "\n",
       "    .dataframe thead th {\n",
       "        text-align: right;\n",
       "    }\n",
       "</style>\n",
       "<table border=\"1\" class=\"dataframe\">\n",
       "  <thead>\n",
       "    <tr style=\"text-align: right;\">\n",
       "      <th></th>\n",
       "      <th>count</th>\n",
       "      <th>mean</th>\n",
       "      <th>std</th>\n",
       "      <th>min</th>\n",
       "      <th>25%</th>\n",
       "      <th>50%</th>\n",
       "      <th>75%</th>\n",
       "      <th>max</th>\n",
       "    </tr>\n",
       "    <tr>\n",
       "      <th>gender_label</th>\n",
       "      <th></th>\n",
       "      <th></th>\n",
       "      <th></th>\n",
       "      <th></th>\n",
       "      <th></th>\n",
       "      <th></th>\n",
       "      <th></th>\n",
       "      <th></th>\n",
       "    </tr>\n",
       "  </thead>\n",
       "  <tbody>\n",
       "    <tr>\n",
       "      <th>Female</th>\n",
       "      <td>10679.0</td>\n",
       "      <td>3.202360</td>\n",
       "      <td>1.837001</td>\n",
       "      <td>0.0</td>\n",
       "      <td>1.0</td>\n",
       "      <td>4.0</td>\n",
       "      <td>5.0</td>\n",
       "      <td>5.0</td>\n",
       "    </tr>\n",
       "    <tr>\n",
       "      <th>Male</th>\n",
       "      <td>9283.0</td>\n",
       "      <td>3.145319</td>\n",
       "      <td>1.845315</td>\n",
       "      <td>0.0</td>\n",
       "      <td>1.0</td>\n",
       "      <td>4.0</td>\n",
       "      <td>5.0</td>\n",
       "      <td>5.0</td>\n",
       "    </tr>\n",
       "  </tbody>\n",
       "</table>\n",
       "</div>"
      ],
      "text/plain": [
       "                count      mean       std  min  25%  50%  75%  max\n",
       "gender_label                                                      \n",
       "Female        10679.0  3.202360  1.837001  0.0  1.0  4.0  5.0  5.0\n",
       "Male           9283.0  3.145319  1.845315  0.0  1.0  4.0  5.0  5.0"
      ]
     },
     "execution_count": 38,
     "metadata": {},
     "output_type": "execute_result"
    }
   ],
   "source": [
    "hh_adults_all_wvs.groupby(\"gender_label\")[\"trust_index\"].describe()"
   ]
  },
  {
   "cell_type": "code",
   "execution_count": 39,
   "metadata": {},
   "outputs": [
    {
     "data": {
      "text/html": [
       "<div>\n",
       "<style scoped>\n",
       "    .dataframe tbody tr th:only-of-type {\n",
       "        vertical-align: middle;\n",
       "    }\n",
       "\n",
       "    .dataframe tbody tr th {\n",
       "        vertical-align: top;\n",
       "    }\n",
       "\n",
       "    .dataframe thead th {\n",
       "        text-align: right;\n",
       "    }\n",
       "</style>\n",
       "<table border=\"1\" class=\"dataframe\">\n",
       "  <thead>\n",
       "    <tr style=\"text-align: right;\">\n",
       "      <th></th>\n",
       "      <th>count</th>\n",
       "      <th>mean</th>\n",
       "      <th>std</th>\n",
       "      <th>min</th>\n",
       "      <th>25%</th>\n",
       "      <th>50%</th>\n",
       "      <th>75%</th>\n",
       "      <th>max</th>\n",
       "    </tr>\n",
       "    <tr>\n",
       "      <th>age_group</th>\n",
       "      <th></th>\n",
       "      <th></th>\n",
       "      <th></th>\n",
       "      <th></th>\n",
       "      <th></th>\n",
       "      <th></th>\n",
       "      <th></th>\n",
       "      <th></th>\n",
       "    </tr>\n",
       "  </thead>\n",
       "  <tbody>\n",
       "    <tr>\n",
       "      <th>Age 18-30</th>\n",
       "      <td>4435.0</td>\n",
       "      <td>3.178354</td>\n",
       "      <td>1.837435</td>\n",
       "      <td>0.0</td>\n",
       "      <td>1.0</td>\n",
       "      <td>4.0</td>\n",
       "      <td>5.0</td>\n",
       "      <td>5.0</td>\n",
       "    </tr>\n",
       "    <tr>\n",
       "      <th>Age 31-40</th>\n",
       "      <td>6344.0</td>\n",
       "      <td>3.114281</td>\n",
       "      <td>1.855413</td>\n",
       "      <td>0.0</td>\n",
       "      <td>1.0</td>\n",
       "      <td>4.0</td>\n",
       "      <td>5.0</td>\n",
       "      <td>5.0</td>\n",
       "    </tr>\n",
       "    <tr>\n",
       "      <th>Age 41-50</th>\n",
       "      <td>4339.0</td>\n",
       "      <td>3.137128</td>\n",
       "      <td>1.850038</td>\n",
       "      <td>0.0</td>\n",
       "      <td>1.0</td>\n",
       "      <td>4.0</td>\n",
       "      <td>5.0</td>\n",
       "      <td>5.0</td>\n",
       "    </tr>\n",
       "    <tr>\n",
       "      <th>Age 51-60</th>\n",
       "      <td>2592.0</td>\n",
       "      <td>3.281636</td>\n",
       "      <td>1.806161</td>\n",
       "      <td>0.0</td>\n",
       "      <td>2.0</td>\n",
       "      <td>4.0</td>\n",
       "      <td>5.0</td>\n",
       "      <td>5.0</td>\n",
       "    </tr>\n",
       "    <tr>\n",
       "      <th>Age 61 or above</th>\n",
       "      <td>2267.0</td>\n",
       "      <td>3.295986</td>\n",
       "      <td>1.821757</td>\n",
       "      <td>0.0</td>\n",
       "      <td>2.0</td>\n",
       "      <td>4.0</td>\n",
       "      <td>5.0</td>\n",
       "      <td>5.0</td>\n",
       "    </tr>\n",
       "  </tbody>\n",
       "</table>\n",
       "</div>"
      ],
      "text/plain": [
       "                  count      mean       std  min  25%  50%  75%  max\n",
       "age_group                                                           \n",
       "Age 18-30        4435.0  3.178354  1.837435  0.0  1.0  4.0  5.0  5.0\n",
       "Age 31-40        6344.0  3.114281  1.855413  0.0  1.0  4.0  5.0  5.0\n",
       "Age 41-50        4339.0  3.137128  1.850038  0.0  1.0  4.0  5.0  5.0\n",
       "Age 51-60        2592.0  3.281636  1.806161  0.0  2.0  4.0  5.0  5.0\n",
       "Age 61 or above  2267.0  3.295986  1.821757  0.0  2.0  4.0  5.0  5.0"
      ]
     },
     "execution_count": 39,
     "metadata": {},
     "output_type": "execute_result"
    }
   ],
   "source": [
    "hh_adults_all_wvs.groupby(\"age_group\")[\"trust_index\"].describe()"
   ]
  },
  {
   "cell_type": "markdown",
   "metadata": {},
   "source": [
    "### Compliance Index"
   ]
  },
  {
   "cell_type": "code",
   "execution_count": 40,
   "metadata": {},
   "outputs": [],
   "source": [
    "compliance_indicators = [\"wash_hand_more\", \"avoid_contact_more\", \"avoid_groups_more\"]"
   ]
  },
  {
   "cell_type": "code",
   "execution_count": 41,
   "metadata": {},
   "outputs": [
    {
     "name": "stdout",
     "output_type": "stream",
     "text": [
      "<class 'pandas.core.frame.DataFrame'>\n",
      "Int64Index: 19980 entries, 1 to 96874\n",
      "Data columns (total 3 columns):\n",
      " #   Column              Non-Null Count  Dtype  \n",
      "---  ------              --------------  -----  \n",
      " 0   wash_hand_more      19871 non-null  float64\n",
      " 1   avoid_contact_more  19876 non-null  float64\n",
      " 2   avoid_groups_more   19875 non-null  float64\n",
      "dtypes: float64(3)\n",
      "memory usage: 624.4 KB\n"
     ]
    }
   ],
   "source": [
    "hh_adults_all_wvs[compliance_indicators].info()"
   ]
  },
  {
   "cell_type": "code",
   "execution_count": 64,
   "metadata": {},
   "outputs": [
    {
     "name": "stderr",
     "output_type": "stream",
     "text": [
      "/var/folders/pz/qy3yq1t97s7g1m5s3hbsqjpc0000gn/T/ipykernel_32418/1386182605.py:1: SettingWithCopyWarning: \n",
      "A value is trying to be set on a copy of a slice from a DataFrame\n",
      "\n",
      "See the caveats in the documentation: https://pandas.pydata.org/pandas-docs/stable/user_guide/indexing.html#returning-a-view-versus-a-copy\n",
      "  hh_adults_all_wvs.dropna(subset=compliance_indicators, how='any', inplace=True)\n"
     ]
    }
   ],
   "source": [
    "hh_adults_all_wvs.dropna(subset=compliance_indicators, how='any', inplace=True)"
   ]
  },
  {
   "cell_type": "code",
   "execution_count": 65,
   "metadata": {},
   "outputs": [
    {
     "name": "stdout",
     "output_type": "stream",
     "text": [
      "<class 'pandas.core.frame.DataFrame'>\n",
      "Int64Index: 19865 entries, 1 to 96874\n",
      "Data columns (total 3 columns):\n",
      " #   Column              Non-Null Count  Dtype  \n",
      "---  ------              --------------  -----  \n",
      " 0   wash_hand_more      19865 non-null  float64\n",
      " 1   avoid_contact_more  19865 non-null  float64\n",
      " 2   avoid_groups_more   19865 non-null  float64\n",
      "dtypes: float64(3)\n",
      "memory usage: 620.8 KB\n"
     ]
    }
   ],
   "source": [
    "hh_adults_all_wvs[compliance_indicators].info()"
   ]
  },
  {
   "cell_type": "code",
   "execution_count": 66,
   "metadata": {},
   "outputs": [
    {
     "name": "stderr",
     "output_type": "stream",
     "text": [
      "/var/folders/pz/qy3yq1t97s7g1m5s3hbsqjpc0000gn/T/ipykernel_32418/656383946.py:2: SettingWithCopyWarning: \n",
      "A value is trying to be set on a copy of a slice from a DataFrame.\n",
      "Try using .loc[row_indexer,col_indexer] = value instead\n",
      "\n",
      "See the caveats in the documentation: https://pandas.pydata.org/pandas-docs/stable/user_guide/indexing.html#returning-a-view-versus-a-copy\n",
      "  hh_adults_all_wvs[compliance_indicators] = hh_adults_all_wvs[compliance_indicators].astype(int)\n"
     ]
    }
   ],
   "source": [
    "# Convert compliance dtype to int\n",
    "hh_adults_all_wvs[compliance_indicators] = hh_adults_all_wvs[compliance_indicators].astype(int)"
   ]
  },
  {
   "cell_type": "code",
   "execution_count": 67,
   "metadata": {},
   "outputs": [
    {
     "data": {
      "text/html": [
       "<div>\n",
       "<style scoped>\n",
       "    .dataframe tbody tr th:only-of-type {\n",
       "        vertical-align: middle;\n",
       "    }\n",
       "\n",
       "    .dataframe tbody tr th {\n",
       "        vertical-align: top;\n",
       "    }\n",
       "\n",
       "    .dataframe thead th {\n",
       "        text-align: right;\n",
       "    }\n",
       "</style>\n",
       "<table border=\"1\" class=\"dataframe\">\n",
       "  <thead>\n",
       "    <tr style=\"text-align: right;\">\n",
       "      <th></th>\n",
       "      <th>wash_hand_more</th>\n",
       "      <th>avoid_contact_more</th>\n",
       "      <th>avoid_groups_more</th>\n",
       "    </tr>\n",
       "  </thead>\n",
       "  <tbody>\n",
       "    <tr>\n",
       "      <th>count</th>\n",
       "      <td>19865.000000</td>\n",
       "      <td>19865.000000</td>\n",
       "      <td>19865.000000</td>\n",
       "    </tr>\n",
       "    <tr>\n",
       "      <th>mean</th>\n",
       "      <td>0.914372</td>\n",
       "      <td>0.935565</td>\n",
       "      <td>0.807954</td>\n",
       "    </tr>\n",
       "    <tr>\n",
       "      <th>std</th>\n",
       "      <td>0.279821</td>\n",
       "      <td>0.245532</td>\n",
       "      <td>0.393919</td>\n",
       "    </tr>\n",
       "    <tr>\n",
       "      <th>min</th>\n",
       "      <td>0.000000</td>\n",
       "      <td>0.000000</td>\n",
       "      <td>0.000000</td>\n",
       "    </tr>\n",
       "    <tr>\n",
       "      <th>25%</th>\n",
       "      <td>1.000000</td>\n",
       "      <td>1.000000</td>\n",
       "      <td>1.000000</td>\n",
       "    </tr>\n",
       "    <tr>\n",
       "      <th>50%</th>\n",
       "      <td>1.000000</td>\n",
       "      <td>1.000000</td>\n",
       "      <td>1.000000</td>\n",
       "    </tr>\n",
       "    <tr>\n",
       "      <th>75%</th>\n",
       "      <td>1.000000</td>\n",
       "      <td>1.000000</td>\n",
       "      <td>1.000000</td>\n",
       "    </tr>\n",
       "    <tr>\n",
       "      <th>max</th>\n",
       "      <td>1.000000</td>\n",
       "      <td>1.000000</td>\n",
       "      <td>1.000000</td>\n",
       "    </tr>\n",
       "  </tbody>\n",
       "</table>\n",
       "</div>"
      ],
      "text/plain": [
       "       wash_hand_more  avoid_contact_more  avoid_groups_more\n",
       "count    19865.000000        19865.000000       19865.000000\n",
       "mean         0.914372            0.935565           0.807954\n",
       "std          0.279821            0.245532           0.393919\n",
       "min          0.000000            0.000000           0.000000\n",
       "25%          1.000000            1.000000           1.000000\n",
       "50%          1.000000            1.000000           1.000000\n",
       "75%          1.000000            1.000000           1.000000\n",
       "max          1.000000            1.000000           1.000000"
      ]
     },
     "execution_count": 67,
     "metadata": {},
     "output_type": "execute_result"
    }
   ],
   "source": [
    "hh_adults_all_wvs[compliance_indicators].describe()"
   ]
  },
  {
   "cell_type": "code",
   "execution_count": null,
   "metadata": {},
   "outputs": [],
   "source": []
  },
  {
   "cell_type": "code",
   "execution_count": 68,
   "metadata": {},
   "outputs": [
    {
     "data": {
      "text/html": [
       "<div>\n",
       "<style scoped>\n",
       "    .dataframe tbody tr th:only-of-type {\n",
       "        vertical-align: middle;\n",
       "    }\n",
       "\n",
       "    .dataframe tbody tr th {\n",
       "        vertical-align: top;\n",
       "    }\n",
       "\n",
       "    .dataframe thead tr th {\n",
       "        text-align: left;\n",
       "    }\n",
       "\n",
       "    .dataframe thead tr:last-of-type th {\n",
       "        text-align: right;\n",
       "    }\n",
       "</style>\n",
       "<table border=\"1\" class=\"dataframe\">\n",
       "  <thead>\n",
       "    <tr>\n",
       "      <th></th>\n",
       "      <th colspan=\"3\" halign=\"left\">wash_hand_more</th>\n",
       "      <th colspan=\"3\" halign=\"left\">avoid_contact_more</th>\n",
       "      <th colspan=\"3\" halign=\"left\">avoid_groups_more</th>\n",
       "    </tr>\n",
       "    <tr>\n",
       "      <th></th>\n",
       "      <th>mean</th>\n",
       "      <th>std</th>\n",
       "      <th>count</th>\n",
       "      <th>mean</th>\n",
       "      <th>std</th>\n",
       "      <th>count</th>\n",
       "      <th>mean</th>\n",
       "      <th>std</th>\n",
       "      <th>count</th>\n",
       "    </tr>\n",
       "    <tr>\n",
       "      <th>gender_label</th>\n",
       "      <th></th>\n",
       "      <th></th>\n",
       "      <th></th>\n",
       "      <th></th>\n",
       "      <th></th>\n",
       "      <th></th>\n",
       "      <th></th>\n",
       "      <th></th>\n",
       "      <th></th>\n",
       "    </tr>\n",
       "  </thead>\n",
       "  <tbody>\n",
       "    <tr>\n",
       "      <th>Female</th>\n",
       "      <td>0.91669</td>\n",
       "      <td>0.276363</td>\n",
       "      <td>10623</td>\n",
       "      <td>0.937871</td>\n",
       "      <td>0.241402</td>\n",
       "      <td>10623</td>\n",
       "      <td>0.804104</td>\n",
       "      <td>0.396907</td>\n",
       "      <td>10623</td>\n",
       "    </tr>\n",
       "    <tr>\n",
       "      <th>Male</th>\n",
       "      <td>0.91186</td>\n",
       "      <td>0.283513</td>\n",
       "      <td>9224</td>\n",
       "      <td>0.932892</td>\n",
       "      <td>0.250222</td>\n",
       "      <td>9224</td>\n",
       "      <td>0.812012</td>\n",
       "      <td>0.390724</td>\n",
       "      <td>9224</td>\n",
       "    </tr>\n",
       "  </tbody>\n",
       "</table>\n",
       "</div>"
      ],
      "text/plain": [
       "             wash_hand_more                  avoid_contact_more            \\\n",
       "                       mean       std  count               mean       std   \n",
       "gender_label                                                                \n",
       "Female              0.91669  0.276363  10623           0.937871  0.241402   \n",
       "Male                0.91186  0.283513   9224           0.932892  0.250222   \n",
       "\n",
       "                    avoid_groups_more                   \n",
       "              count              mean       std  count  \n",
       "gender_label                                            \n",
       "Female        10623          0.804104  0.396907  10623  \n",
       "Male           9224          0.812012  0.390724   9224  "
      ]
     },
     "execution_count": 68,
     "metadata": {},
     "output_type": "execute_result"
    }
   ],
   "source": [
    "hh_adults_all_wvs.groupby(\"gender_label\")[compliance_indicators].agg([\"mean\",\"std\",\"count\"])"
   ]
  },
  {
   "cell_type": "code",
   "execution_count": 69,
   "metadata": {},
   "outputs": [],
   "source": [
    "# Calculate overall compliance index for a better overall picture\n",
    "def calculate_compliance_index(row):\n",
    "    compliance_index = 0\n",
    "    for indicator in compliance_indicators:\n",
    "        if row[indicator] == 1:\n",
    "            compliance_index+=1\n",
    "    return compliance_index"
   ]
  },
  {
   "cell_type": "code",
   "execution_count": 70,
   "metadata": {},
   "outputs": [
    {
     "name": "stderr",
     "output_type": "stream",
     "text": [
      "/var/folders/pz/qy3yq1t97s7g1m5s3hbsqjpc0000gn/T/ipykernel_32418/3041435886.py:1: SettingWithCopyWarning: \n",
      "A value is trying to be set on a copy of a slice from a DataFrame.\n",
      "Try using .loc[row_indexer,col_indexer] = value instead\n",
      "\n",
      "See the caveats in the documentation: https://pandas.pydata.org/pandas-docs/stable/user_guide/indexing.html#returning-a-view-versus-a-copy\n",
      "  hh_adults_all_wvs[\"compliance_index\"] = hh_adults_all_wvs.apply(lambda row: calculate_compliance_index(row), axis=1)\n"
     ]
    }
   ],
   "source": [
    "hh_adults_all_wvs[\"compliance_index\"] = hh_adults_all_wvs.apply(lambda row: calculate_compliance_index(row), axis=1)"
   ]
  },
  {
   "cell_type": "code",
   "execution_count": 71,
   "metadata": {},
   "outputs": [
    {
     "data": {
      "text/html": [
       "<div>\n",
       "<style scoped>\n",
       "    .dataframe tbody tr th:only-of-type {\n",
       "        vertical-align: middle;\n",
       "    }\n",
       "\n",
       "    .dataframe tbody tr th {\n",
       "        vertical-align: top;\n",
       "    }\n",
       "\n",
       "    .dataframe thead th {\n",
       "        text-align: right;\n",
       "    }\n",
       "</style>\n",
       "<table border=\"1\" class=\"dataframe\">\n",
       "  <thead>\n",
       "    <tr style=\"text-align: right;\">\n",
       "      <th></th>\n",
       "      <th>count</th>\n",
       "      <th>mean</th>\n",
       "      <th>std</th>\n",
       "      <th>min</th>\n",
       "      <th>25%</th>\n",
       "      <th>50%</th>\n",
       "      <th>75%</th>\n",
       "      <th>max</th>\n",
       "    </tr>\n",
       "    <tr>\n",
       "      <th>gender_label</th>\n",
       "      <th></th>\n",
       "      <th></th>\n",
       "      <th></th>\n",
       "      <th></th>\n",
       "      <th></th>\n",
       "      <th></th>\n",
       "      <th></th>\n",
       "      <th></th>\n",
       "    </tr>\n",
       "  </thead>\n",
       "  <tbody>\n",
       "    <tr>\n",
       "      <th>Female</th>\n",
       "      <td>10623.0</td>\n",
       "      <td>2.658665</td>\n",
       "      <td>0.640996</td>\n",
       "      <td>0.0</td>\n",
       "      <td>2.0</td>\n",
       "      <td>3.0</td>\n",
       "      <td>3.0</td>\n",
       "      <td>3.0</td>\n",
       "    </tr>\n",
       "    <tr>\n",
       "      <th>Male</th>\n",
       "      <td>9224.0</td>\n",
       "      <td>2.656765</td>\n",
       "      <td>0.649049</td>\n",
       "      <td>0.0</td>\n",
       "      <td>2.0</td>\n",
       "      <td>3.0</td>\n",
       "      <td>3.0</td>\n",
       "      <td>3.0</td>\n",
       "    </tr>\n",
       "  </tbody>\n",
       "</table>\n",
       "</div>"
      ],
      "text/plain": [
       "                count      mean       std  min  25%  50%  75%  max\n",
       "gender_label                                                      \n",
       "Female        10623.0  2.658665  0.640996  0.0  2.0  3.0  3.0  3.0\n",
       "Male           9224.0  2.656765  0.649049  0.0  2.0  3.0  3.0  3.0"
      ]
     },
     "execution_count": 71,
     "metadata": {},
     "output_type": "execute_result"
    }
   ],
   "source": [
    "# Females have higher compliance index as compared to men\n",
    "hh_adults_all_wvs.groupby(\"gender_label\")[\"compliance_index\"].describe()"
   ]
  },
  {
   "cell_type": "code",
   "execution_count": 72,
   "metadata": {},
   "outputs": [
    {
     "name": "stderr",
     "output_type": "stream",
     "text": [
      "/var/folders/pz/qy3yq1t97s7g1m5s3hbsqjpc0000gn/T/ipykernel_32418/1421884890.py:1: SettingWithCopyWarning: \n",
      "A value is trying to be set on a copy of a slice from a DataFrame.\n",
      "Try using .loc[row_indexer,col_indexer] = value instead\n",
      "\n",
      "See the caveats in the documentation: https://pandas.pydata.org/pandas-docs/stable/user_guide/indexing.html#returning-a-view-versus-a-copy\n",
      "  hh_adults_all_wvs[\"education_above_med\"] = (hh_adults_all_wvs['education_level'].gt(hh_adults_all_wvs['education_level'].median())).astype(int)\n"
     ]
    }
   ],
   "source": [
    "hh_adults_all_wvs[\"education_above_med\"] = (hh_adults_all_wvs['education_level'].gt(hh_adults_all_wvs['education_level'].median())).astype(int)"
   ]
  },
  {
   "cell_type": "code",
   "execution_count": 73,
   "metadata": {},
   "outputs": [
    {
     "data": {
      "text/plain": [
       "0.17045054115278127"
      ]
     },
     "execution_count": 73,
     "metadata": {},
     "output_type": "execute_result"
    }
   ],
   "source": [
    "hh_adults_all_wvs[\"education_above_med\"].mean()"
   ]
  },
  {
   "cell_type": "code",
   "execution_count": 74,
   "metadata": {},
   "outputs": [
    {
     "data": {
      "text/plain": [
       "gender_label\n",
       "Female    0.148640\n",
       "Male      0.195902\n",
       "Name: education_above_med, dtype: float64"
      ]
     },
     "execution_count": 74,
     "metadata": {},
     "output_type": "execute_result"
    }
   ],
   "source": [
    "# On average more males are above the median education\n",
    "hh_adults_all_wvs.groupby(\"gender_label\")[\"education_above_med\"].mean()"
   ]
  },
  {
   "cell_type": "code",
   "execution_count": 75,
   "metadata": {},
   "outputs": [
    {
     "name": "stderr",
     "output_type": "stream",
     "text": [
      "/var/folders/pz/qy3yq1t97s7g1m5s3hbsqjpc0000gn/T/ipykernel_32418/1435548894.py:1: SettingWithCopyWarning: \n",
      "A value is trying to be set on a copy of a slice from a DataFrame.\n",
      "Try using .loc[row_indexer,col_indexer] = value instead\n",
      "\n",
      "See the caveats in the documentation: https://pandas.pydata.org/pandas-docs/stable/user_guide/indexing.html#returning-a-view-versus-a-copy\n",
      "  hh_adults_all_wvs['married'] = hh_adults_all_wvs['marital'].replace({1:1,2:0,3:1,4:0,5:1,6:0,7:0,8:0,9:0,'z':0})\n"
     ]
    }
   ],
   "source": [
    "hh_adults_all_wvs['married'] = hh_adults_all_wvs['marital'].replace({1:1,2:0,3:1,4:0,5:1,6:0,7:0,8:0,9:0,'z':0})"
   ]
  },
  {
   "cell_type": "code",
   "execution_count": 76,
   "metadata": {},
   "outputs": [
    {
     "data": {
      "text/plain": [
       "0.42414014786242366"
      ]
     },
     "execution_count": 76,
     "metadata": {},
     "output_type": "execute_result"
    }
   ],
   "source": [
    "hh_adults_all_wvs['married'].mean()"
   ]
  },
  {
   "cell_type": "code",
   "execution_count": 77,
   "metadata": {},
   "outputs": [],
   "source": [
    "#Calculate binary variable poor score\n",
    "poverty_dict = {}\n",
    "def calculate_poor(row):\n",
    "    wave = row[\"wave\"]\n",
    "    hhid = row[\"hhid\"]\n",
    "    poor = 0\n",
    "    key = f\"{wave}{hhid}\"\n",
    "    if row[\"s2_q19_floormat\"] == 1 or row[\"s2_q19_floormat\"] == 2:\n",
    "        poor = 1\n",
    "    poverty_dict.update({key:poor})"
   ]
  },
  {
   "cell_type": "code",
   "execution_count": 78,
   "metadata": {},
   "outputs": [
    {
     "data": {
      "text/plain": [
       "0        None\n",
       "1        None\n",
       "2        None\n",
       "3        None\n",
       "4        None\n",
       "         ... \n",
       "40230    None\n",
       "40231    None\n",
       "40232    None\n",
       "40233    None\n",
       "40234    None\n",
       "Length: 40235, dtype: object"
      ]
     },
     "execution_count": 78,
     "metadata": {},
     "output_type": "execute_result"
    }
   ],
   "source": [
    "hh_df.apply(lambda row: calculate_poor(row), axis=1)"
   ]
  },
  {
   "cell_type": "code",
   "execution_count": 79,
   "metadata": {},
   "outputs": [
    {
     "data": {
      "text/plain": [
       "40235"
      ]
     },
     "execution_count": 79,
     "metadata": {},
     "output_type": "execute_result"
    }
   ],
   "source": [
    "len(poverty_dict)"
   ]
  },
  {
   "cell_type": "code",
   "execution_count": 80,
   "metadata": {},
   "outputs": [],
   "source": [
    "poverty_binary_list = []\n",
    "def map_poverty_binary(row, poverty_dict):\n",
    "    wave = row[\"wave\"]\n",
    "    hhid = row[\"hhid\"]\n",
    "    poverty_binary_list.append(poverty_dict[f\"{wave}{hhid}\"])"
   ]
  },
  {
   "cell_type": "code",
   "execution_count": 81,
   "metadata": {},
   "outputs": [
    {
     "data": {
      "text/plain": [
       "1        None\n",
       "3        None\n",
       "4        None\n",
       "6        None\n",
       "18       None\n",
       "         ... \n",
       "96862    None\n",
       "96866    None\n",
       "96868    None\n",
       "96870    None\n",
       "96874    None\n",
       "Length: 19865, dtype: object"
      ]
     },
     "execution_count": 81,
     "metadata": {},
     "output_type": "execute_result"
    }
   ],
   "source": [
    "hh_adults_all_wvs.apply(lambda row: map_poverty_binary(row, poverty_dict), axis=1)"
   ]
  },
  {
   "cell_type": "code",
   "execution_count": 82,
   "metadata": {},
   "outputs": [
    {
     "name": "stderr",
     "output_type": "stream",
     "text": [
      "/var/folders/pz/qy3yq1t97s7g1m5s3hbsqjpc0000gn/T/ipykernel_32418/1286262061.py:1: SettingWithCopyWarning: \n",
      "A value is trying to be set on a copy of a slice from a DataFrame.\n",
      "Try using .loc[row_indexer,col_indexer] = value instead\n",
      "\n",
      "See the caveats in the documentation: https://pandas.pydata.org/pandas-docs/stable/user_guide/indexing.html#returning-a-view-versus-a-copy\n",
      "  hh_adults_all_wvs['poor'] = poverty_binary_list\n"
     ]
    }
   ],
   "source": [
    "hh_adults_all_wvs['poor'] = poverty_binary_list"
   ]
  },
  {
   "cell_type": "code",
   "execution_count": 83,
   "metadata": {},
   "outputs": [
    {
     "data": {
      "text/plain": [
       "0.3795117040020136"
      ]
     },
     "execution_count": 83,
     "metadata": {},
     "output_type": "execute_result"
    }
   ],
   "source": [
    "hh_adults_all_wvs[\"poor\"].mean()"
   ]
  },
  {
   "cell_type": "code",
   "execution_count": 84,
   "metadata": {},
   "outputs": [
    {
     "data": {
      "text/html": [
       "<div>\n",
       "<style scoped>\n",
       "    .dataframe tbody tr th:only-of-type {\n",
       "        vertical-align: middle;\n",
       "    }\n",
       "\n",
       "    .dataframe tbody tr th {\n",
       "        vertical-align: top;\n",
       "    }\n",
       "\n",
       "    .dataframe thead th {\n",
       "        text-align: right;\n",
       "    }\n",
       "</style>\n",
       "<table border=\"1\" class=\"dataframe\">\n",
       "  <thead>\n",
       "    <tr style=\"text-align: right;\">\n",
       "      <th></th>\n",
       "      <th>mean</th>\n",
       "      <th>std</th>\n",
       "    </tr>\n",
       "    <tr>\n",
       "      <th>wave</th>\n",
       "      <th></th>\n",
       "      <th></th>\n",
       "    </tr>\n",
       "  </thead>\n",
       "  <tbody>\n",
       "    <tr>\n",
       "      <th>1</th>\n",
       "      <td>0.383001</td>\n",
       "      <td>0.486243</td>\n",
       "    </tr>\n",
       "    <tr>\n",
       "      <th>2</th>\n",
       "      <td>0.381904</td>\n",
       "      <td>0.485948</td>\n",
       "    </tr>\n",
       "    <tr>\n",
       "      <th>3</th>\n",
       "      <td>0.341651</td>\n",
       "      <td>0.474350</td>\n",
       "    </tr>\n",
       "    <tr>\n",
       "      <th>4</th>\n",
       "      <td>0.389391</td>\n",
       "      <td>0.487704</td>\n",
       "    </tr>\n",
       "    <tr>\n",
       "      <th>5</th>\n",
       "      <td>0.393995</td>\n",
       "      <td>0.488690</td>\n",
       "    </tr>\n",
       "    <tr>\n",
       "      <th>6</th>\n",
       "      <td>0.392758</td>\n",
       "      <td>0.488449</td>\n",
       "    </tr>\n",
       "    <tr>\n",
       "      <th>7</th>\n",
       "      <td>0.366258</td>\n",
       "      <td>0.481868</td>\n",
       "    </tr>\n",
       "  </tbody>\n",
       "</table>\n",
       "</div>"
      ],
      "text/plain": [
       "          mean       std\n",
       "wave                    \n",
       "1     0.383001  0.486243\n",
       "2     0.381904  0.485948\n",
       "3     0.341651  0.474350\n",
       "4     0.389391  0.487704\n",
       "5     0.393995  0.488690\n",
       "6     0.392758  0.488449\n",
       "7     0.366258  0.481868"
      ]
     },
     "execution_count": 84,
     "metadata": {},
     "output_type": "execute_result"
    }
   ],
   "source": [
    "hh_adults_all_wvs.groupby(\"wave\")[\"poor\"].agg([\"mean\",\"std\"])"
   ]
  },
  {
   "cell_type": "code",
   "execution_count": 85,
   "metadata": {},
   "outputs": [],
   "source": [
    "county_dict = {}\n",
    "def get_county(row):\n",
    "    wave = row[\"wave\"]\n",
    "    hhid = row[\"hhid\"]\n",
    "    key = f\"{wave}{hhid}\"\n",
    "    county_dict.update({key:row[\"s2_q9a_county\"]})"
   ]
  },
  {
   "cell_type": "code",
   "execution_count": 86,
   "metadata": {},
   "outputs": [
    {
     "data": {
      "text/plain": [
       "0        None\n",
       "1        None\n",
       "2        None\n",
       "3        None\n",
       "4        None\n",
       "         ... \n",
       "40230    None\n",
       "40231    None\n",
       "40232    None\n",
       "40233    None\n",
       "40234    None\n",
       "Length: 40235, dtype: object"
      ]
     },
     "execution_count": 86,
     "metadata": {},
     "output_type": "execute_result"
    }
   ],
   "source": [
    "hh_df.apply(lambda row: get_county(row), axis=1)"
   ]
  },
  {
   "cell_type": "code",
   "execution_count": 202,
   "metadata": {},
   "outputs": [],
   "source": []
  },
  {
   "cell_type": "code",
   "execution_count": 203,
   "metadata": {},
   "outputs": [
    {
     "data": {
      "text/plain": [
       "0        None\n",
       "1        None\n",
       "2        None\n",
       "3        None\n",
       "4        None\n",
       "         ... \n",
       "40230    None\n",
       "40231    None\n",
       "40232    None\n",
       "40233    None\n",
       "40234    None\n",
       "Length: 40235, dtype: object"
      ]
     },
     "execution_count": 203,
     "metadata": {},
     "output_type": "execute_result"
    }
   ],
   "source": [
    "hh_df.apply(lambda row: get_hhsize(row), axis=1)"
   ]
  },
  {
   "cell_type": "code",
   "execution_count": 87,
   "metadata": {},
   "outputs": [],
   "source": [
    "counties_list = []\n",
    "def map_country(row, county_dict):\n",
    "    wave = row[\"wave\"]\n",
    "    hhid = row[\"hhid\"]\n",
    "    counties_list.append(county_dict[f\"{wave}{hhid}\"])"
   ]
  },
  {
   "cell_type": "code",
   "execution_count": 88,
   "metadata": {},
   "outputs": [
    {
     "data": {
      "text/plain": [
       "1        None\n",
       "3        None\n",
       "4        None\n",
       "6        None\n",
       "18       None\n",
       "         ... \n",
       "96862    None\n",
       "96866    None\n",
       "96868    None\n",
       "96870    None\n",
       "96874    None\n",
       "Length: 19865, dtype: object"
      ]
     },
     "execution_count": 88,
     "metadata": {},
     "output_type": "execute_result"
    }
   ],
   "source": [
    "hh_adults_all_wvs.apply(lambda row: map_country(row, county_dict), axis=1)"
   ]
  },
  {
   "cell_type": "code",
   "execution_count": null,
   "metadata": {},
   "outputs": [],
   "source": [
    "hhsizelist = []\n",
    "def map_country(row, county_dict):\n",
    "    wave = row[\"wave\"]\n",
    "    hhid = row[\"hhid\"]\n",
    "    counties_list.append(county_dict[f\"{wave}{hhid}\"])"
   ]
  },
  {
   "cell_type": "code",
   "execution_count": 89,
   "metadata": {},
   "outputs": [
    {
     "name": "stderr",
     "output_type": "stream",
     "text": [
      "/var/folders/pz/qy3yq1t97s7g1m5s3hbsqjpc0000gn/T/ipykernel_32418/2495955281.py:1: SettingWithCopyWarning: \n",
      "A value is trying to be set on a copy of a slice from a DataFrame.\n",
      "Try using .loc[row_indexer,col_indexer] = value instead\n",
      "\n",
      "See the caveats in the documentation: https://pandas.pydata.org/pandas-docs/stable/user_guide/indexing.html#returning-a-view-versus-a-copy\n",
      "  hh_adults_all_wvs['county'] = counties_list\n"
     ]
    }
   ],
   "source": [
    "hh_adults_all_wvs['county'] = counties_list"
   ]
  },
  {
   "cell_type": "code",
   "execution_count": 90,
   "metadata": {},
   "outputs": [],
   "source": [
    "model_vars = [\"trust_index\", \"compliance_index\",\"age_group\",\"gender\",\"education_above_med\", \"poor\", \"urban\", \"ishead\",\"county\",\"trust_people\"]"
   ]
  },
  {
   "cell_type": "code",
   "execution_count": 91,
   "metadata": {},
   "outputs": [
    {
     "name": "stdout",
     "output_type": "stream",
     "text": [
      "<class 'pandas.core.frame.DataFrame'>\n",
      "Int64Index: 19865 entries, 1 to 96874\n",
      "Data columns (total 10 columns):\n",
      " #   Column               Non-Null Count  Dtype   \n",
      "---  ------               --------------  -----   \n",
      " 0   trust_index          19865 non-null  int64   \n",
      " 1   compliance_index     19865 non-null  int64   \n",
      " 2   age_group            19862 non-null  category\n",
      " 3   gender               19847 non-null  float64 \n",
      " 4   education_above_med  19865 non-null  int64   \n",
      " 5   poor                 19865 non-null  int64   \n",
      " 6   urban                19865 non-null  int64   \n",
      " 7   ishead               19865 non-null  int64   \n",
      " 8   county               19865 non-null  int64   \n",
      " 9   trust_people         19776 non-null  float64 \n",
      "dtypes: category(1), float64(2), int64(7)\n",
      "memory usage: 1.5 MB\n"
     ]
    }
   ],
   "source": [
    "hh_adults_all_wvs[model_vars].info()"
   ]
  },
  {
   "cell_type": "code",
   "execution_count": 92,
   "metadata": {},
   "outputs": [
    {
     "name": "stderr",
     "output_type": "stream",
     "text": [
      "/var/folders/pz/qy3yq1t97s7g1m5s3hbsqjpc0000gn/T/ipykernel_32418/1587053070.py:1: SettingWithCopyWarning: \n",
      "A value is trying to be set on a copy of a slice from a DataFrame\n",
      "\n",
      "See the caveats in the documentation: https://pandas.pydata.org/pandas-docs/stable/user_guide/indexing.html#returning-a-view-versus-a-copy\n",
      "  hh_adults_all_wvs.dropna(subset=model_vars, how='any', inplace=True)\n"
     ]
    }
   ],
   "source": [
    "hh_adults_all_wvs.dropna(subset=model_vars, how='any', inplace=True)"
   ]
  },
  {
   "cell_type": "code",
   "execution_count": 93,
   "metadata": {},
   "outputs": [
    {
     "name": "stdout",
     "output_type": "stream",
     "text": [
      "<class 'pandas.core.frame.DataFrame'>\n",
      "Int64Index: 19756 entries, 1 to 96874\n",
      "Data columns (total 10 columns):\n",
      " #   Column               Non-Null Count  Dtype   \n",
      "---  ------               --------------  -----   \n",
      " 0   trust_index          19756 non-null  int64   \n",
      " 1   compliance_index     19756 non-null  int64   \n",
      " 2   age_group            19756 non-null  category\n",
      " 3   gender               19756 non-null  float64 \n",
      " 4   education_above_med  19756 non-null  int64   \n",
      " 5   poor                 19756 non-null  int64   \n",
      " 6   urban                19756 non-null  int64   \n",
      " 7   ishead               19756 non-null  int64   \n",
      " 8   county               19756 non-null  int64   \n",
      " 9   trust_people         19756 non-null  float64 \n",
      "dtypes: category(1), float64(2), int64(7)\n",
      "memory usage: 1.5 MB\n"
     ]
    }
   ],
   "source": [
    "hh_adults_all_wvs[model_vars].info()"
   ]
  },
  {
   "cell_type": "code",
   "execution_count": 94,
   "metadata": {},
   "outputs": [
    {
     "name": "stderr",
     "output_type": "stream",
     "text": [
      "/var/folders/pz/qy3yq1t97s7g1m5s3hbsqjpc0000gn/T/ipykernel_32418/3953526451.py:1: SettingWithCopyWarning: \n",
      "A value is trying to be set on a copy of a slice from a DataFrame.\n",
      "Try using .loc[row_indexer,col_indexer] = value instead\n",
      "\n",
      "See the caveats in the documentation: https://pandas.pydata.org/pandas-docs/stable/user_guide/indexing.html#returning-a-view-versus-a-copy\n",
      "  hh_adults_all_wvs[['trust_index', 'compliance_index']] = StandardScaler().fit_transform(hh_adults_all_wvs[['trust_index','compliance_index']])\n"
     ]
    }
   ],
   "source": [
    "hh_adults_all_wvs[['trust_index', 'compliance_index']] = StandardScaler().fit_transform(hh_adults_all_wvs[['trust_index','compliance_index']])"
   ]
  },
  {
   "cell_type": "code",
   "execution_count": 95,
   "metadata": {},
   "outputs": [],
   "source": [
    "compliance_by_wave = hh_adults_all_wvs.groupby(\"wave\")[\"compliance_index\"].mean()\n",
    "trust_by_wave = pd.DataFrame(hh_adults_all_wvs.groupby(\"wave\")[\"trust_index\"].mean())\n",
    "trust_by_wave[\"compliance_index\"] = pd.DataFrame(compliance_by_wave)"
   ]
  },
  {
   "cell_type": "code",
   "execution_count": 96,
   "metadata": {},
   "outputs": [],
   "source": [
    "trust_by_wave[\"StartDate\"] = [\"07-2020\",\"08-2020\",\"12-2020\",\"03-2021\",\"06-2021\",\"11-2021\",\"03-2022\"]\n",
    "trust_by_wave[\"EndDate\"] = [\"07-2020\",\"08-2020\",\"12-2020\",\"03-2021\",\"06-2021\",\"11-2021\",\"03-2022\"]"
   ]
  },
  {
   "cell_type": "code",
   "execution_count": 97,
   "metadata": {},
   "outputs": [],
   "source": [
    "# convert the 'Date' column to datetime format\n",
    "trust_by_wave['StartDate']= pd.to_datetime(trust_by_wave['StartDate'],format='%m-%Y').dt.strftime('%b-%Y')\n",
    "trust_by_wave['EndDate']= pd.to_datetime(trust_by_wave['EndDate'],format='%m-%Y').dt.strftime('%b-%Y')"
   ]
  },
  {
   "cell_type": "code",
   "execution_count": 98,
   "metadata": {},
   "outputs": [
    {
     "data": {
      "text/html": [
       "<div>\n",
       "<style scoped>\n",
       "    .dataframe tbody tr th:only-of-type {\n",
       "        vertical-align: middle;\n",
       "    }\n",
       "\n",
       "    .dataframe tbody tr th {\n",
       "        vertical-align: top;\n",
       "    }\n",
       "\n",
       "    .dataframe thead th {\n",
       "        text-align: right;\n",
       "    }\n",
       "</style>\n",
       "<table border=\"1\" class=\"dataframe\">\n",
       "  <thead>\n",
       "    <tr style=\"text-align: right;\">\n",
       "      <th></th>\n",
       "      <th>trust_index</th>\n",
       "      <th>compliance_index</th>\n",
       "      <th>StartDate</th>\n",
       "      <th>EndDate</th>\n",
       "    </tr>\n",
       "    <tr>\n",
       "      <th>wave</th>\n",
       "      <th></th>\n",
       "      <th></th>\n",
       "      <th></th>\n",
       "      <th></th>\n",
       "    </tr>\n",
       "  </thead>\n",
       "  <tbody>\n",
       "    <tr>\n",
       "      <th>1</th>\n",
       "      <td>0.131151</td>\n",
       "      <td>0.469748</td>\n",
       "      <td>Jul-2020</td>\n",
       "      <td>Jul-2020</td>\n",
       "    </tr>\n",
       "    <tr>\n",
       "      <th>2</th>\n",
       "      <td>0.198685</td>\n",
       "      <td>0.167154</td>\n",
       "      <td>Aug-2020</td>\n",
       "      <td>Aug-2020</td>\n",
       "    </tr>\n",
       "    <tr>\n",
       "      <th>3</th>\n",
       "      <td>-0.020782</td>\n",
       "      <td>-0.342773</td>\n",
       "      <td>Dec-2020</td>\n",
       "      <td>Dec-2020</td>\n",
       "    </tr>\n",
       "    <tr>\n",
       "      <th>4</th>\n",
       "      <td>-0.159169</td>\n",
       "      <td>-0.188029</td>\n",
       "      <td>Mar-2021</td>\n",
       "      <td>Mar-2021</td>\n",
       "    </tr>\n",
       "    <tr>\n",
       "      <th>5</th>\n",
       "      <td>-0.096598</td>\n",
       "      <td>0.089277</td>\n",
       "      <td>Jun-2021</td>\n",
       "      <td>Jun-2021</td>\n",
       "    </tr>\n",
       "  </tbody>\n",
       "</table>\n",
       "</div>"
      ],
      "text/plain": [
       "      trust_index  compliance_index StartDate   EndDate\n",
       "wave                                                   \n",
       "1        0.131151          0.469748  Jul-2020  Jul-2020\n",
       "2        0.198685          0.167154  Aug-2020  Aug-2020\n",
       "3       -0.020782         -0.342773  Dec-2020  Dec-2020\n",
       "4       -0.159169         -0.188029  Mar-2021  Mar-2021\n",
       "5       -0.096598          0.089277  Jun-2021  Jun-2021"
      ]
     },
     "execution_count": 98,
     "metadata": {},
     "output_type": "execute_result"
    }
   ],
   "source": [
    "trust_by_wave.head()"
   ]
  },
  {
   "cell_type": "code",
   "execution_count": 99,
   "metadata": {},
   "outputs": [],
   "source": [
    "trust_by_wave.set_index(['EndDate'], inplace=True)"
   ]
  },
  {
   "cell_type": "code",
   "execution_count": 100,
   "metadata": {},
   "outputs": [
    {
     "data": {
      "text/plain": [
       "<AxesSubplot:xlabel='EndDate'>"
      ]
     },
     "execution_count": 100,
     "metadata": {},
     "output_type": "execute_result"
    },
    {
     "data": {
      "image/png": "[encoded data removed]",
      "text/plain": [
       "<Figure size 698.4x523.44 with 1 Axes>"
      ]
     },
     "metadata": {},
     "output_type": "display_data"
    }
   ],
   "source": [
    "import seaborn as sns\n",
    "\n",
    "sns.set(rc={'figure.figsize':(9.7,7.27)})\n",
    "sns.lineplot(data=trust_by_wave,markers=True, marker=\"o\")"
   ]
  },
  {
   "attachments": {},
   "cell_type": "markdown",
   "metadata": {},
   "source": [
    "## RQ1: Do people who trust the government more likely to comply with COVID 19 guidelines?"
   ]
  },
  {
   "cell_type": "code",
   "execution_count": 101,
   "metadata": {},
   "outputs": [
    {
     "name": "stderr",
     "output_type": "stream",
     "text": [
      "/var/folders/pz/qy3yq1t97s7g1m5s3hbsqjpc0000gn/T/ipykernel_32418/3953526451.py:1: SettingWithCopyWarning: \n",
      "A value is trying to be set on a copy of a slice from a DataFrame.\n",
      "Try using .loc[row_indexer,col_indexer] = value instead\n",
      "\n",
      "See the caveats in the documentation: https://pandas.pydata.org/pandas-docs/stable/user_guide/indexing.html#returning-a-view-versus-a-copy\n",
      "  hh_adults_all_wvs[['trust_index', 'compliance_index']] = StandardScaler().fit_transform(hh_adults_all_wvs[['trust_index','compliance_index']])\n"
     ]
    }
   ],
   "source": [
    "hh_adults_all_wvs[['trust_index', 'compliance_index']] = StandardScaler().fit_transform(hh_adults_all_wvs[['trust_index','compliance_index']])"
   ]
  },
  {
   "cell_type": "code",
   "execution_count": 102,
   "metadata": {},
   "outputs": [],
   "source": [
    "from statsmodels.formula.api import probit"
   ]
  },
  {
   "cell_type": "code",
   "execution_count": 103,
   "metadata": {},
   "outputs": [
    {
     "data": {
      "text/html": [
       "<div>\n",
       "<style scoped>\n",
       "    .dataframe tbody tr th:only-of-type {\n",
       "        vertical-align: middle;\n",
       "    }\n",
       "\n",
       "    .dataframe tbody tr th {\n",
       "        vertical-align: top;\n",
       "    }\n",
       "\n",
       "    .dataframe thead th {\n",
       "        text-align: right;\n",
       "    }\n",
       "</style>\n",
       "<table border=\"1\" class=\"dataframe\">\n",
       "  <thead>\n",
       "    <tr style=\"text-align: right;\">\n",
       "      <th></th>\n",
       "      <th>trust_index</th>\n",
       "      <th>gender</th>\n",
       "      <th>education_above_med</th>\n",
       "      <th>age_group</th>\n",
       "      <th>urban</th>\n",
       "      <th>poor</th>\n",
       "      <th>ishead</th>\n",
       "      <th>trust_people</th>\n",
       "    </tr>\n",
       "  </thead>\n",
       "  <tbody>\n",
       "    <tr>\n",
       "      <th>0</th>\n",
       "      <td>-1.0</td>\n",
       "      <td>1</td>\n",
       "      <td>0</td>\n",
       "      <td>Age 31-40</td>\n",
       "      <td>1</td>\n",
       "      <td>0</td>\n",
       "      <td>0</td>\n",
       "      <td>0</td>\n",
       "    </tr>\n",
       "    <tr>\n",
       "      <th>1</th>\n",
       "      <td>1.0</td>\n",
       "      <td>1</td>\n",
       "      <td>0</td>\n",
       "      <td>Age 31-40</td>\n",
       "      <td>1</td>\n",
       "      <td>0</td>\n",
       "      <td>0</td>\n",
       "      <td>0</td>\n",
       "    </tr>\n",
       "  </tbody>\n",
       "</table>\n",
       "</div>"
      ],
      "text/plain": [
       "   trust_index  gender  education_above_med  age_group  urban  poor  ishead  \\\n",
       "0         -1.0       1                    0  Age 31-40      1     0       0   \n",
       "1          1.0       1                    0  Age 31-40      1     0       0   \n",
       "\n",
       "   trust_people  \n",
       "0             0  \n",
       "1             0  "
      ]
     },
     "execution_count": 103,
     "metadata": {},
     "output_type": "execute_result"
    }
   ],
   "source": [
    "d = [{'trust_index': 1, 'gender':1, 'education_above_med': 0, 'age_group':'Age 31-40', 'urban':1, 'poor':0, 'ishead':0, 'trust_people':0},\n",
    "    {'trust_index': 5, 'gender':1, 'education_above_med': 0, 'age_group':'Age 31-40', 'urban':1, 'poor':0, 'ishead':0, 'trust_people':0}]\n",
    "nd = pd.DataFrame(data=d)\n",
    "nd['trust_index'] = StandardScaler().fit_transform(nd[['trust_index']])\n",
    "nd.head()"
   ]
  },
  {
   "cell_type": "code",
   "execution_count": 121,
   "metadata": {},
   "outputs": [],
   "source": [
    "import statsmodels.genmod.bayes_mixed_glm as mglm"
   ]
  },
  {
   "cell_type": "code",
   "execution_count": 129,
   "metadata": {},
   "outputs": [],
   "source": [
    "formula = \"avoid_groups_more ~ trust_index + gender + trust_index + gender  + education_above_med + C(age_group) + urban + poor + ishead + trust_people \"\n",
    "mod1 = smf.glm(formula=formula, data=hh_adults_all_wvs,\n",
    "               family=sm.families.Binomial()).fit()\n",
    "pred = mod1.get_prediction(exog=nd)\n",
    "prob = pred.predicted_mean\n",
    "ci = pred.conf_int()\n",
    "lower = [prob[0] - ci[0,0], prob[1] - ci[1,0]]\n",
    "upper = [ci[0,1] - prob[0], ci[1,1] - prob[1]]"
   ]
  },
  {
   "cell_type": "code",
   "execution_count": 137,
   "metadata": {},
   "outputs": [],
   "source": [
    "formula = \"wash_hand_more ~ trust_index + gender + trust_index + gender  + education_above_med + C(age_group) + urban + poor + ishead + trust_people \"\n",
    "mod2 = smf.glm(formula=formula, data=hh_adults_all_wvs,\n",
    "               family=sm.families.Binomial()).fit()\n",
    "pred = mod2.get_prediction(exog=nd)\n",
    "wash_prob = pred.predicted_mean\n",
    "ci = pred.conf_int()\n",
    "w_lower = [wash_prob[0] - ci[0,0], wash_prob[1] - ci[1,0]]\n",
    "w_upper = [ci[0,1] - wash_prob[0], ci[1,1] - wash_prob[1]]"
   ]
  },
  {
   "cell_type": "code",
   "execution_count": 143,
   "metadata": {},
   "outputs": [],
   "source": [
    "formula = \"avoid_contact_more ~ trust_index + gender + trust_index + gender  + education_above_med + C(age_group) + urban + poor + ishead + trust_people \"\n",
    "mod3 = smf.glm(formula=formula, data=hh_adults_all_wvs,\n",
    "               family=sm.families.Binomial()).fit()\n",
    "pred = mod3.get_prediction(exog=nd)\n",
    "ct_prob = pred.predicted_mean\n",
    "ci = pred.conf_int()\n",
    "ct_lower = [ct_prob[0] - ci[0,0], ct_prob[1] - ci[1,0]]\n",
    "ct_upper = [ci[0,1] - ct_prob[0], ci[1,1] - ct_prob[1]]"
   ]
  },
  {
   "cell_type": "code",
   "execution_count": 146,
   "metadata": {},
   "outputs": [
    {
     "data": {
      "text/plain": [
       "array([0.96579504, 0.97542006])"
      ]
     },
     "execution_count": 146,
     "metadata": {},
     "output_type": "execute_result"
    }
   ],
   "source": [
    "pred.predicted_mean"
   ]
  },
  {
   "cell_type": "code",
   "execution_count": 107,
   "metadata": {},
   "outputs": [
    {
     "data": {
      "image/png": "[encoded data removed]",
      "text/plain": [
       "<Figure size 612x468 with 3 Axes>"
      ]
     },
     "metadata": {},
     "output_type": "display_data"
    }
   ],
   "source": [
    "fig, axs = plt.subplots(1, 3, constrained_layout=True)\n",
    "fig.set_size_inches(8.5, 6.5, forward=True)\n",
    "fig.suptitle(\"Predicted probabilities of compliance vs Levels of Trust in Govt\")\n",
    "axs[0].set_ylabel('Predicted probabilities of Compliance')\n",
    "\n",
    "axs[0].errorbar(x = [\"Low Trust\",\"High Trust\"], y = prob, \n",
    "             yerr=[lower, upper], fmt='ok', capsize=3)\n",
    "axs[0].set_xlabel(\"Avoid Groups More\")\n",
    "\n",
    "axs[1].errorbar(x = [\"Low Trust\",\"High Trust\"], y = wash_prob, \n",
    "             yerr=[w_lower, w_upper], fmt='ok', capsize=3)\n",
    "axs[1].set_xlabel(\"Wash Hand More\")\n",
    "\n",
    "\n",
    "\n",
    "axs[2].errorbar(x = [\"Low Trust\",\"High Trust\"], y = ct_prob, \n",
    "             yerr=[ct_lower, ct_upper], fmt='ok',capsize=3)\n",
    "axs[2].set_xlabel(\"Avoid Contact More\")\n",
    "plt.show()"
   ]
  },
  {
   "cell_type": "code",
   "execution_count": 108,
   "metadata": {},
   "outputs": [],
   "source": [
    "import statsmodels.regression.mixed_linear_model as mlm"
   ]
  },
  {
   "cell_type": "code",
   "execution_count": 117,
   "metadata": {},
   "outputs": [
    {
     "name": "stderr",
     "output_type": "stream",
     "text": [
      "/var/folders/pz/qy3yq1t97s7g1m5s3hbsqjpc0000gn/T/ipykernel_32418/1729263077.py:1: SettingWithCopyWarning: \n",
      "A value is trying to be set on a copy of a slice from a DataFrame.\n",
      "Try using .loc[row_indexer,col_indexer] = value instead\n",
      "\n",
      "See the caveats in the documentation: https://pandas.pydata.org/pandas-docs/stable/user_guide/indexing.html#returning-a-view-versus-a-copy\n",
      "  hh_adults_all_wvs[\"individual_id\"] = hh_adults_all_wvs.groupby([\"hhid\", \"adult_id\"]).ngroup()\n"
     ]
    }
   ],
   "source": [
    "hh_adults_all_wvs[\"individual_id\"] = hh_adults_all_wvs.groupby([\"hhid\", \"adult_id\"]).ngroup()"
   ]
  },
  {
   "cell_type": "code",
   "execution_count": 118,
   "metadata": {},
   "outputs": [],
   "source": [
    "formula = \"compliance_index ~ trust_index + gender + education_above_med + C(age_group) + urban + poor + ishead\""
   ]
  },
  {
   "cell_type": "code",
   "execution_count": 120,
   "metadata": {},
   "outputs": [
    {
     "name": "stdout",
     "output_type": "stream",
     "text": [
      "                            OLS Regression Results                            \n",
      "==============================================================================\n",
      "Dep. Variable:       compliance_index   R-squared:                       0.008\n",
      "Model:                            OLS   Adj. R-squared:                  0.007\n",
      "Method:                 Least Squares   F-statistic:                     15.40\n",
      "Date:                Wed, 11 Jan 2023   Prob (F-statistic):           7.24e-28\n",
      "Time:                        06:22:33   Log-Likelihood:                -27956.\n",
      "No. Observations:               19756   AIC:                         5.593e+04\n",
      "Df Residuals:                   19745   BIC:                         5.602e+04\n",
      "Df Model:                          10                                         \n",
      "Covariance Type:            nonrobust                                         \n",
      "===================================================================================================\n",
      "                                      coef    std err          t      P>|t|      [0.025      0.975]\n",
      "---------------------------------------------------------------------------------------------------\n",
      "Intercept                          -0.0510      0.025     -2.028      0.043      -0.100      -0.002\n",
      "C(age_group)[T.Age 31-40]           0.0159      0.020      0.805      0.421      -0.023       0.055\n",
      "C(age_group)[T.Age 41-50]           0.0132      0.022      0.606      0.544      -0.030       0.056\n",
      "C(age_group)[T.Age 51-60]           0.0118      0.025      0.467      0.640      -0.038       0.061\n",
      "C(age_group)[T.Age 61 or above]     0.0251      0.027      0.934      0.350      -0.028       0.078\n",
      "trust_index                         0.0858      0.007     12.086      0.000       0.072       0.100\n",
      "gender                              0.0082      0.016      0.527      0.598      -0.022       0.039\n",
      "education_above_med                 0.0385      0.020      1.954      0.051      -0.000       0.077\n",
      "urban                               0.0233      0.015      1.602      0.109      -0.005       0.052\n",
      "poor                                0.0169      0.015      1.105      0.269      -0.013       0.047\n",
      "ishead                              0.0120      0.018      0.660      0.509      -0.024       0.048\n",
      "==============================================================================\n",
      "Omnibus:                     8056.805   Durbin-Watson:                   2.000\n",
      "Prob(Omnibus):                  0.000   Jarque-Bera (JB):            30398.431\n",
      "Skew:                          -2.078   Prob(JB):                         0.00\n",
      "Kurtosis:                       7.433   Cond. No.                         8.75\n",
      "==============================================================================\n",
      "\n",
      "Notes:\n",
      "[1] Standard Errors assume that the covariance matrix of the errors is correctly specified.\n"
     ]
    }
   ],
   "source": [
    "# Adapted from https://github.com/statsmodels/statsmodels/issues/6802\n",
    "mod = smf.ols(formula=\"compliance_index ~ trust_index + gender + education_above_med + C(age_group) + urban + poor + ishead + trust_people\", data=hh_adults_all_wvs)\n",
    "res = mod.fit()\n",
    "print(res.summary())"
   ]
  },
  {
   "cell_type": "code",
   "execution_count": 119,
   "metadata": {},
   "outputs": [
    {
     "name": "stderr",
     "output_type": "stream",
     "text": [
      "/opt/anaconda3/lib/python3.9/site-packages/statsmodels/regression/mixed_linear_model.py:2261: ConvergenceWarning: The Hessian matrix at the estimated parameter values is not positive definite.\n",
      "  warnings.warn(msg, ConvergenceWarning)\n"
     ]
    },
    {
     "name": "stdout",
     "output_type": "stream",
     "text": [
      "                  Mixed Linear Model Regression Results\n",
      "==========================================================================\n",
      "Model:                MixedLM     Dependent Variable:     compliance_index\n",
      "No. Observations:     19756       Method:                 REML            \n",
      "No. Groups:           47          Scale:                  0.9007          \n",
      "Min. group size:      103         Log-Likelihood:         -28182.4965     \n",
      "Max. group size:      1179        Converged:              Yes             \n",
      "Mean group size:      420.3                                               \n",
      "--------------------------------------------------------------------------\n",
      "                                Coef.  Std.Err.   z    P>|z| [0.025 0.975]\n",
      "--------------------------------------------------------------------------\n",
      "Intercept                       -0.064    0.144 -0.443 0.658 -0.346  0.219\n",
      "C(age_group)[T.Age 31-40]        0.010    0.022  0.458 0.647 -0.033  0.053\n",
      "C(age_group)[T.Age 41-50]        0.014    0.024  0.564 0.572 -0.034  0.062\n",
      "C(age_group)[T.Age 51-60]        0.009    0.028  0.324 0.746 -0.046  0.065\n",
      "C(age_group)[T.Age 61 or above]  0.019    0.030  0.628 0.530 -0.040  0.078\n",
      "trust_index                      0.082    0.007 11.576 0.000  0.068  0.096\n",
      "gender                           0.004    0.017  0.255 0.799 -0.030  0.039\n",
      "education_above_med              0.028    0.020  1.361 0.173 -0.012  0.067\n",
      "urban                            0.020    0.017  1.203 0.229 -0.013  0.053\n",
      "poor                             0.055    0.016  3.384 0.001  0.023  0.086\n",
      "ishead                           0.005    0.019  0.250 0.802 -0.033  0.042\n",
      "county Var                       0.830                                    \n",
      "group2 Var                       0.065    0.048                           \n",
      "group3 Var                       0.046    0.048                           \n",
      "==========================================================================\n",
      "\n"
     ]
    }
   ],
   "source": [
    "# Adapted from https://github.com/statsmodels/statsmodels/issues/6802\n",
    "mod = smf.mixedlm(formula=\"compliance_index ~ trust_index + gender + education_above_med + C(age_group) + urban + poor + ishead\", data=hh_adults_all_wvs, groups=\"county\", re_formula=\"1\", vc_formula={\"group2\": \"1 + C(hhid)\",\"group3\":\"1 + C(individual_id)\"}, use_sparse=True)\n",
    "res = mod.fit(method=[\"lbfgs\"])\n",
    "print(res.summary())"
   ]
  },
  {
   "attachments": {},
   "cell_type": "markdown",
   "metadata": {},
   "source": [
    "## RQ2: Do people who trust the government more likely to support govt COVID 19 guidelines?"
   ]
  },
  {
   "cell_type": "code",
   "execution_count": 149,
   "metadata": {},
   "outputs": [],
   "source": [
    "support_df = hh_adults_all_wvs"
   ]
  },
  {
   "cell_type": "code",
   "execution_count": 150,
   "metadata": {},
   "outputs": [],
   "source": [
    "support_indicators = [\"s10_prevmeas_1\",\"s10_prevmeas_2\",\"s10_prevmeas_3\",\"s10_prevmeas_4\"]"
   ]
  },
  {
   "cell_type": "code",
   "execution_count": 151,
   "metadata": {},
   "outputs": [],
   "source": [
    "all_heads_df = support_df[support_df.ishead == 1]"
   ]
  },
  {
   "cell_type": "code",
   "execution_count": 152,
   "metadata": {},
   "outputs": [
    {
     "data": {
      "text/plain": [
       "14654"
      ]
     },
     "execution_count": 152,
     "metadata": {},
     "output_type": "execute_result"
    }
   ],
   "source": [
    "len(all_heads_df)"
   ]
  },
  {
   "cell_type": "code",
   "execution_count": 153,
   "metadata": {},
   "outputs": [],
   "source": [
    "prev_measure1_dict = {}\n",
    "def get_prev_measure1_dict(row):\n",
    "    wave = row[\"wave\"]\n",
    "    hhid = row[\"hhid\"]\n",
    "    key = f\"{wave}{hhid}\"\n",
    "    prev_measure1_dict.update({key:row[\"s10_prevmeas_1\"]})\n",
    "\n",
    "prev_measure2_dict = {}\n",
    "def get_prev_measure2_dict(row):\n",
    "    wave = row[\"wave\"]\n",
    "    hhid = row[\"hhid\"]\n",
    "    key = f\"{wave}{hhid}\"\n",
    "    prev_measure2_dict.update({key:row[\"s10_prevmeas_2\"]})\n",
    "\n",
    "prev_measure3_dict = {}\n",
    "def get_prev_measure3_dict(row):\n",
    "    wave = row[\"wave\"]\n",
    "    hhid = row[\"hhid\"]\n",
    "    key = f\"{wave}{hhid}\"\n",
    "    prev_measure3_dict.update({key:row[\"s10_prevmeas_3\"]})\n",
    "\n",
    "prev_measure4_dict = {}\n",
    "def get_prev_measure4_dict(row):\n",
    "    wave = row[\"wave\"]\n",
    "    hhid = row[\"hhid\"]\n",
    "    key = f\"{wave}{hhid}\"\n",
    "    prev_measure4_dict.update({key:row[\"s10_prevmeas_4\"]})"
   ]
  },
  {
   "cell_type": "code",
   "execution_count": 154,
   "metadata": {},
   "outputs": [
    {
     "data": {
      "text/plain": [
       "0        None\n",
       "1        None\n",
       "2        None\n",
       "3        None\n",
       "4        None\n",
       "         ... \n",
       "40230    None\n",
       "40231    None\n",
       "40232    None\n",
       "40233    None\n",
       "40234    None\n",
       "Length: 40235, dtype: object"
      ]
     },
     "execution_count": 154,
     "metadata": {},
     "output_type": "execute_result"
    }
   ],
   "source": [
    "hh_df.apply(lambda row: get_prev_measure1_dict(row), axis=1)\n",
    "hh_df.apply(lambda row: get_prev_measure2_dict(row), axis=1)\n",
    "hh_df.apply(lambda row: get_prev_measure3_dict(row), axis=1)\n",
    "hh_df.apply(lambda row: get_prev_measure4_dict(row), axis=1)"
   ]
  },
  {
   "cell_type": "code",
   "execution_count": 155,
   "metadata": {},
   "outputs": [],
   "source": [
    "prev_measure1_list = []\n",
    "def map_prev_measure1_list(row, prev_measure1_dict):\n",
    "    wave = row[\"wave\"]\n",
    "    hhid = row[\"hhid\"]\n",
    "    prev_measure1_list.append(prev_measure1_dict[f\"{wave}{hhid}\"])\n",
    "\n",
    "prev_measure2_list = []\n",
    "def map_prev_measure2_list(row, prev_measure2_dict):\n",
    "    wave = row[\"wave\"]\n",
    "    hhid = row[\"hhid\"]\n",
    "    prev_measure2_list.append(prev_measure2_dict[f\"{wave}{hhid}\"])\n",
    "\n",
    "prev_measure3_list = []\n",
    "def map_prev_measure3_list(row, prev_measure3_dict):\n",
    "    wave = row[\"wave\"]\n",
    "    hhid = row[\"hhid\"]\n",
    "    prev_measure3_list.append(prev_measure3_dict[f\"{wave}{hhid}\"])\n",
    "\n",
    "prev_measure4_list = []\n",
    "def map_prev_measure4_list(row, prev_measure4_dict):\n",
    "    wave = row[\"wave\"]\n",
    "    hhid = row[\"hhid\"]\n",
    "    prev_measure4_list.append(prev_measure4_dict[f\"{wave}{hhid}\"])"
   ]
  },
  {
   "cell_type": "code",
   "execution_count": 156,
   "metadata": {},
   "outputs": [
    {
     "data": {
      "text/plain": [
       "1        None\n",
       "3        None\n",
       "4        None\n",
       "6        None\n",
       "18       None\n",
       "         ... \n",
       "96862    None\n",
       "96866    None\n",
       "96868    None\n",
       "96870    None\n",
       "96874    None\n",
       "Length: 19756, dtype: object"
      ]
     },
     "execution_count": 156,
     "metadata": {},
     "output_type": "execute_result"
    }
   ],
   "source": [
    "support_df.apply(lambda row: map_prev_measure1_list(row, prev_measure1_dict), axis=1)\n",
    "support_df.apply(lambda row: map_prev_measure2_list(row, prev_measure2_dict), axis=1)\n",
    "support_df.apply(lambda row: map_prev_measure3_list(row, prev_measure3_dict), axis=1)\n",
    "support_df.apply(lambda row: map_prev_measure4_list(row, prev_measure4_dict), axis=1)"
   ]
  },
  {
   "cell_type": "code",
   "execution_count": 157,
   "metadata": {},
   "outputs": [
    {
     "name": "stderr",
     "output_type": "stream",
     "text": [
      "/var/folders/pz/qy3yq1t97s7g1m5s3hbsqjpc0000gn/T/ipykernel_32418/3852678725.py:1: SettingWithCopyWarning: \n",
      "A value is trying to be set on a copy of a slice from a DataFrame.\n",
      "Try using .loc[row_indexer,col_indexer] = value instead\n",
      "\n",
      "See the caveats in the documentation: https://pandas.pydata.org/pandas-docs/stable/user_guide/indexing.html#returning-a-view-versus-a-copy\n",
      "  support_df['s10_prevmeas_1'] = prev_measure1_list\n",
      "/var/folders/pz/qy3yq1t97s7g1m5s3hbsqjpc0000gn/T/ipykernel_32418/3852678725.py:2: SettingWithCopyWarning: \n",
      "A value is trying to be set on a copy of a slice from a DataFrame.\n",
      "Try using .loc[row_indexer,col_indexer] = value instead\n",
      "\n",
      "See the caveats in the documentation: https://pandas.pydata.org/pandas-docs/stable/user_guide/indexing.html#returning-a-view-versus-a-copy\n",
      "  support_df['s10_prevmeas_2'] = prev_measure2_list\n",
      "/var/folders/pz/qy3yq1t97s7g1m5s3hbsqjpc0000gn/T/ipykernel_32418/3852678725.py:3: SettingWithCopyWarning: \n",
      "A value is trying to be set on a copy of a slice from a DataFrame.\n",
      "Try using .loc[row_indexer,col_indexer] = value instead\n",
      "\n",
      "See the caveats in the documentation: https://pandas.pydata.org/pandas-docs/stable/user_guide/indexing.html#returning-a-view-versus-a-copy\n",
      "  support_df['s10_prevmeas_3'] = prev_measure3_list\n",
      "/var/folders/pz/qy3yq1t97s7g1m5s3hbsqjpc0000gn/T/ipykernel_32418/3852678725.py:4: SettingWithCopyWarning: \n",
      "A value is trying to be set on a copy of a slice from a DataFrame.\n",
      "Try using .loc[row_indexer,col_indexer] = value instead\n",
      "\n",
      "See the caveats in the documentation: https://pandas.pydata.org/pandas-docs/stable/user_guide/indexing.html#returning-a-view-versus-a-copy\n",
      "  support_df['s10_prevmeas_4'] = prev_measure4_list\n"
     ]
    }
   ],
   "source": [
    "support_df['s10_prevmeas_1'] = prev_measure1_list\n",
    "support_df['s10_prevmeas_2'] = prev_measure2_list\n",
    "support_df['s10_prevmeas_3'] = prev_measure3_list\n",
    "support_df['s10_prevmeas_4'] = prev_measure4_list"
   ]
  },
  {
   "cell_type": "code",
   "execution_count": 158,
   "metadata": {},
   "outputs": [
    {
     "name": "stdout",
     "output_type": "stream",
     "text": [
      "<class 'pandas.core.frame.DataFrame'>\n",
      "Int64Index: 19756 entries, 1 to 96874\n",
      "Data columns (total 4 columns):\n",
      " #   Column          Non-Null Count  Dtype  \n",
      "---  ------          --------------  -----  \n",
      " 0   s10_prevmeas_1  12588 non-null  float64\n",
      " 1   s10_prevmeas_2  12588 non-null  float64\n",
      " 2   s10_prevmeas_3  12588 non-null  float64\n",
      " 3   s10_prevmeas_4  9942 non-null   float64\n",
      "dtypes: float64(4)\n",
      "memory usage: 1.3 MB\n"
     ]
    }
   ],
   "source": [
    "support_df[[\"s10_prevmeas_1\",\"s10_prevmeas_2\",\"s10_prevmeas_3\",\"s10_prevmeas_4\"]].info()"
   ]
  },
  {
   "cell_type": "code",
   "execution_count": 159,
   "metadata": {},
   "outputs": [
    {
     "data": {
      "text/html": [
       "<div>\n",
       "<style scoped>\n",
       "    .dataframe tbody tr th:only-of-type {\n",
       "        vertical-align: middle;\n",
       "    }\n",
       "\n",
       "    .dataframe tbody tr th {\n",
       "        vertical-align: top;\n",
       "    }\n",
       "\n",
       "    .dataframe thead th {\n",
       "        text-align: right;\n",
       "    }\n",
       "</style>\n",
       "<table border=\"1\" class=\"dataframe\">\n",
       "  <thead>\n",
       "    <tr style=\"text-align: right;\">\n",
       "      <th></th>\n",
       "      <th>s10_prevmeas_1</th>\n",
       "      <th>s10_prevmeas_2</th>\n",
       "      <th>s10_prevmeas_3</th>\n",
       "      <th>s10_prevmeas_4</th>\n",
       "    </tr>\n",
       "  </thead>\n",
       "  <tbody>\n",
       "    <tr>\n",
       "      <th>1</th>\n",
       "      <td>3.0</td>\n",
       "      <td>3.0</td>\n",
       "      <td>3.0</td>\n",
       "      <td>3.0</td>\n",
       "    </tr>\n",
       "    <tr>\n",
       "      <th>3</th>\n",
       "      <td>NaN</td>\n",
       "      <td>NaN</td>\n",
       "      <td>NaN</td>\n",
       "      <td>NaN</td>\n",
       "    </tr>\n",
       "    <tr>\n",
       "      <th>4</th>\n",
       "      <td>NaN</td>\n",
       "      <td>NaN</td>\n",
       "      <td>NaN</td>\n",
       "      <td>NaN</td>\n",
       "    </tr>\n",
       "    <tr>\n",
       "      <th>6</th>\n",
       "      <td>3.0</td>\n",
       "      <td>3.0</td>\n",
       "      <td>3.0</td>\n",
       "      <td>3.0</td>\n",
       "    </tr>\n",
       "    <tr>\n",
       "      <th>18</th>\n",
       "      <td>NaN</td>\n",
       "      <td>NaN</td>\n",
       "      <td>NaN</td>\n",
       "      <td>NaN</td>\n",
       "    </tr>\n",
       "  </tbody>\n",
       "</table>\n",
       "</div>"
      ],
      "text/plain": [
       "    s10_prevmeas_1  s10_prevmeas_2  s10_prevmeas_3  s10_prevmeas_4\n",
       "1              3.0             3.0             3.0             3.0\n",
       "3              NaN             NaN             NaN             NaN\n",
       "4              NaN             NaN             NaN             NaN\n",
       "6              3.0             3.0             3.0             3.0\n",
       "18             NaN             NaN             NaN             NaN"
      ]
     },
     "execution_count": 159,
     "metadata": {},
     "output_type": "execute_result"
    }
   ],
   "source": [
    "hh_adults_all_wvs[[\"s10_prevmeas_1\",\"s10_prevmeas_2\",\"s10_prevmeas_3\",\"s10_prevmeas_4\"]].head()"
   ]
  },
  {
   "cell_type": "code",
   "execution_count": 160,
   "metadata": {},
   "outputs": [
    {
     "name": "stderr",
     "output_type": "stream",
     "text": [
      "/var/folders/pz/qy3yq1t97s7g1m5s3hbsqjpc0000gn/T/ipykernel_32418/931615803.py:1: SettingWithCopyWarning: \n",
      "A value is trying to be set on a copy of a slice from a DataFrame\n",
      "\n",
      "See the caveats in the documentation: https://pandas.pydata.org/pandas-docs/stable/user_guide/indexing.html#returning-a-view-versus-a-copy\n",
      "  support_df.dropna(subset=[\"s10_prevmeas_1\",\"s10_prevmeas_2\",\"s10_prevmeas_3\",\"s10_prevmeas_4\"], inplace=True, how=\"all\")\n"
     ]
    }
   ],
   "source": [
    "support_df.dropna(subset=[\"s10_prevmeas_1\",\"s10_prevmeas_2\",\"s10_prevmeas_3\",\"s10_prevmeas_4\"], inplace=True, how=\"all\")"
   ]
  },
  {
   "cell_type": "code",
   "execution_count": 161,
   "metadata": {},
   "outputs": [
    {
     "data": {
      "text/plain": [
       "array([5, 6, 7, 4])"
      ]
     },
     "execution_count": 161,
     "metadata": {},
     "output_type": "execute_result"
    }
   ],
   "source": [
    "support_df.wave.unique()"
   ]
  },
  {
   "cell_type": "code",
   "execution_count": 162,
   "metadata": {},
   "outputs": [
    {
     "name": "stderr",
     "output_type": "stream",
     "text": [
      "/var/folders/pz/qy3yq1t97s7g1m5s3hbsqjpc0000gn/T/ipykernel_32418/4192168349.py:1: SettingWithCopyWarning: \n",
      "A value is trying to be set on a copy of a slice from a DataFrame.\n",
      "Try using .loc[row_indexer,col_indexer] = value instead\n",
      "\n",
      "See the caveats in the documentation: https://pandas.pydata.org/pandas-docs/stable/user_guide/indexing.html#returning-a-view-versus-a-copy\n",
      "  support_df[\"s10_prevmeas_1_enc\"] = support_df[\"s10_prevmeas_1\"].map(encode_3pt_likert_scale)\n",
      "/var/folders/pz/qy3yq1t97s7g1m5s3hbsqjpc0000gn/T/ipykernel_32418/4192168349.py:2: SettingWithCopyWarning: \n",
      "A value is trying to be set on a copy of a slice from a DataFrame.\n",
      "Try using .loc[row_indexer,col_indexer] = value instead\n",
      "\n",
      "See the caveats in the documentation: https://pandas.pydata.org/pandas-docs/stable/user_guide/indexing.html#returning-a-view-versus-a-copy\n",
      "  support_df[\"s10_prevmeas_2_enc\"] = support_df[\"s10_prevmeas_2\"].map(encode_3pt_likert_scale)\n",
      "/var/folders/pz/qy3yq1t97s7g1m5s3hbsqjpc0000gn/T/ipykernel_32418/4192168349.py:3: SettingWithCopyWarning: \n",
      "A value is trying to be set on a copy of a slice from a DataFrame.\n",
      "Try using .loc[row_indexer,col_indexer] = value instead\n",
      "\n",
      "See the caveats in the documentation: https://pandas.pydata.org/pandas-docs/stable/user_guide/indexing.html#returning-a-view-versus-a-copy\n",
      "  support_df[\"s10_prevmeas_3_enc\"] = support_df[\"s10_prevmeas_3\"].map(encode_3pt_likert_scale)\n",
      "/var/folders/pz/qy3yq1t97s7g1m5s3hbsqjpc0000gn/T/ipykernel_32418/4192168349.py:4: SettingWithCopyWarning: \n",
      "A value is trying to be set on a copy of a slice from a DataFrame.\n",
      "Try using .loc[row_indexer,col_indexer] = value instead\n",
      "\n",
      "See the caveats in the documentation: https://pandas.pydata.org/pandas-docs/stable/user_guide/indexing.html#returning-a-view-versus-a-copy\n",
      "  support_df[\"s10_prevmeas_4_enc\"] = support_df[\"s10_prevmeas_4\"].map(encode_3pt_likert_scale)\n"
     ]
    }
   ],
   "source": [
    "support_df[\"s10_prevmeas_1_enc\"] = support_df[\"s10_prevmeas_1\"].map(encode_3pt_likert_scale)\n",
    "support_df[\"s10_prevmeas_2_enc\"] = support_df[\"s10_prevmeas_2\"].map(encode_3pt_likert_scale)\n",
    "support_df[\"s10_prevmeas_3_enc\"] = support_df[\"s10_prevmeas_3\"].map(encode_3pt_likert_scale)\n",
    "support_df[\"s10_prevmeas_4_enc\"] = support_df[\"s10_prevmeas_4\"].map(encode_3pt_likert_scale)"
   ]
  },
  {
   "cell_type": "code",
   "execution_count": 163,
   "metadata": {},
   "outputs": [
    {
     "data": {
      "text/html": [
       "<div>\n",
       "<style scoped>\n",
       "    .dataframe tbody tr th:only-of-type {\n",
       "        vertical-align: middle;\n",
       "    }\n",
       "\n",
       "    .dataframe tbody tr th {\n",
       "        vertical-align: top;\n",
       "    }\n",
       "\n",
       "    .dataframe thead th {\n",
       "        text-align: right;\n",
       "    }\n",
       "</style>\n",
       "<table border=\"1\" class=\"dataframe\">\n",
       "  <thead>\n",
       "    <tr style=\"text-align: right;\">\n",
       "      <th></th>\n",
       "      <th>s10_prevmeas_1_enc</th>\n",
       "      <th>s10_prevmeas_2_enc</th>\n",
       "      <th>s10_prevmeas_3_enc</th>\n",
       "      <th>s10_prevmeas_4_enc</th>\n",
       "    </tr>\n",
       "  </thead>\n",
       "  <tbody>\n",
       "    <tr>\n",
       "      <th>count</th>\n",
       "      <td>12588.000000</td>\n",
       "      <td>12588.000000</td>\n",
       "      <td>12588.000000</td>\n",
       "      <td>12588.000000</td>\n",
       "    </tr>\n",
       "    <tr>\n",
       "      <th>mean</th>\n",
       "      <td>0.941293</td>\n",
       "      <td>0.925087</td>\n",
       "      <td>0.926676</td>\n",
       "      <td>0.738878</td>\n",
       "    </tr>\n",
       "    <tr>\n",
       "      <th>std</th>\n",
       "      <td>0.235084</td>\n",
       "      <td>0.263261</td>\n",
       "      <td>0.260678</td>\n",
       "      <td>0.439264</td>\n",
       "    </tr>\n",
       "    <tr>\n",
       "      <th>min</th>\n",
       "      <td>0.000000</td>\n",
       "      <td>0.000000</td>\n",
       "      <td>0.000000</td>\n",
       "      <td>0.000000</td>\n",
       "    </tr>\n",
       "    <tr>\n",
       "      <th>25%</th>\n",
       "      <td>1.000000</td>\n",
       "      <td>1.000000</td>\n",
       "      <td>1.000000</td>\n",
       "      <td>0.000000</td>\n",
       "    </tr>\n",
       "    <tr>\n",
       "      <th>50%</th>\n",
       "      <td>1.000000</td>\n",
       "      <td>1.000000</td>\n",
       "      <td>1.000000</td>\n",
       "      <td>1.000000</td>\n",
       "    </tr>\n",
       "    <tr>\n",
       "      <th>75%</th>\n",
       "      <td>1.000000</td>\n",
       "      <td>1.000000</td>\n",
       "      <td>1.000000</td>\n",
       "      <td>1.000000</td>\n",
       "    </tr>\n",
       "    <tr>\n",
       "      <th>max</th>\n",
       "      <td>1.000000</td>\n",
       "      <td>1.000000</td>\n",
       "      <td>1.000000</td>\n",
       "      <td>1.000000</td>\n",
       "    </tr>\n",
       "  </tbody>\n",
       "</table>\n",
       "</div>"
      ],
      "text/plain": [
       "       s10_prevmeas_1_enc  s10_prevmeas_2_enc  s10_prevmeas_3_enc  \\\n",
       "count        12588.000000        12588.000000        12588.000000   \n",
       "mean             0.941293            0.925087            0.926676   \n",
       "std              0.235084            0.263261            0.260678   \n",
       "min              0.000000            0.000000            0.000000   \n",
       "25%              1.000000            1.000000            1.000000   \n",
       "50%              1.000000            1.000000            1.000000   \n",
       "75%              1.000000            1.000000            1.000000   \n",
       "max              1.000000            1.000000            1.000000   \n",
       "\n",
       "       s10_prevmeas_4_enc  \n",
       "count        12588.000000  \n",
       "mean             0.738878  \n",
       "std              0.439264  \n",
       "min              0.000000  \n",
       "25%              0.000000  \n",
       "50%              1.000000  \n",
       "75%              1.000000  \n",
       "max              1.000000  "
      ]
     },
     "execution_count": 163,
     "metadata": {},
     "output_type": "execute_result"
    }
   ],
   "source": [
    "support_df[[\"s10_prevmeas_1_enc\",\"s10_prevmeas_2_enc\",\"s10_prevmeas_3_enc\",\"s10_prevmeas_4_enc\"]].describe()"
   ]
  },
  {
   "cell_type": "code",
   "execution_count": 164,
   "metadata": {},
   "outputs": [],
   "source": [
    "def calculate_support_index(row):\n",
    "    support_index = 0\n",
    "    for s in support_indicators:\n",
    "        if row[s] == 3:\n",
    "            support_index+=1\n",
    "    return support_index"
   ]
  },
  {
   "cell_type": "code",
   "execution_count": 165,
   "metadata": {},
   "outputs": [
    {
     "name": "stderr",
     "output_type": "stream",
     "text": [
      "/var/folders/pz/qy3yq1t97s7g1m5s3hbsqjpc0000gn/T/ipykernel_32418/1487470068.py:1: SettingWithCopyWarning: \n",
      "A value is trying to be set on a copy of a slice from a DataFrame.\n",
      "Try using .loc[row_indexer,col_indexer] = value instead\n",
      "\n",
      "See the caveats in the documentation: https://pandas.pydata.org/pandas-docs/stable/user_guide/indexing.html#returning-a-view-versus-a-copy\n",
      "  support_df[\"support_index\"] = support_df.apply(lambda row: calculate_support_index(row), axis=1)\n"
     ]
    }
   ],
   "source": [
    "support_df[\"support_index\"] = support_df.apply(lambda row: calculate_support_index(row), axis=1)"
   ]
  },
  {
   "cell_type": "code",
   "execution_count": 166,
   "metadata": {},
   "outputs": [
    {
     "name": "stderr",
     "output_type": "stream",
     "text": [
      "/var/folders/pz/qy3yq1t97s7g1m5s3hbsqjpc0000gn/T/ipykernel_32418/3285142738.py:2: SettingWithCopyWarning: \n",
      "A value is trying to be set on a copy of a slice from a DataFrame.\n",
      "Try using .loc[row_indexer,col_indexer] = value instead\n",
      "\n",
      "See the caveats in the documentation: https://pandas.pydata.org/pandas-docs/stable/user_guide/indexing.html#returning-a-view-versus-a-copy\n",
      "  support_df[['support_index']] = StandardScaler().fit_transform(support_df[['support_index']])\n"
     ]
    }
   ],
   "source": [
    "# Standardize no_of_believed_myths\n",
    "support_df[['support_index']] = StandardScaler().fit_transform(support_df[['support_index']])"
   ]
  },
  {
   "cell_type": "code",
   "execution_count": 167,
   "metadata": {},
   "outputs": [
    {
     "ename": "KeyboardInterrupt",
     "evalue": "",
     "output_type": "error",
     "traceback": [
      "\u001b[0;31m---------------------------------------------------------------------------\u001b[0m",
      "\u001b[0;31mKeyboardInterrupt\u001b[0m                         Traceback (most recent call last)",
      "\u001b[1;32m/Users/jabez/Documents/stats-summative/summative.ipynb Cell 117\u001b[0m in \u001b[0;36m<cell line: 2>\u001b[0;34m()\u001b[0m\n\u001b[1;32m      <a href='vscode-notebook-cell:/Users/jabez/Documents/stats-summative/summative.ipynb#Y223sZmlsZQ%3D%3D?line=0'>1</a>\u001b[0m mod \u001b[39m=\u001b[39m smf\u001b[39m.\u001b[39mmixedlm(formula\u001b[39m=\u001b[39m\u001b[39m\"\u001b[39m\u001b[39msupport_index ~ trust_index + gender  + education_above_med + C(age_group) + urban + poor + ishead\u001b[39m\u001b[39m\"\u001b[39m, data\u001b[39m=\u001b[39msupport_df,  groups\u001b[39m=\u001b[39m\u001b[39m\"\u001b[39m\u001b[39mcounty\u001b[39m\u001b[39m\"\u001b[39m, re_formula\u001b[39m=\u001b[39m\u001b[39m\"\u001b[39m\u001b[39m1\u001b[39m\u001b[39m\"\u001b[39m, vc_formula\u001b[39m=\u001b[39m{\u001b[39m\"\u001b[39m\u001b[39mgroup2\u001b[39m\u001b[39m\"\u001b[39m: \u001b[39m\"\u001b[39m\u001b[39m1 + C(hhid)\u001b[39m\u001b[39m\"\u001b[39m,\u001b[39m\"\u001b[39m\u001b[39mgroup3\u001b[39m\u001b[39m\"\u001b[39m:\u001b[39m\"\u001b[39m\u001b[39m1 + C(individual_id)\u001b[39m\u001b[39m\"\u001b[39m})\n\u001b[0;32m----> <a href='vscode-notebook-cell:/Users/jabez/Documents/stats-summative/summative.ipynb#Y223sZmlsZQ%3D%3D?line=1'>2</a>\u001b[0m res \u001b[39m=\u001b[39m mod\u001b[39m.\u001b[39;49mfit()\n\u001b[1;32m      <a href='vscode-notebook-cell:/Users/jabez/Documents/stats-summative/summative.ipynb#Y223sZmlsZQ%3D%3D?line=2'>3</a>\u001b[0m \u001b[39mprint\u001b[39m(res\u001b[39m.\u001b[39msummary())\n",
      "File \u001b[0;32m/opt/anaconda3/lib/python3.9/site-packages/statsmodels/regression/mixed_linear_model.py:2191\u001b[0m, in \u001b[0;36mMixedLM.fit\u001b[0;34m(self, start_params, reml, niter_sa, do_cg, fe_pen, cov_pen, free, full_output, method, **fit_kwargs)\u001b[0m\n\u001b[1;32m   2189\u001b[0m \u001b[39m# Try optimizing one or more times\u001b[39;00m\n\u001b[1;32m   2190\u001b[0m \u001b[39mfor\u001b[39;00m j \u001b[39min\u001b[39;00m \u001b[39mrange\u001b[39m(\u001b[39mlen\u001b[39m(method)):\n\u001b[0;32m-> 2191\u001b[0m     rslt \u001b[39m=\u001b[39m \u001b[39msuper\u001b[39;49m(MixedLM, \u001b[39mself\u001b[39;49m)\u001b[39m.\u001b[39;49mfit(start_params\u001b[39m=\u001b[39;49mpacked,\n\u001b[1;32m   2192\u001b[0m                                     skip_hessian\u001b[39m=\u001b[39;49m\u001b[39mTrue\u001b[39;49;00m,\n\u001b[1;32m   2193\u001b[0m                                     method\u001b[39m=\u001b[39;49mmethod[j],\n\u001b[1;32m   2194\u001b[0m                                     \u001b[39m*\u001b[39;49m\u001b[39m*\u001b[39;49mfit_kwargs)\n\u001b[1;32m   2195\u001b[0m     \u001b[39mif\u001b[39;00m rslt\u001b[39m.\u001b[39mmle_retvals[\u001b[39m'\u001b[39m\u001b[39mconverged\u001b[39m\u001b[39m'\u001b[39m]:\n\u001b[1;32m   2196\u001b[0m         \u001b[39mbreak\u001b[39;00m\n",
      "File \u001b[0;32m/opt/anaconda3/lib/python3.9/site-packages/statsmodels/base/model.py:563\u001b[0m, in \u001b[0;36mLikelihoodModel.fit\u001b[0;34m(self, start_params, method, maxiter, full_output, disp, fargs, callback, retall, skip_hessian, **kwargs)\u001b[0m\n\u001b[1;32m    560\u001b[0m     \u001b[39mdel\u001b[39;00m kwargs[\u001b[39m\"\u001b[39m\u001b[39muse_t\u001b[39m\u001b[39m\"\u001b[39m]\n\u001b[1;32m    562\u001b[0m optimizer \u001b[39m=\u001b[39m Optimizer()\n\u001b[0;32m--> 563\u001b[0m xopt, retvals, optim_settings \u001b[39m=\u001b[39m optimizer\u001b[39m.\u001b[39;49m_fit(f, score, start_params,\n\u001b[1;32m    564\u001b[0m                                                fargs, kwargs,\n\u001b[1;32m    565\u001b[0m                                                hessian\u001b[39m=\u001b[39;49mhess,\n\u001b[1;32m    566\u001b[0m                                                method\u001b[39m=\u001b[39;49mmethod,\n\u001b[1;32m    567\u001b[0m                                                disp\u001b[39m=\u001b[39;49mdisp,\n\u001b[1;32m    568\u001b[0m                                                maxiter\u001b[39m=\u001b[39;49mmaxiter,\n\u001b[1;32m    569\u001b[0m                                                callback\u001b[39m=\u001b[39;49mcallback,\n\u001b[1;32m    570\u001b[0m                                                retall\u001b[39m=\u001b[39;49mretall,\n\u001b[1;32m    571\u001b[0m                                                full_output\u001b[39m=\u001b[39;49mfull_output)\n\u001b[1;32m    572\u001b[0m \u001b[39m# Restore cov_type, cov_kwds and use_t\u001b[39;00m\n\u001b[1;32m    573\u001b[0m optim_settings\u001b[39m.\u001b[39mupdate(kwds)\n",
      "File \u001b[0;32m/opt/anaconda3/lib/python3.9/site-packages/statsmodels/base/optimizer.py:241\u001b[0m, in \u001b[0;36mOptimizer._fit\u001b[0;34m(self, objective, gradient, start_params, fargs, kwargs, hessian, method, maxiter, full_output, disp, callback, retall)\u001b[0m\n\u001b[1;32m    238\u001b[0m     fit_funcs\u001b[39m.\u001b[39mupdate(extra_fit_funcs)\n\u001b[1;32m    240\u001b[0m func \u001b[39m=\u001b[39m fit_funcs[method]\n\u001b[0;32m--> 241\u001b[0m xopt, retvals \u001b[39m=\u001b[39m func(objective, gradient, start_params, fargs, kwargs,\n\u001b[1;32m    242\u001b[0m                      disp\u001b[39m=\u001b[39;49mdisp, maxiter\u001b[39m=\u001b[39;49mmaxiter, callback\u001b[39m=\u001b[39;49mcallback,\n\u001b[1;32m    243\u001b[0m                      retall\u001b[39m=\u001b[39;49mretall, full_output\u001b[39m=\u001b[39;49mfull_output,\n\u001b[1;32m    244\u001b[0m                      hess\u001b[39m=\u001b[39;49mhessian)\n\u001b[1;32m    246\u001b[0m optim_settings \u001b[39m=\u001b[39m {\u001b[39m'\u001b[39m\u001b[39moptimizer\u001b[39m\u001b[39m'\u001b[39m: method, \u001b[39m'\u001b[39m\u001b[39mstart_params\u001b[39m\u001b[39m'\u001b[39m: start_params,\n\u001b[1;32m    247\u001b[0m                   \u001b[39m'\u001b[39m\u001b[39mmaxiter\u001b[39m\u001b[39m'\u001b[39m: maxiter, \u001b[39m'\u001b[39m\u001b[39mfull_output\u001b[39m\u001b[39m'\u001b[39m: full_output,\n\u001b[1;32m    248\u001b[0m                   \u001b[39m'\u001b[39m\u001b[39mdisp\u001b[39m\u001b[39m'\u001b[39m: disp, \u001b[39m'\u001b[39m\u001b[39mfargs\u001b[39m\u001b[39m'\u001b[39m: fargs, \u001b[39m'\u001b[39m\u001b[39mcallback\u001b[39m\u001b[39m'\u001b[39m: callback,\n\u001b[1;32m    249\u001b[0m                   \u001b[39m'\u001b[39m\u001b[39mretall\u001b[39m\u001b[39m'\u001b[39m: retall, \u001b[39m\"\u001b[39m\u001b[39mextra_fit_funcs\u001b[39m\u001b[39m\"\u001b[39m: extra_fit_funcs}\n\u001b[1;32m    250\u001b[0m optim_settings\u001b[39m.\u001b[39mupdate(kwargs)\n",
      "File \u001b[0;32m/opt/anaconda3/lib/python3.9/site-packages/statsmodels/base/optimizer.py:529\u001b[0m, in \u001b[0;36m_fit_bfgs\u001b[0;34m(f, score, start_params, fargs, kwargs, disp, maxiter, callback, retall, full_output, hess)\u001b[0m\n\u001b[1;32m    527\u001b[0m norm \u001b[39m=\u001b[39m kwargs\u001b[39m.\u001b[39msetdefault(\u001b[39m'\u001b[39m\u001b[39mnorm\u001b[39m\u001b[39m'\u001b[39m, np\u001b[39m.\u001b[39mInf)\n\u001b[1;32m    528\u001b[0m epsilon \u001b[39m=\u001b[39m kwargs\u001b[39m.\u001b[39msetdefault(\u001b[39m'\u001b[39m\u001b[39mepsilon\u001b[39m\u001b[39m'\u001b[39m, \u001b[39m1.4901161193847656e-08\u001b[39m)\n\u001b[0;32m--> 529\u001b[0m retvals \u001b[39m=\u001b[39m optimize\u001b[39m.\u001b[39;49mfmin_bfgs(f, start_params, score, args\u001b[39m=\u001b[39;49mfargs,\n\u001b[1;32m    530\u001b[0m                              gtol\u001b[39m=\u001b[39;49mgtol, norm\u001b[39m=\u001b[39;49mnorm, epsilon\u001b[39m=\u001b[39;49mepsilon,\n\u001b[1;32m    531\u001b[0m                              maxiter\u001b[39m=\u001b[39;49mmaxiter, full_output\u001b[39m=\u001b[39;49mfull_output,\n\u001b[1;32m    532\u001b[0m                              disp\u001b[39m=\u001b[39;49mdisp, retall\u001b[39m=\u001b[39;49mretall, callback\u001b[39m=\u001b[39;49mcallback)\n\u001b[1;32m    533\u001b[0m \u001b[39mif\u001b[39;00m full_output:\n\u001b[1;32m    534\u001b[0m     \u001b[39mif\u001b[39;00m \u001b[39mnot\u001b[39;00m retall:\n",
      "File \u001b[0;32m/opt/anaconda3/lib/python3.9/site-packages/scipy/optimize/optimize.py:1143\u001b[0m, in \u001b[0;36mfmin_bfgs\u001b[0;34m(f, x0, fprime, args, gtol, norm, epsilon, maxiter, full_output, disp, retall, callback)\u001b[0m\n\u001b[1;32m   1037\u001b[0m \u001b[39m\"\"\"\u001b[39;00m\n\u001b[1;32m   1038\u001b[0m \u001b[39mMinimize a function using the BFGS algorithm.\u001b[39;00m\n\u001b[1;32m   1039\u001b[0m \n\u001b[0;32m   (...)\u001b[0m\n\u001b[1;32m   1134\u001b[0m \n\u001b[1;32m   1135\u001b[0m \u001b[39m\"\"\"\u001b[39;00m\n\u001b[1;32m   1136\u001b[0m opts \u001b[39m=\u001b[39m {\u001b[39m'\u001b[39m\u001b[39mgtol\u001b[39m\u001b[39m'\u001b[39m: gtol,\n\u001b[1;32m   1137\u001b[0m         \u001b[39m'\u001b[39m\u001b[39mnorm\u001b[39m\u001b[39m'\u001b[39m: norm,\n\u001b[1;32m   1138\u001b[0m         \u001b[39m'\u001b[39m\u001b[39meps\u001b[39m\u001b[39m'\u001b[39m: epsilon,\n\u001b[1;32m   1139\u001b[0m         \u001b[39m'\u001b[39m\u001b[39mdisp\u001b[39m\u001b[39m'\u001b[39m: disp,\n\u001b[1;32m   1140\u001b[0m         \u001b[39m'\u001b[39m\u001b[39mmaxiter\u001b[39m\u001b[39m'\u001b[39m: maxiter,\n\u001b[1;32m   1141\u001b[0m         \u001b[39m'\u001b[39m\u001b[39mreturn_all\u001b[39m\u001b[39m'\u001b[39m: retall}\n\u001b[0;32m-> 1143\u001b[0m res \u001b[39m=\u001b[39m _minimize_bfgs(f, x0, args, fprime, callback\u001b[39m=\u001b[39;49mcallback, \u001b[39m*\u001b[39;49m\u001b[39m*\u001b[39;49mopts)\n\u001b[1;32m   1145\u001b[0m \u001b[39mif\u001b[39;00m full_output:\n\u001b[1;32m   1146\u001b[0m     retlist \u001b[39m=\u001b[39m (res[\u001b[39m'\u001b[39m\u001b[39mx\u001b[39m\u001b[39m'\u001b[39m], res[\u001b[39m'\u001b[39m\u001b[39mfun\u001b[39m\u001b[39m'\u001b[39m], res[\u001b[39m'\u001b[39m\u001b[39mjac\u001b[39m\u001b[39m'\u001b[39m], res[\u001b[39m'\u001b[39m\u001b[39mhess_inv\u001b[39m\u001b[39m'\u001b[39m],\n\u001b[1;32m   1147\u001b[0m                res[\u001b[39m'\u001b[39m\u001b[39mnfev\u001b[39m\u001b[39m'\u001b[39m], res[\u001b[39m'\u001b[39m\u001b[39mnjev\u001b[39m\u001b[39m'\u001b[39m], res[\u001b[39m'\u001b[39m\u001b[39mstatus\u001b[39m\u001b[39m'\u001b[39m])\n",
      "File \u001b[0;32m/opt/anaconda3/lib/python3.9/site-packages/scipy/optimize/optimize.py:1235\u001b[0m, in \u001b[0;36m_minimize_bfgs\u001b[0;34m(fun, x0, args, jac, callback, gtol, norm, eps, maxiter, disp, return_all, finite_diff_rel_step, **unknown_options)\u001b[0m\n\u001b[1;32m   1232\u001b[0m pk \u001b[39m=\u001b[39m \u001b[39m-\u001b[39mnp\u001b[39m.\u001b[39mdot(Hk, gfk)\n\u001b[1;32m   1233\u001b[0m \u001b[39mtry\u001b[39;00m:\n\u001b[1;32m   1234\u001b[0m     alpha_k, fc, gc, old_fval, old_old_fval, gfkp1 \u001b[39m=\u001b[39m \\\n\u001b[0;32m-> 1235\u001b[0m              _line_search_wolfe12(f, myfprime, xk, pk, gfk,\n\u001b[1;32m   1236\u001b[0m                                   old_fval, old_old_fval, amin\u001b[39m=\u001b[39;49m\u001b[39m1e-100\u001b[39;49m, amax\u001b[39m=\u001b[39;49m\u001b[39m1e100\u001b[39;49m)\n\u001b[1;32m   1237\u001b[0m \u001b[39mexcept\u001b[39;00m _LineSearchError:\n\u001b[1;32m   1238\u001b[0m     \u001b[39m# Line search failed to find a better solution.\u001b[39;00m\n\u001b[1;32m   1239\u001b[0m     warnflag \u001b[39m=\u001b[39m \u001b[39m2\u001b[39m\n",
      "File \u001b[0;32m/opt/anaconda3/lib/python3.9/site-packages/scipy/optimize/optimize.py:1005\u001b[0m, in \u001b[0;36m_line_search_wolfe12\u001b[0;34m(f, fprime, xk, pk, gfk, old_fval, old_old_fval, **kwargs)\u001b[0m\n\u001b[1;32m    991\u001b[0m \u001b[39m\"\"\"\u001b[39;00m\n\u001b[1;32m    992\u001b[0m \u001b[39mSame as line_search_wolfe1, but fall back to line_search_wolfe2 if\u001b[39;00m\n\u001b[1;32m    993\u001b[0m \u001b[39msuitable step length is not found, and raise an exception if a\u001b[39;00m\n\u001b[0;32m   (...)\u001b[0m\n\u001b[1;32m   1000\u001b[0m \n\u001b[1;32m   1001\u001b[0m \u001b[39m\"\"\"\u001b[39;00m\n\u001b[1;32m   1003\u001b[0m extra_condition \u001b[39m=\u001b[39m kwargs\u001b[39m.\u001b[39mpop(\u001b[39m'\u001b[39m\u001b[39mextra_condition\u001b[39m\u001b[39m'\u001b[39m, \u001b[39mNone\u001b[39;00m)\n\u001b[0;32m-> 1005\u001b[0m ret \u001b[39m=\u001b[39m line_search_wolfe1(f, fprime, xk, pk, gfk,\n\u001b[1;32m   1006\u001b[0m                          old_fval, old_old_fval,\n\u001b[1;32m   1007\u001b[0m                          \u001b[39m*\u001b[39;49m\u001b[39m*\u001b[39;49mkwargs)\n\u001b[1;32m   1009\u001b[0m \u001b[39mif\u001b[39;00m ret[\u001b[39m0\u001b[39m] \u001b[39mis\u001b[39;00m \u001b[39mnot\u001b[39;00m \u001b[39mNone\u001b[39;00m \u001b[39mand\u001b[39;00m extra_condition \u001b[39mis\u001b[39;00m \u001b[39mnot\u001b[39;00m \u001b[39mNone\u001b[39;00m:\n\u001b[1;32m   1010\u001b[0m     xp1 \u001b[39m=\u001b[39m xk \u001b[39m+\u001b[39m ret[\u001b[39m0\u001b[39m] \u001b[39m*\u001b[39m pk\n",
      "File \u001b[0;32m/opt/anaconda3/lib/python3.9/site-packages/scipy/optimize/linesearch.py:96\u001b[0m, in \u001b[0;36mline_search_wolfe1\u001b[0;34m(f, fprime, xk, pk, gfk, old_fval, old_old_fval, args, c1, c2, amax, amin, xtol)\u001b[0m\n\u001b[1;32m     92\u001b[0m     \u001b[39mreturn\u001b[39;00m np\u001b[39m.\u001b[39mdot(gval[\u001b[39m0\u001b[39m], pk)\n\u001b[1;32m     94\u001b[0m derphi0 \u001b[39m=\u001b[39m np\u001b[39m.\u001b[39mdot(gfk, pk)\n\u001b[0;32m---> 96\u001b[0m stp, fval, old_fval \u001b[39m=\u001b[39m scalar_search_wolfe1(\n\u001b[1;32m     97\u001b[0m         phi, derphi, old_fval, old_old_fval, derphi0,\n\u001b[1;32m     98\u001b[0m         c1\u001b[39m=\u001b[39;49mc1, c2\u001b[39m=\u001b[39;49mc2, amax\u001b[39m=\u001b[39;49mamax, amin\u001b[39m=\u001b[39;49mamin, xtol\u001b[39m=\u001b[39;49mxtol)\n\u001b[1;32m    100\u001b[0m \u001b[39mreturn\u001b[39;00m stp, fc[\u001b[39m0\u001b[39m], gc[\u001b[39m0\u001b[39m], fval, old_fval, gval[\u001b[39m0\u001b[39m]\n",
      "File \u001b[0;32m/opt/anaconda3/lib/python3.9/site-packages/scipy/optimize/linesearch.py:173\u001b[0m, in \u001b[0;36mscalar_search_wolfe1\u001b[0;34m(phi, derphi, phi0, old_phi0, derphi0, c1, c2, amax, amin, xtol)\u001b[0m\n\u001b[1;32m    171\u001b[0m     alpha1 \u001b[39m=\u001b[39m stp\n\u001b[1;32m    172\u001b[0m     phi1 \u001b[39m=\u001b[39m phi(stp)\n\u001b[0;32m--> 173\u001b[0m     derphi1 \u001b[39m=\u001b[39m derphi(stp)\n\u001b[1;32m    174\u001b[0m \u001b[39melse\u001b[39;00m:\n\u001b[1;32m    175\u001b[0m     \u001b[39mbreak\u001b[39;00m\n",
      "File \u001b[0;32m/opt/anaconda3/lib/python3.9/site-packages/scipy/optimize/linesearch.py:87\u001b[0m, in \u001b[0;36mline_search_wolfe1.<locals>.derphi\u001b[0;34m(s)\u001b[0m\n\u001b[1;32m     86\u001b[0m \u001b[39mdef\u001b[39;00m \u001b[39mderphi\u001b[39m(s):\n\u001b[0;32m---> 87\u001b[0m     gval[\u001b[39m0\u001b[39m] \u001b[39m=\u001b[39m fprime(xk \u001b[39m+\u001b[39;49m s\u001b[39m*\u001b[39;49mpk, \u001b[39m*\u001b[39;49mnewargs)\n\u001b[1;32m     88\u001b[0m     \u001b[39mif\u001b[39;00m gradient:\n\u001b[1;32m     89\u001b[0m         gc[\u001b[39m0\u001b[39m] \u001b[39m+\u001b[39m\u001b[39m=\u001b[39m \u001b[39m1\u001b[39m\n",
      "File \u001b[0;32m/opt/anaconda3/lib/python3.9/site-packages/scipy/optimize/_differentiable_functions.py:255\u001b[0m, in \u001b[0;36mScalarFunction.grad\u001b[0;34m(self, x)\u001b[0m\n\u001b[1;32m    253\u001b[0m \u001b[39mif\u001b[39;00m \u001b[39mnot\u001b[39;00m np\u001b[39m.\u001b[39marray_equal(x, \u001b[39mself\u001b[39m\u001b[39m.\u001b[39mx):\n\u001b[1;32m    254\u001b[0m     \u001b[39mself\u001b[39m\u001b[39m.\u001b[39m_update_x_impl(x)\n\u001b[0;32m--> 255\u001b[0m \u001b[39mself\u001b[39;49m\u001b[39m.\u001b[39;49m_update_grad()\n\u001b[1;32m    256\u001b[0m \u001b[39mreturn\u001b[39;00m \u001b[39mself\u001b[39m\u001b[39m.\u001b[39mg\n",
      "File \u001b[0;32m/opt/anaconda3/lib/python3.9/site-packages/scipy/optimize/_differentiable_functions.py:238\u001b[0m, in \u001b[0;36mScalarFunction._update_grad\u001b[0;34m(self)\u001b[0m\n\u001b[1;32m    236\u001b[0m \u001b[39mdef\u001b[39;00m \u001b[39m_update_grad\u001b[39m(\u001b[39mself\u001b[39m):\n\u001b[1;32m    237\u001b[0m     \u001b[39mif\u001b[39;00m \u001b[39mnot\u001b[39;00m \u001b[39mself\u001b[39m\u001b[39m.\u001b[39mg_updated:\n\u001b[0;32m--> 238\u001b[0m         \u001b[39mself\u001b[39;49m\u001b[39m.\u001b[39;49m_update_grad_impl()\n\u001b[1;32m    239\u001b[0m         \u001b[39mself\u001b[39m\u001b[39m.\u001b[39mg_updated \u001b[39m=\u001b[39m \u001b[39mTrue\u001b[39;00m\n",
      "File \u001b[0;32m/opt/anaconda3/lib/python3.9/site-packages/scipy/optimize/_differentiable_functions.py:149\u001b[0m, in \u001b[0;36mScalarFunction.__init__.<locals>.update_grad\u001b[0;34m()\u001b[0m\n\u001b[1;32m    148\u001b[0m \u001b[39mdef\u001b[39;00m \u001b[39mupdate_grad\u001b[39m():\n\u001b[0;32m--> 149\u001b[0m     \u001b[39mself\u001b[39m\u001b[39m.\u001b[39mg \u001b[39m=\u001b[39m grad_wrapped(\u001b[39mself\u001b[39;49m\u001b[39m.\u001b[39;49mx)\n",
      "File \u001b[0;32m/opt/anaconda3/lib/python3.9/site-packages/scipy/optimize/_differentiable_functions.py:146\u001b[0m, in \u001b[0;36mScalarFunction.__init__.<locals>.grad_wrapped\u001b[0;34m(x)\u001b[0m\n\u001b[1;32m    144\u001b[0m \u001b[39mdef\u001b[39;00m \u001b[39mgrad_wrapped\u001b[39m(x):\n\u001b[1;32m    145\u001b[0m     \u001b[39mself\u001b[39m\u001b[39m.\u001b[39mngev \u001b[39m+\u001b[39m\u001b[39m=\u001b[39m \u001b[39m1\u001b[39m\n\u001b[0;32m--> 146\u001b[0m     \u001b[39mreturn\u001b[39;00m np\u001b[39m.\u001b[39matleast_1d(grad(np\u001b[39m.\u001b[39;49mcopy(x), \u001b[39m*\u001b[39;49margs))\n",
      "File \u001b[0;32m/opt/anaconda3/lib/python3.9/site-packages/statsmodels/base/model.py:542\u001b[0m, in \u001b[0;36mLikelihoodModel.fit.<locals>.score\u001b[0;34m(params, *args)\u001b[0m\n\u001b[1;32m    541\u001b[0m \u001b[39mdef\u001b[39;00m \u001b[39mscore\u001b[39m(params, \u001b[39m*\u001b[39margs):\n\u001b[0;32m--> 542\u001b[0m     \u001b[39mreturn\u001b[39;00m \u001b[39m-\u001b[39m\u001b[39mself\u001b[39;49m\u001b[39m.\u001b[39;49mscore(params, \u001b[39m*\u001b[39;49margs) \u001b[39m/\u001b[39m nobs\n",
      "File \u001b[0;32m/opt/anaconda3/lib/python3.9/site-packages/statsmodels/regression/mixed_linear_model.py:1637\u001b[0m, in \u001b[0;36mMixedLM.score\u001b[0;34m(self, params, profile_fe)\u001b[0m\n\u001b[1;32m   1634\u001b[0m         warnings\u001b[39m.\u001b[39mwarn(msg)\n\u001b[1;32m   1636\u001b[0m \u001b[39mif\u001b[39;00m \u001b[39mself\u001b[39m\u001b[39m.\u001b[39muse_sqrt:\n\u001b[0;32m-> 1637\u001b[0m     score_fe, score_re, score_vc \u001b[39m=\u001b[39m \u001b[39mself\u001b[39;49m\u001b[39m.\u001b[39;49mscore_sqrt(\n\u001b[1;32m   1638\u001b[0m         params, calc_fe\u001b[39m=\u001b[39;49m\u001b[39mnot\u001b[39;49;00m profile_fe)\n\u001b[1;32m   1639\u001b[0m \u001b[39melse\u001b[39;00m:\n\u001b[1;32m   1640\u001b[0m     score_fe, score_re, score_vc \u001b[39m=\u001b[39m \u001b[39mself\u001b[39m\u001b[39m.\u001b[39mscore_full(\n\u001b[1;32m   1641\u001b[0m         params, calc_fe\u001b[39m=\u001b[39m\u001b[39mnot\u001b[39;00m profile_fe)\n",
      "File \u001b[0;32m/opt/anaconda3/lib/python3.9/site-packages/statsmodels/regression/mixed_linear_model.py:1840\u001b[0m, in \u001b[0;36mMixedLM.score_sqrt\u001b[0;34m(self, params, calc_fe)\u001b[0m\n\u001b[1;32m   1809\u001b[0m \u001b[39mdef\u001b[39;00m \u001b[39mscore_sqrt\u001b[39m(\u001b[39mself\u001b[39m, params, calc_fe\u001b[39m=\u001b[39m\u001b[39mTrue\u001b[39;00m):\n\u001b[1;32m   1810\u001b[0m     \u001b[39m\"\"\"\u001b[39;00m\n\u001b[1;32m   1811\u001b[0m \u001b[39m    Returns the score with respect to transformed parameters.\u001b[39;00m\n\u001b[1;32m   1812\u001b[0m \n\u001b[0;32m   (...)\u001b[0m\n\u001b[1;32m   1837\u001b[0m \u001b[39m        parameters.\u001b[39;00m\n\u001b[1;32m   1838\u001b[0m \u001b[39m    \"\"\"\u001b[39;00m\n\u001b[0;32m-> 1840\u001b[0m     score_fe, score_re, score_vc \u001b[39m=\u001b[39m \u001b[39mself\u001b[39;49m\u001b[39m.\u001b[39;49mscore_full(params, calc_fe\u001b[39m=\u001b[39;49mcalc_fe)\n\u001b[1;32m   1841\u001b[0m     params_vec \u001b[39m=\u001b[39m params\u001b[39m.\u001b[39mget_packed(use_sqrt\u001b[39m=\u001b[39m\u001b[39mTrue\u001b[39;00m, has_fe\u001b[39m=\u001b[39m\u001b[39mTrue\u001b[39;00m)\n\u001b[1;32m   1843\u001b[0m     score_full \u001b[39m=\u001b[39m np\u001b[39m.\u001b[39mconcatenate((score_fe, score_re, score_vc))\n",
      "File \u001b[0;32m/opt/anaconda3/lib/python3.9/site-packages/statsmodels/regression/mixed_linear_model.py:1755\u001b[0m, in \u001b[0;36mMixedLM.score_full\u001b[0;34m(self, params, calc_fe)\u001b[0m\n\u001b[1;32m   1753\u001b[0m \u001b[39m# Contributions to the covariance parameter gradient\u001b[39;00m\n\u001b[1;32m   1754\u001b[0m vir \u001b[39m=\u001b[39m solver(resid)\n\u001b[0;32m-> 1755\u001b[0m \u001b[39mfor\u001b[39;00m (jj, matl, matr, vsl, vsr, sym) \u001b[39min\u001b[39;00m\\\n\u001b[1;32m   1756\u001b[0m         \u001b[39mself\u001b[39m\u001b[39m.\u001b[39m_gen_dV_dPar(ex_r, solver, group_ix):\n\u001b[1;32m   1757\u001b[0m     dlv[jj] \u001b[39m=\u001b[39m _dotsum(matr, vsl)\n\u001b[1;32m   1758\u001b[0m     \u001b[39mif\u001b[39;00m \u001b[39mnot\u001b[39;00m sym:\n",
      "File \u001b[0;32m/opt/anaconda3/lib/python3.9/site-packages/statsmodels/regression/mixed_linear_model.py:1589\u001b[0m, in \u001b[0;36mMixedLM._gen_dV_dPar\u001b[0;34m(self, ex_r, solver, group_ix, max_ix)\u001b[0m\n\u001b[1;32m   1571\u001b[0m \u001b[39mdef\u001b[39;00m \u001b[39m_gen_dV_dPar\u001b[39m(\u001b[39mself\u001b[39m, ex_r, solver, group_ix, max_ix\u001b[39m=\u001b[39m\u001b[39mNone\u001b[39;00m):\n\u001b[1;32m   1572\u001b[0m     \u001b[39m\"\"\"\u001b[39;00m\n\u001b[1;32m   1573\u001b[0m \u001b[39m    A generator that yields the element-wise derivative of the\u001b[39;00m\n\u001b[1;32m   1574\u001b[0m \u001b[39m    marginal covariance matrix with respect to the random effects\u001b[39;00m\n\u001b[0;32m   (...)\u001b[0m\n\u001b[1;32m   1586\u001b[0m \u001b[39m        is reached.\u001b[39;00m\n\u001b[1;32m   1587\u001b[0m \u001b[39m    \"\"\"\u001b[39;00m\n\u001b[0;32m-> 1589\u001b[0m     axr \u001b[39m=\u001b[39m solver(ex_r)\n\u001b[1;32m   1591\u001b[0m     \u001b[39m# Regular random effects\u001b[39;00m\n\u001b[1;32m   1592\u001b[0m     jj \u001b[39m=\u001b[39m \u001b[39m0\u001b[39m\n",
      "File \u001b[0;32m/opt/anaconda3/lib/python3.9/site-packages/statsmodels/regression/mixed_linear_model.py:508\u001b[0m, in \u001b[0;36m_smw_solver.<locals>.solver\u001b[0;34m(rhs)\u001b[0m\n\u001b[1;32m    506\u001b[0m ql \u001b[39m=\u001b[39m np\u001b[39m.\u001b[39mdot(qmati, rhs)\n\u001b[1;32m    507\u001b[0m ql \u001b[39m=\u001b[39m np\u001b[39m.\u001b[39mdot(A, ql)\n\u001b[0;32m--> 508\u001b[0m \u001b[39mreturn\u001b[39;00m rhs \u001b[39m/\u001b[39m s \u001b[39m-\u001b[39m ql \u001b[39m/\u001b[39;49m s\u001b[39m*\u001b[39;49m\u001b[39m*\u001b[39;49m\u001b[39m2\u001b[39;49m\n",
      "\u001b[0;31mKeyboardInterrupt\u001b[0m: "
     ]
    }
   ],
   "source": [
    "mod = smf.mixedlm(formula=\"support_index ~ trust_index + gender  + education_above_med + C(age_group) + urban + poor\", data=support_df,  groups=\"county\", re_formula=\"1\", vc_formula={\"group2\": \"1 + C(hhid)\",\"group3\":\"1 + C(individual_id)\"})\n",
    "res = mod.fit()\n",
    "print(res.summary())"
   ]
  },
  {
   "cell_type": "code",
   "execution_count": 188,
   "metadata": {},
   "outputs": [],
   "source": [
    "formula = \"s10_prevmeas_1_enc ~ trust_index + gender + trust_index + gender  + education_above_med + C(age_group) + urban + poor + trust_people \"\n",
    "mod1 = smf.glm(formula=formula, data=support_df,\n",
    "               family=sm.families.Binomial()).fit()\n",
    "pred1 = mod1.get_prediction(exog=nd)\n",
    "prob = pred1.predicted_mean\n",
    "ci = pred1.conf_int()\n",
    "lower = [prob[0] - ci[0,0], prob[1] - ci[1,0]]\n",
    "upper = [ci[0,1] - prob[0], ci[1,1] - prob[1]]"
   ]
  },
  {
   "cell_type": "code",
   "execution_count": 191,
   "metadata": {},
   "outputs": [
    {
     "name": "stdout",
     "output_type": "stream",
     "text": [
      "[0.65904307 0.8663332 ]\n",
      "(array([13.81482945, 35.41434151]), array([2.07444960e-043, 1.02718211e-274]))\n",
      "[0.09860808053093795, 0.055585396996423175] [0.08652968985650533, 0.04112292676951623]\n"
     ]
    }
   ],
   "source": [
    "print(prob)\n",
    "print(pred1.t_test())\n",
    "print(lower, upper)"
   ]
  },
  {
   "cell_type": "code",
   "execution_count": 192,
   "metadata": {},
   "outputs": [],
   "source": [
    "formula = \"s10_prevmeas_2_enc ~ trust_index + gender + trust_index + gender  + education_above_med + C(age_group) + urban + poor + ishead + trust_people\"\n",
    "mod2 = smf.glm(formula=formula, data=support_df,\n",
    "               family=sm.families.Binomial()).fit()\n",
    "pred2 = mod2.get_prediction(exog=nd)\n",
    "prob2 = pred2.predicted_mean\n",
    "ci = pred2.conf_int()\n",
    "lower_2 = [prob2[0] - ci[0,0], prob2[1] - ci[1,0]]\n",
    "upper_2 = [ci[0,1] - prob2[0], ci[1,1] - prob2[1]]"
   ]
  },
  {
   "cell_type": "code",
   "execution_count": 193,
   "metadata": {},
   "outputs": [
    {
     "name": "stdout",
     "output_type": "stream",
     "text": [
      "[0.59716079 0.80941414]\n",
      "(array([12.43162273, 26.69362538]), array([1.76024414e-035, 5.58132978e-157]))\n",
      "[0.09659128820920371, 0.0665418021370544] [0.08960019775438954, 0.052521933364782836]\n"
     ]
    }
   ],
   "source": [
    "print(prob2)\n",
    "print(pred2.t_test())\n",
    "print(lower_2, upper_2)"
   ]
  },
  {
   "cell_type": "code",
   "execution_count": 181,
   "metadata": {},
   "outputs": [],
   "source": [
    "formula = \"s10_prevmeas_3_enc ~ trust_index + gender + trust_index + gender  + education_above_med + C(age_group) + urban + poor + ishead + trust_people\"\n",
    "mod3 = smf.glm(formula=formula, data=support_df,\n",
    "               family=sm.families.Binomial()).fit()\n",
    "pred3 = mod3.get_prediction(exog=nd)\n",
    "prob3 = pred3.predicted_mean\n",
    "ci = pred3.conf_int()\n",
    "lower_3 = [prob3[0] - ci[0,0], prob3[1] - ci[1,0]]\n",
    "upper_3 = [ci[0,1] - prob3[0], ci[1,1] - prob3[1]]"
   ]
  },
  {
   "cell_type": "code",
   "execution_count": 194,
   "metadata": {},
   "outputs": [
    {
     "name": "stdout",
     "output_type": "stream",
     "text": [
      "[0.60181526 0.82334349]\n",
      "(array([12.38747325, 28.31542549]), array([3.05518601e-035, 2.23194735e-176]))\n",
      "[0.09789594950882374, 0.06431906912825514] [0.0903776308413945, 0.050015926153961]\n"
     ]
    }
   ],
   "source": [
    "print(prob3)\n",
    "print(pred3.t_test())\n",
    "print(lower_3, upper_3)"
   ]
  },
  {
   "cell_type": "code",
   "execution_count": 195,
   "metadata": {},
   "outputs": [],
   "source": [
    "formula = \"s10_prevmeas_4_enc ~ trust_index + gender + trust_index + gender  + education_above_med + C(age_group) + urban + poor + ishead + trust_people\"\n",
    "mod4 = smf.glm(formula=formula, data=support_df,\n",
    "               family=sm.families.Binomial()).fit()\n",
    "pred4 = mod4.get_prediction(exog=nd)\n",
    "prob4 = pred4.predicted_mean\n",
    "ci = pred4.conf_int()\n",
    "lower_4 = [prob4[0] - ci[0,0], prob4[1] - ci[1,0]]\n",
    "upper_4 = [ci[0,1] - prob4[0], ci[1,1] - prob4[1]]"
   ]
  },
  {
   "cell_type": "code",
   "execution_count": 199,
   "metadata": {},
   "outputs": [
    {
     "name": "stdout",
     "output_type": "stream",
     "text": [
      "[0.38142561 0.49642654]\n",
      "(array([12.082501  , 15.26842164]), array([1.30683330e-33, 1.24141578e-52]))\n",
      "[0.05967577300003851, 0.06332464977566271] [0.06348361391477847, 0.0634395003498428]\n"
     ]
    }
   ],
   "source": [
    "print(prob4)\n",
    "print(pred4.t_test())\n",
    "print(lower_4, upper_4)"
   ]
  },
  {
   "cell_type": "code",
   "execution_count": 197,
   "metadata": {},
   "outputs": [
    {
     "data": {
      "image/png": "[encoded data removed]",
      "text/plain": [
       "<Figure size 684x540 with 4 Axes>"
      ]
     },
     "metadata": {},
     "output_type": "display_data"
    }
   ],
   "source": [
    "fig, axs = plt.subplots(1, 4, constrained_layout=True)\n",
    "fig.set_size_inches(9.5,7.5, forward=True)\n",
    "fig.suptitle(\"Predicted probabilities of support vs Levels of Trust in Govt\")\n",
    "axs[0].set_ylabel('Predicted probabilities of support')\n",
    "\n",
    "axs[0].errorbar(x = [\"Low Trust\",\"High Trust\"], y = prob, \n",
    "             yerr=[lower, upper], fmt='ok', capsize=3)\n",
    "axs[0].set_xlabel(\"Wearing Masks\")\n",
    "\n",
    "axs[1].errorbar(x = [\"Low Trust\",\"High Trust\"], y = prob2, \n",
    "             yerr=[lower_2, upper_2], fmt='ok', capsize=3)\n",
    "axs[1].set_xlabel(\"Washing Hands\")\n",
    "\n",
    "\n",
    "axs[2].errorbar(x = [\"Low Trust\",\"High Trust\"], y = prob3, \n",
    "             yerr=[lower_3, upper_3], fmt='ok',capsize=3)\n",
    "axs[2].set_xlabel(\"Social Distancing\")\n",
    "\n",
    "axs[3].errorbar(x = [\"Low Trust\",\"High Trust\"], y = prob4, \n",
    "             yerr=[lower_4, upper_4], fmt='ok',capsize=3)\n",
    "axs[3].set_xlabel(\"Getting Vaccinated\")\n",
    "plt.show()"
   ]
  },
  {
   "cell_type": "markdown",
   "metadata": {},
   "source": [
    "### RQ3: Do people who trust the government less more likely to be susceptible to COVID myths and conspiracy theories?"
   ]
  },
  {
   "cell_type": "code",
   "execution_count": 50,
   "metadata": {},
   "outputs": [],
   "source": [
    "myths = [\"s10_knowledge_1\",\"s10_knowledge_3\",\"s10_knowledge_2\",\"s10_knowledge_4\",\"s10_knowledge_5\", \"s10_knowledge_6\", \"s10_knowledge_7\", \"s10_knowledge_9\",\"s10_knowledge_10\"]"
   ]
  },
  {
   "cell_type": "code",
   "execution_count": 51,
   "metadata": {},
   "outputs": [],
   "source": [
    "myth_df = hh_adults_all_wvs"
   ]
  },
  {
   "cell_type": "code",
   "execution_count": 52,
   "metadata": {},
   "outputs": [],
   "source": [
    "t = hh_df[(hh_df[\"wave\"]==5) & (hh_df[\"hhid\"]==1)][myths].values"
   ]
  },
  {
   "cell_type": "code",
   "execution_count": 53,
   "metadata": {},
   "outputs": [],
   "source": [
    "all_myths = []\n",
    "def get_myths_believed(row,df):\n",
    "    #list to keep track of myths\n",
    "    wave = row[\"wave\"]\n",
    "    hhid = row[\"hhid\"]\n",
    "    i_myths = hh_df[(hh_df[\"wave\"]==wave) & (hh_df[\"hhid\"]==hhid)][myths].values[0]\n",
    "    all_myths.append(i_myths)"
   ]
  },
  {
   "cell_type": "code",
   "execution_count": 54,
   "metadata": {},
   "outputs": [
    {
     "data": {
      "text/plain": [
       "1        None\n",
       "3        None\n",
       "4        None\n",
       "6        None\n",
       "18       None\n",
       "         ... \n",
       "96862    None\n",
       "96866    None\n",
       "96868    None\n",
       "96870    None\n",
       "96874    None\n",
       "Length: 19980, dtype: object"
      ]
     },
     "execution_count": 54,
     "metadata": {},
     "output_type": "execute_result"
    }
   ],
   "source": [
    "myth_df.apply(lambda row: get_myths_believed(row, hh_df), axis=1)"
   ]
  },
  {
   "cell_type": "code",
   "execution_count": 55,
   "metadata": {},
   "outputs": [
    {
     "name": "stderr",
     "output_type": "stream",
     "text": [
      "/var/folders/pz/qy3yq1t97s7g1m5s3hbsqjpc0000gn/T/ipykernel_32418/3499539377.py:1: SettingWithCopyWarning: \n",
      "A value is trying to be set on a copy of a slice from a DataFrame.\n",
      "Try using .loc[row_indexer,col_indexer] = value instead\n",
      "\n",
      "See the caveats in the documentation: https://pandas.pydata.org/pandas-docs/stable/user_guide/indexing.html#returning-a-view-versus-a-copy\n",
      "  myth_df[myths] = all_myths\n",
      "/var/folders/pz/qy3yq1t97s7g1m5s3hbsqjpc0000gn/T/ipykernel_32418/3499539377.py:1: SettingWithCopyWarning: \n",
      "A value is trying to be set on a copy of a slice from a DataFrame.\n",
      "Try using .loc[row_indexer,col_indexer] = value instead\n",
      "\n",
      "See the caveats in the documentation: https://pandas.pydata.org/pandas-docs/stable/user_guide/indexing.html#returning-a-view-versus-a-copy\n",
      "  myth_df[myths] = all_myths\n",
      "/var/folders/pz/qy3yq1t97s7g1m5s3hbsqjpc0000gn/T/ipykernel_32418/3499539377.py:1: SettingWithCopyWarning: \n",
      "A value is trying to be set on a copy of a slice from a DataFrame.\n",
      "Try using .loc[row_indexer,col_indexer] = value instead\n",
      "\n",
      "See the caveats in the documentation: https://pandas.pydata.org/pandas-docs/stable/user_guide/indexing.html#returning-a-view-versus-a-copy\n",
      "  myth_df[myths] = all_myths\n",
      "/var/folders/pz/qy3yq1t97s7g1m5s3hbsqjpc0000gn/T/ipykernel_32418/3499539377.py:1: SettingWithCopyWarning: \n",
      "A value is trying to be set on a copy of a slice from a DataFrame.\n",
      "Try using .loc[row_indexer,col_indexer] = value instead\n",
      "\n",
      "See the caveats in the documentation: https://pandas.pydata.org/pandas-docs/stable/user_guide/indexing.html#returning-a-view-versus-a-copy\n",
      "  myth_df[myths] = all_myths\n",
      "/var/folders/pz/qy3yq1t97s7g1m5s3hbsqjpc0000gn/T/ipykernel_32418/3499539377.py:1: SettingWithCopyWarning: \n",
      "A value is trying to be set on a copy of a slice from a DataFrame.\n",
      "Try using .loc[row_indexer,col_indexer] = value instead\n",
      "\n",
      "See the caveats in the documentation: https://pandas.pydata.org/pandas-docs/stable/user_guide/indexing.html#returning-a-view-versus-a-copy\n",
      "  myth_df[myths] = all_myths\n",
      "/var/folders/pz/qy3yq1t97s7g1m5s3hbsqjpc0000gn/T/ipykernel_32418/3499539377.py:1: SettingWithCopyWarning: \n",
      "A value is trying to be set on a copy of a slice from a DataFrame.\n",
      "Try using .loc[row_indexer,col_indexer] = value instead\n",
      "\n",
      "See the caveats in the documentation: https://pandas.pydata.org/pandas-docs/stable/user_guide/indexing.html#returning-a-view-versus-a-copy\n",
      "  myth_df[myths] = all_myths\n",
      "/var/folders/pz/qy3yq1t97s7g1m5s3hbsqjpc0000gn/T/ipykernel_32418/3499539377.py:1: SettingWithCopyWarning: \n",
      "A value is trying to be set on a copy of a slice from a DataFrame.\n",
      "Try using .loc[row_indexer,col_indexer] = value instead\n",
      "\n",
      "See the caveats in the documentation: https://pandas.pydata.org/pandas-docs/stable/user_guide/indexing.html#returning-a-view-versus-a-copy\n",
      "  myth_df[myths] = all_myths\n",
      "/var/folders/pz/qy3yq1t97s7g1m5s3hbsqjpc0000gn/T/ipykernel_32418/3499539377.py:1: SettingWithCopyWarning: \n",
      "A value is trying to be set on a copy of a slice from a DataFrame.\n",
      "Try using .loc[row_indexer,col_indexer] = value instead\n",
      "\n",
      "See the caveats in the documentation: https://pandas.pydata.org/pandas-docs/stable/user_guide/indexing.html#returning-a-view-versus-a-copy\n",
      "  myth_df[myths] = all_myths\n",
      "/var/folders/pz/qy3yq1t97s7g1m5s3hbsqjpc0000gn/T/ipykernel_32418/3499539377.py:1: SettingWithCopyWarning: \n",
      "A value is trying to be set on a copy of a slice from a DataFrame.\n",
      "Try using .loc[row_indexer,col_indexer] = value instead\n",
      "\n",
      "See the caveats in the documentation: https://pandas.pydata.org/pandas-docs/stable/user_guide/indexing.html#returning-a-view-versus-a-copy\n",
      "  myth_df[myths] = all_myths\n"
     ]
    }
   ],
   "source": [
    "myth_df[myths] = all_myths"
   ]
  },
  {
   "cell_type": "code",
   "execution_count": 56,
   "metadata": {},
   "outputs": [
    {
     "data": {
      "text/html": [
       "<div>\n",
       "<style scoped>\n",
       "    .dataframe tbody tr th:only-of-type {\n",
       "        vertical-align: middle;\n",
       "    }\n",
       "\n",
       "    .dataframe tbody tr th {\n",
       "        vertical-align: top;\n",
       "    }\n",
       "\n",
       "    .dataframe thead th {\n",
       "        text-align: right;\n",
       "    }\n",
       "</style>\n",
       "<table border=\"1\" class=\"dataframe\">\n",
       "  <thead>\n",
       "    <tr style=\"text-align: right;\">\n",
       "      <th></th>\n",
       "      <th>s10_knowledge_1</th>\n",
       "      <th>s10_knowledge_3</th>\n",
       "      <th>s10_knowledge_2</th>\n",
       "      <th>s10_knowledge_4</th>\n",
       "      <th>s10_knowledge_5</th>\n",
       "      <th>s10_knowledge_6</th>\n",
       "      <th>s10_knowledge_7</th>\n",
       "      <th>s10_knowledge_9</th>\n",
       "      <th>s10_knowledge_10</th>\n",
       "    </tr>\n",
       "  </thead>\n",
       "  <tbody>\n",
       "    <tr>\n",
       "      <th>count</th>\n",
       "      <td>12310.000000</td>\n",
       "      <td>12620.000000</td>\n",
       "      <td>12604.000000</td>\n",
       "      <td>12612.000000</td>\n",
       "      <td>12498.000000</td>\n",
       "      <td>12589.000000</td>\n",
       "      <td>12558.00000</td>\n",
       "      <td>12367.000000</td>\n",
       "      <td>12598.000000</td>\n",
       "    </tr>\n",
       "    <tr>\n",
       "      <th>mean</th>\n",
       "      <td>0.427782</td>\n",
       "      <td>0.921236</td>\n",
       "      <td>0.054586</td>\n",
       "      <td>0.039328</td>\n",
       "      <td>0.167307</td>\n",
       "      <td>0.052586</td>\n",
       "      <td>0.05614</td>\n",
       "      <td>0.109242</td>\n",
       "      <td>0.137165</td>\n",
       "    </tr>\n",
       "    <tr>\n",
       "      <th>std</th>\n",
       "      <td>0.494777</td>\n",
       "      <td>0.269381</td>\n",
       "      <td>0.227179</td>\n",
       "      <td>0.194381</td>\n",
       "      <td>0.373264</td>\n",
       "      <td>0.223214</td>\n",
       "      <td>0.23020</td>\n",
       "      <td>0.311956</td>\n",
       "      <td>0.344035</td>\n",
       "    </tr>\n",
       "    <tr>\n",
       "      <th>min</th>\n",
       "      <td>0.000000</td>\n",
       "      <td>0.000000</td>\n",
       "      <td>0.000000</td>\n",
       "      <td>0.000000</td>\n",
       "      <td>0.000000</td>\n",
       "      <td>0.000000</td>\n",
       "      <td>0.00000</td>\n",
       "      <td>0.000000</td>\n",
       "      <td>0.000000</td>\n",
       "    </tr>\n",
       "    <tr>\n",
       "      <th>25%</th>\n",
       "      <td>0.000000</td>\n",
       "      <td>1.000000</td>\n",
       "      <td>0.000000</td>\n",
       "      <td>0.000000</td>\n",
       "      <td>0.000000</td>\n",
       "      <td>0.000000</td>\n",
       "      <td>0.00000</td>\n",
       "      <td>0.000000</td>\n",
       "      <td>0.000000</td>\n",
       "    </tr>\n",
       "    <tr>\n",
       "      <th>50%</th>\n",
       "      <td>0.000000</td>\n",
       "      <td>1.000000</td>\n",
       "      <td>0.000000</td>\n",
       "      <td>0.000000</td>\n",
       "      <td>0.000000</td>\n",
       "      <td>0.000000</td>\n",
       "      <td>0.00000</td>\n",
       "      <td>0.000000</td>\n",
       "      <td>0.000000</td>\n",
       "    </tr>\n",
       "    <tr>\n",
       "      <th>75%</th>\n",
       "      <td>1.000000</td>\n",
       "      <td>1.000000</td>\n",
       "      <td>0.000000</td>\n",
       "      <td>0.000000</td>\n",
       "      <td>0.000000</td>\n",
       "      <td>0.000000</td>\n",
       "      <td>0.00000</td>\n",
       "      <td>0.000000</td>\n",
       "      <td>0.000000</td>\n",
       "    </tr>\n",
       "    <tr>\n",
       "      <th>max</th>\n",
       "      <td>1.000000</td>\n",
       "      <td>1.000000</td>\n",
       "      <td>1.000000</td>\n",
       "      <td>1.000000</td>\n",
       "      <td>1.000000</td>\n",
       "      <td>1.000000</td>\n",
       "      <td>1.00000</td>\n",
       "      <td>1.000000</td>\n",
       "      <td>1.000000</td>\n",
       "    </tr>\n",
       "  </tbody>\n",
       "</table>\n",
       "</div>"
      ],
      "text/plain": [
       "       s10_knowledge_1  s10_knowledge_3  s10_knowledge_2  s10_knowledge_4  \\\n",
       "count     12310.000000     12620.000000     12604.000000     12612.000000   \n",
       "mean          0.427782         0.921236         0.054586         0.039328   \n",
       "std           0.494777         0.269381         0.227179         0.194381   \n",
       "min           0.000000         0.000000         0.000000         0.000000   \n",
       "25%           0.000000         1.000000         0.000000         0.000000   \n",
       "50%           0.000000         1.000000         0.000000         0.000000   \n",
       "75%           1.000000         1.000000         0.000000         0.000000   \n",
       "max           1.000000         1.000000         1.000000         1.000000   \n",
       "\n",
       "       s10_knowledge_5  s10_knowledge_6  s10_knowledge_7  s10_knowledge_9  \\\n",
       "count     12498.000000     12589.000000      12558.00000     12367.000000   \n",
       "mean          0.167307         0.052586          0.05614         0.109242   \n",
       "std           0.373264         0.223214          0.23020         0.311956   \n",
       "min           0.000000         0.000000          0.00000         0.000000   \n",
       "25%           0.000000         0.000000          0.00000         0.000000   \n",
       "50%           0.000000         0.000000          0.00000         0.000000   \n",
       "75%           0.000000         0.000000          0.00000         0.000000   \n",
       "max           1.000000         1.000000          1.00000         1.000000   \n",
       "\n",
       "       s10_knowledge_10  \n",
       "count      12598.000000  \n",
       "mean           0.137165  \n",
       "std            0.344035  \n",
       "min            0.000000  \n",
       "25%            0.000000  \n",
       "50%            0.000000  \n",
       "75%            0.000000  \n",
       "max            1.000000  "
      ]
     },
     "execution_count": 56,
     "metadata": {},
     "output_type": "execute_result"
    }
   ],
   "source": [
    "myth_df[myths].describe()"
   ]
  },
  {
   "cell_type": "code",
   "execution_count": 59,
   "metadata": {},
   "outputs": [
    {
     "data": {
      "text/html": [
       "<div>\n",
       "<style scoped>\n",
       "    .dataframe tbody tr th:only-of-type {\n",
       "        vertical-align: middle;\n",
       "    }\n",
       "\n",
       "    .dataframe tbody tr th {\n",
       "        vertical-align: top;\n",
       "    }\n",
       "\n",
       "    .dataframe thead tr th {\n",
       "        text-align: left;\n",
       "    }\n",
       "\n",
       "    .dataframe thead tr:last-of-type th {\n",
       "        text-align: right;\n",
       "    }\n",
       "</style>\n",
       "<table border=\"1\" class=\"dataframe\">\n",
       "  <thead>\n",
       "    <tr>\n",
       "      <th></th>\n",
       "      <th colspan=\"3\" halign=\"left\">s10_knowledge_1</th>\n",
       "      <th colspan=\"3\" halign=\"left\">s10_knowledge_3</th>\n",
       "      <th colspan=\"3\" halign=\"left\">s10_knowledge_2</th>\n",
       "      <th>s10_knowledge_4</th>\n",
       "      <th>...</th>\n",
       "      <th>s10_knowledge_6</th>\n",
       "      <th colspan=\"3\" halign=\"left\">s10_knowledge_7</th>\n",
       "      <th colspan=\"3\" halign=\"left\">s10_knowledge_9</th>\n",
       "      <th colspan=\"3\" halign=\"left\">s10_knowledge_10</th>\n",
       "    </tr>\n",
       "    <tr>\n",
       "      <th></th>\n",
       "      <th>mean</th>\n",
       "      <th>std</th>\n",
       "      <th>count</th>\n",
       "      <th>mean</th>\n",
       "      <th>std</th>\n",
       "      <th>count</th>\n",
       "      <th>mean</th>\n",
       "      <th>std</th>\n",
       "      <th>count</th>\n",
       "      <th>mean</th>\n",
       "      <th>...</th>\n",
       "      <th>count</th>\n",
       "      <th>mean</th>\n",
       "      <th>std</th>\n",
       "      <th>count</th>\n",
       "      <th>mean</th>\n",
       "      <th>std</th>\n",
       "      <th>count</th>\n",
       "      <th>mean</th>\n",
       "      <th>std</th>\n",
       "      <th>count</th>\n",
       "    </tr>\n",
       "    <tr>\n",
       "      <th>wave</th>\n",
       "      <th></th>\n",
       "      <th></th>\n",
       "      <th></th>\n",
       "      <th></th>\n",
       "      <th></th>\n",
       "      <th></th>\n",
       "      <th></th>\n",
       "      <th></th>\n",
       "      <th></th>\n",
       "      <th></th>\n",
       "      <th></th>\n",
       "      <th></th>\n",
       "      <th></th>\n",
       "      <th></th>\n",
       "      <th></th>\n",
       "      <th></th>\n",
       "      <th></th>\n",
       "      <th></th>\n",
       "      <th></th>\n",
       "      <th></th>\n",
       "      <th></th>\n",
       "    </tr>\n",
       "  </thead>\n",
       "  <tbody>\n",
       "    <tr>\n",
       "      <th>1</th>\n",
       "      <td>NaN</td>\n",
       "      <td>NaN</td>\n",
       "      <td>0</td>\n",
       "      <td>NaN</td>\n",
       "      <td>NaN</td>\n",
       "      <td>0</td>\n",
       "      <td>NaN</td>\n",
       "      <td>NaN</td>\n",
       "      <td>0</td>\n",
       "      <td>NaN</td>\n",
       "      <td>...</td>\n",
       "      <td>0</td>\n",
       "      <td>NaN</td>\n",
       "      <td>NaN</td>\n",
       "      <td>0</td>\n",
       "      <td>NaN</td>\n",
       "      <td>NaN</td>\n",
       "      <td>0</td>\n",
       "      <td>NaN</td>\n",
       "      <td>NaN</td>\n",
       "      <td>0</td>\n",
       "    </tr>\n",
       "    <tr>\n",
       "      <th>2</th>\n",
       "      <td>NaN</td>\n",
       "      <td>NaN</td>\n",
       "      <td>0</td>\n",
       "      <td>NaN</td>\n",
       "      <td>NaN</td>\n",
       "      <td>0</td>\n",
       "      <td>NaN</td>\n",
       "      <td>NaN</td>\n",
       "      <td>0</td>\n",
       "      <td>NaN</td>\n",
       "      <td>...</td>\n",
       "      <td>0</td>\n",
       "      <td>NaN</td>\n",
       "      <td>NaN</td>\n",
       "      <td>0</td>\n",
       "      <td>NaN</td>\n",
       "      <td>NaN</td>\n",
       "      <td>0</td>\n",
       "      <td>NaN</td>\n",
       "      <td>NaN</td>\n",
       "      <td>0</td>\n",
       "    </tr>\n",
       "    <tr>\n",
       "      <th>3</th>\n",
       "      <td>NaN</td>\n",
       "      <td>NaN</td>\n",
       "      <td>0</td>\n",
       "      <td>NaN</td>\n",
       "      <td>NaN</td>\n",
       "      <td>0</td>\n",
       "      <td>NaN</td>\n",
       "      <td>NaN</td>\n",
       "      <td>0</td>\n",
       "      <td>NaN</td>\n",
       "      <td>...</td>\n",
       "      <td>0</td>\n",
       "      <td>NaN</td>\n",
       "      <td>NaN</td>\n",
       "      <td>0</td>\n",
       "      <td>NaN</td>\n",
       "      <td>NaN</td>\n",
       "      <td>0</td>\n",
       "      <td>NaN</td>\n",
       "      <td>NaN</td>\n",
       "      <td>0</td>\n",
       "    </tr>\n",
       "    <tr>\n",
       "      <th>4</th>\n",
       "      <td>0.355537</td>\n",
       "      <td>0.478775</td>\n",
       "      <td>2402</td>\n",
       "      <td>0.870223</td>\n",
       "      <td>0.336121</td>\n",
       "      <td>2643</td>\n",
       "      <td>0.061836</td>\n",
       "      <td>0.240903</td>\n",
       "      <td>2636</td>\n",
       "      <td>0.049734</td>\n",
       "      <td>...</td>\n",
       "      <td>2616</td>\n",
       "      <td>0.077190</td>\n",
       "      <td>0.266945</td>\n",
       "      <td>2591</td>\n",
       "      <td>0.112278</td>\n",
       "      <td>0.315772</td>\n",
       "      <td>2476</td>\n",
       "      <td>0.139535</td>\n",
       "      <td>0.346570</td>\n",
       "      <td>2623</td>\n",
       "    </tr>\n",
       "    <tr>\n",
       "      <th>5</th>\n",
       "      <td>0.350701</td>\n",
       "      <td>0.477245</td>\n",
       "      <td>4280</td>\n",
       "      <td>0.900277</td>\n",
       "      <td>0.299665</td>\n",
       "      <td>4332</td>\n",
       "      <td>0.062182</td>\n",
       "      <td>0.241514</td>\n",
       "      <td>4326</td>\n",
       "      <td>0.048004</td>\n",
       "      <td>...</td>\n",
       "      <td>4331</td>\n",
       "      <td>0.053885</td>\n",
       "      <td>0.225817</td>\n",
       "      <td>4324</td>\n",
       "      <td>0.101647</td>\n",
       "      <td>0.302219</td>\n",
       "      <td>4250</td>\n",
       "      <td>0.180328</td>\n",
       "      <td>0.384505</td>\n",
       "      <td>4331</td>\n",
       "    </tr>\n",
       "    <tr>\n",
       "      <th>6</th>\n",
       "      <td>0.507327</td>\n",
       "      <td>0.500034</td>\n",
       "      <td>2866</td>\n",
       "      <td>0.988166</td>\n",
       "      <td>0.108159</td>\n",
       "      <td>2873</td>\n",
       "      <td>0.038314</td>\n",
       "      <td>0.191987</td>\n",
       "      <td>2871</td>\n",
       "      <td>0.005225</td>\n",
       "      <td>...</td>\n",
       "      <td>2870</td>\n",
       "      <td>0.027865</td>\n",
       "      <td>0.164614</td>\n",
       "      <td>2871</td>\n",
       "      <td>0.104878</td>\n",
       "      <td>0.306450</td>\n",
       "      <td>2870</td>\n",
       "      <td>0.133403</td>\n",
       "      <td>0.340069</td>\n",
       "      <td>2871</td>\n",
       "    </tr>\n",
       "    <tr>\n",
       "      <th>7</th>\n",
       "      <td>0.527516</td>\n",
       "      <td>0.499333</td>\n",
       "      <td>2762</td>\n",
       "      <td>0.933261</td>\n",
       "      <td>0.249614</td>\n",
       "      <td>2772</td>\n",
       "      <td>0.052689</td>\n",
       "      <td>0.223451</td>\n",
       "      <td>2771</td>\n",
       "      <td>0.051190</td>\n",
       "      <td>...</td>\n",
       "      <td>2772</td>\n",
       "      <td>0.069264</td>\n",
       "      <td>0.253948</td>\n",
       "      <td>2772</td>\n",
       "      <td>0.122699</td>\n",
       "      <td>0.328151</td>\n",
       "      <td>2771</td>\n",
       "      <td>0.071403</td>\n",
       "      <td>0.257543</td>\n",
       "      <td>2773</td>\n",
       "    </tr>\n",
       "  </tbody>\n",
       "</table>\n",
       "<p>7 rows × 27 columns</p>\n",
       "</div>"
      ],
      "text/plain": [
       "     s10_knowledge_1                 s10_knowledge_3                  \\\n",
       "                mean       std count            mean       std count   \n",
       "wave                                                                   \n",
       "1                NaN       NaN     0             NaN       NaN     0   \n",
       "2                NaN       NaN     0             NaN       NaN     0   \n",
       "3                NaN       NaN     0             NaN       NaN     0   \n",
       "4           0.355537  0.478775  2402        0.870223  0.336121  2643   \n",
       "5           0.350701  0.477245  4280        0.900277  0.299665  4332   \n",
       "6           0.507327  0.500034  2866        0.988166  0.108159  2873   \n",
       "7           0.527516  0.499333  2762        0.933261  0.249614  2772   \n",
       "\n",
       "     s10_knowledge_2                 s10_knowledge_4  ... s10_knowledge_6  \\\n",
       "                mean       std count            mean  ...           count   \n",
       "wave                                                  ...                   \n",
       "1                NaN       NaN     0             NaN  ...               0   \n",
       "2                NaN       NaN     0             NaN  ...               0   \n",
       "3                NaN       NaN     0             NaN  ...               0   \n",
       "4           0.061836  0.240903  2636        0.049734  ...            2616   \n",
       "5           0.062182  0.241514  4326        0.048004  ...            4331   \n",
       "6           0.038314  0.191987  2871        0.005225  ...            2870   \n",
       "7           0.052689  0.223451  2771        0.051190  ...            2772   \n",
       "\n",
       "     s10_knowledge_7                 s10_knowledge_9                  \\\n",
       "                mean       std count            mean       std count   \n",
       "wave                                                                   \n",
       "1                NaN       NaN     0             NaN       NaN     0   \n",
       "2                NaN       NaN     0             NaN       NaN     0   \n",
       "3                NaN       NaN     0             NaN       NaN     0   \n",
       "4           0.077190  0.266945  2591        0.112278  0.315772  2476   \n",
       "5           0.053885  0.225817  4324        0.101647  0.302219  4250   \n",
       "6           0.027865  0.164614  2871        0.104878  0.306450  2870   \n",
       "7           0.069264  0.253948  2772        0.122699  0.328151  2771   \n",
       "\n",
       "     s10_knowledge_10                  \n",
       "                 mean       std count  \n",
       "wave                                   \n",
       "1                 NaN       NaN     0  \n",
       "2                 NaN       NaN     0  \n",
       "3                 NaN       NaN     0  \n",
       "4            0.139535  0.346570  2623  \n",
       "5            0.180328  0.384505  4331  \n",
       "6            0.133403  0.340069  2871  \n",
       "7            0.071403  0.257543  2773  \n",
       "\n",
       "[7 rows x 27 columns]"
      ]
     },
     "execution_count": 59,
     "metadata": {},
     "output_type": "execute_result"
    }
   ],
   "source": [
    "myth_df.groupby(\"wave\")[myths].agg([\"mean\",\"std\",\"count\"])"
   ]
  },
  {
   "cell_type": "code",
   "execution_count": 1158,
   "metadata": {},
   "outputs": [],
   "source": [
    "def calculate_no_of_believed_myths(row):\n",
    "    no_of_believed_myths = 0\n",
    "    for s in myths:\n",
    "        if row[s] == 1:\n",
    "            no_of_believed_myths+=1\n",
    "    return no_of_believed_myths"
   ]
  },
  {
   "cell_type": "code",
   "execution_count": 1159,
   "metadata": {},
   "outputs": [],
   "source": [
    "myth_df[\"no_of_believed_myths\"] = myth_df.apply(lambda row: calculate_no_of_believed_myths(row), axis=1)"
   ]
  },
  {
   "cell_type": "code",
   "execution_count": 1160,
   "metadata": {},
   "outputs": [],
   "source": [
    "myth_df[['no_of_believed_myths','trust_index']] = StandardScaler().fit_transform(myth_df[['no_of_believed_myths', 'trust_index']])"
   ]
  },
  {
   "cell_type": "code",
   "execution_count": 1182,
   "metadata": {},
   "outputs": [
    {
     "data": {
      "text/plain": [
       "1     0\n",
       "6     1\n",
       "23    2\n",
       "40    4\n",
       "42    4\n",
       "Name: individual_id, dtype: int64"
      ]
     },
     "execution_count": 1182,
     "metadata": {},
     "output_type": "execute_result"
    }
   ],
   "source": [
    "myth_df['individual_id'].head()"
   ]
  },
  {
   "cell_type": "code",
   "execution_count": 1198,
   "metadata": {},
   "outputs": [],
   "source": [
    "test = myth_df.sample(1000)"
   ]
  },
  {
   "cell_type": "code",
   "execution_count": 1266,
   "metadata": {},
   "outputs": [
    {
     "name": "stdout",
     "output_type": "stream",
     "text": [
      "                  Mixed Linear Model Regression Results\n",
      "==========================================================================\n",
      "Model:                MixedLM   Dependent Variable:   no_of_believed_myths\n",
      "No. Observations:     12588     Method:               REML                \n",
      "No. Groups:           47        Scale:                0.9293              \n",
      "Min. group size:      61        Log-Likelihood:       -17635.4332         \n",
      "Max. group size:      768       Converged:            No                  \n",
      "Mean group size:      267.8                                               \n",
      "--------------------------------------------------------------------------\n",
      "                                Coef.  Std.Err.   z    P>|z| [0.025 0.975]\n",
      "--------------------------------------------------------------------------\n",
      "Intercept                        0.013    0.059  0.224 0.823 -0.102  0.129\n",
      "C(age_group)[T.Age 31-40]       -0.011    0.025 -0.450 0.653 -0.059  0.037\n",
      "C(age_group)[T.Age 41-50]       -0.009    0.027 -0.337 0.736 -0.062  0.044\n",
      "C(age_group)[T.Age 51-60]       -0.014    0.032 -0.456 0.648 -0.077  0.048\n",
      "C(age_group)[T.Age 61 or above] -0.072    0.034 -2.143 0.032 -0.138 -0.006\n",
      "trust_index                      0.202    0.009 23.019 0.000  0.184  0.219\n",
      "gender                           0.018    0.019  0.954 0.340 -0.019  0.056\n",
      "education_above_med             -0.067    0.025 -2.706 0.007 -0.116 -0.019\n",
      "urban                            0.009    0.018  0.469 0.639 -0.027  0.045\n",
      "poor                            -0.156    0.020 -7.975 0.000 -0.194 -0.118\n",
      "ishead                           0.094    0.023  4.144 0.000  0.050  0.139\n",
      "county Var                       0.110                                    \n",
      "group2 Var                       0.021    0.018                           \n",
      "group3 Var                       0.010    0.011                           \n",
      "==========================================================================\n",
      "\n"
     ]
    }
   ],
   "source": [
    "mod = smf.mixedlm(formula=\"no_of_believed_myths ~ trust_index + gender  + education_above_med + C(age_group) + urban + poor + ishead\", data=myth_df, groups=\"county\", re_formula=\"1\", vc_formula={\"group2\": \"0 + C(wave)\",\"group3\":\"0 + C(individual_id)\"}, use_sparse=True)\n",
    "res = mod.fit(method=[\"lbfgs\"])\n",
    "print(res.summary())"
   ]
  },
  {
   "cell_type": "code",
   "execution_count": null,
   "metadata": {},
   "outputs": [],
   "source": [
    "res.summary().t"
   ]
  }
 ],
 "metadata": {
  "kernelspec": {
   "display_name": "base",
   "language": "python",
   "name": "python3"
  },
  "language_info": {
   "codemirror_mode": {
    "name": "ipython",
    "version": 3
   },
   "file_extension": ".py",
   "mimetype": "text/x-python",
   "name": "python",
   "nbconvert_exporter": "python",
   "pygments_lexer": "ipython3",
   "version": "3.9.12"
  },
  "orig_nbformat": 4,
  "vscode": {
   "interpreter": {
    "hash": "40d3a090f54c6569ab1632332b64b2c03c39dcf918b08424e98f38b5ae0af88f"
   }
  }
 },
 "nbformat": 4,
 "nbformat_minor": 2
}
